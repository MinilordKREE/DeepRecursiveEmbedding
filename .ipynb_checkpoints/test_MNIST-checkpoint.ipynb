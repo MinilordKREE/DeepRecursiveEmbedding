{
 "cells": [
  {
   "cell_type": "code",
   "execution_count": null,
   "id": "ad83e8b2",
   "metadata": {},
   "outputs": [],
   "source": [
    "import torchvision\n",
    "import torchvision.transforms as transforms\n",
    "\n",
    "import numpy as np\n",
    "\n",
    "import matplotlib.pyplot as plt\n",
    "\n",
    "from DRE import DeepRecursiveEmbedding"
   ]
  },
  {
   "cell_type": "code",
   "execution_count": null,
   "id": "7143d46d",
   "metadata": {},
   "outputs": [],
   "source": [
    "transform_train = transforms.Compose([\n",
    "    transforms.ToTensor(),\n",
    "])\n",
    "x = torchvision.datasets.MNIST(root='./DRE_datasets', train=False, transform=transform_train,\n",
    "                                     download=True)\n",
    "# x_test_targets = np.int16(x_train.targets)\n",
    "x = np.array(x.data).astype('float32')  # useful for GPU accelerating\n",
    "x = x / 255.0\n",
    "x = x.reshape(x.shape[0], -1)\n",
    "\n",
    "dre = DeepRecursiveEmbedding(dre_type='fc',\n",
    "                             n_pre_epochs=100,\n",
    "                             n_recursive_epochs=50,\n",
    "                             )\n",
    "\n",
    "y = dre.fit_transform(x)"
   ]
  }
 ],
 "metadata": {
  "kernelspec": {
   "display_name": "Python 3",
   "language": "python",
   "name": "python3"
  },
  "language_info": {
   "codemirror_mode": {
    "name": "ipython",
    "version": 3
   },
   "file_extension": ".py",
   "mimetype": "text/x-python",
   "name": "python",
   "nbconvert_exporter": "python",
   "pygments_lexer": "ipython3",
   "version": "3.7.10"
  }
 },
 "nbformat": 4,
 "nbformat_minor": 5
}
