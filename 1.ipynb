{
 "cells": [
  {
   "cell_type": "code",
   "execution_count": 1,
   "metadata": {},
   "outputs": [
    {
     "ename": "ImportError",
     "evalue": "cannot import name '_utils_tsne' from partially initialized module 'DRE' (most likely due to a circular import) (c:\\Users\\KREE\\Desktop\\Project\\DeepRecursiveEmbedding\\DRE\\__init__.py)",
     "output_type": "error",
     "traceback": [
      "\u001b[1;31m---------------------------------------------------------------------------\u001b[0m",
      "\u001b[1;31mImportError\u001b[0m                               Traceback (most recent call last)",
      "Cell \u001b[1;32mIn[1], line 1\u001b[0m\n\u001b[1;32m----> 1\u001b[0m \u001b[39mfrom\u001b[39;00m \u001b[39mDRE\u001b[39;00m \u001b[39mimport\u001b[39;00m DeepRecursiveEmbedding\n",
      "File \u001b[1;32mc:\\Users\\KREE\\Desktop\\Project\\DeepRecursiveEmbedding\\DRE\\__init__.py:1\u001b[0m\n\u001b[1;32m----> 1\u001b[0m \u001b[39mfrom\u001b[39;00m \u001b[39m.\u001b[39;00m\u001b[39m_dre\u001b[39;00m \u001b[39mimport\u001b[39;00m DeepRecursiveEmbedding\n\u001b[0;32m      2\u001b[0m \u001b[39mfrom\u001b[39;00m \u001b[39m.\u001b[39;00m\u001b[39m_models\u001b[39;00m \u001b[39mimport\u001b[39;00m \u001b[39m*\u001b[39m\n\u001b[0;32m      3\u001b[0m \u001b[39mfrom\u001b[39;00m \u001b[39m.\u001b[39;00m\u001b[39m_utils_dre\u001b[39;00m \u001b[39mimport\u001b[39;00m \u001b[39m*\u001b[39m\n",
      "File \u001b[1;32mc:\\Users\\KREE\\Desktop\\Project\\DeepRecursiveEmbedding\\DRE\\_dre.py:21\u001b[0m\n\u001b[0;32m     18\u001b[0m \u001b[39mimport\u001b[39;00m \u001b[39mmatplotlib\u001b[39;00m\u001b[39m.\u001b[39;00m\u001b[39mpyplot\u001b[39;00m \u001b[39mas\u001b[39;00m \u001b[39mplt\u001b[39;00m\n\u001b[0;32m     20\u001b[0m \u001b[39mfrom\u001b[39;00m \u001b[39m.\u001b[39;00m\u001b[39m_models\u001b[39;00m \u001b[39mimport\u001b[39;00m \u001b[39m*\u001b[39m\n\u001b[1;32m---> 21\u001b[0m \u001b[39mfrom\u001b[39;00m \u001b[39m.\u001b[39;00m\u001b[39m_utils_dre\u001b[39;00m \u001b[39mimport\u001b[39;00m \u001b[39m*\u001b[39m\n\u001b[0;32m     24\u001b[0m \u001b[39m# os.environ['MKL_DEBUG_CPU_TYPE'] = '5'  # 3900x\u001b[39;00m\n\u001b[0;32m     27\u001b[0m \u001b[39mclass\u001b[39;00m \u001b[39mDeepRecursiveEmbedding\u001b[39;00m:\n",
      "File \u001b[1;32mc:\\Users\\KREE\\Desktop\\Project\\DeepRecursiveEmbedding\\DRE\\_utils_dre.py:10\u001b[0m\n\u001b[0;32m      7\u001b[0m \u001b[39mimport\u001b[39;00m \u001b[39msklearn\u001b[39;00m\n\u001b[0;32m      8\u001b[0m \u001b[39mimport\u001b[39;00m \u001b[39msklearn\u001b[39;00m\u001b[39m.\u001b[39;00m\u001b[39mmetrics\u001b[39;00m\n\u001b[1;32m---> 10\u001b[0m \u001b[39mfrom\u001b[39;00m \u001b[39m.\u001b[39;00m \u001b[39mimport\u001b[39;00m _utils_tsne  \u001b[39m# type: ignore\u001b[39;00m\n\u001b[0;32m     11\u001b[0m \u001b[39m# from sklearn_xinrui.manifold import _utils_xinrui_ofast\u001b[39;00m\n\u001b[0;32m     12\u001b[0m \u001b[39mimport\u001b[39;00m \u001b[39mnumba\u001b[39;00m\n",
      "\u001b[1;31mImportError\u001b[0m: cannot import name '_utils_tsne' from partially initialized module 'DRE' (most likely due to a circular import) (c:\\Users\\KREE\\Desktop\\Project\\DeepRecursiveEmbedding\\DRE\\__init__.py)"
     ]
    }
   ],
   "source": [
    "from DRE import DeepRecursiveEmbedding"
   ]
  }
 ],
 "metadata": {
  "kernelspec": {
   "display_name": "old",
   "language": "python",
   "name": "python3"
  },
  "language_info": {
   "codemirror_mode": {
    "name": "ipython",
    "version": 3
   },
   "file_extension": ".py",
   "mimetype": "text/x-python",
   "name": "python",
   "nbconvert_exporter": "python",
   "pygments_lexer": "ipython3",
   "version": "3.8.17"
  },
  "orig_nbformat": 4
 },
 "nbformat": 4,
 "nbformat_minor": 2
}
