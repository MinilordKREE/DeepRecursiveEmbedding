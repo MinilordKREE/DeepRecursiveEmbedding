{
 "cells": [
  {
   "cell_type": "code",
   "execution_count": 1,
   "id": "ad83e8b2",
   "metadata": {},
   "outputs": [],
   "source": [
    "import torchvision\n",
    "import torchvision.transforms as transforms\n",
    "import torchvision.transforms.functional as TF\n",
    "import numpy as np\n",
    "\n",
    "import matplotlib\n",
    "import matplotlib.pyplot as plt\n",
    "\n",
    "from DRE import DeepRecursiveEmbedding"
   ]
  },
  {
   "cell_type": "code",
   "execution_count": 2,
   "id": "7143d46d",
   "metadata": {},
   "outputs": [
    {
     "name": "stdout",
     "output_type": "stream",
     "text": [
      "Downloading http://yann.lecun.com/exdb/mnist/train-images-idx3-ubyte.gz\n",
      "Downloading http://yann.lecun.com/exdb/mnist/train-images-idx3-ubyte.gz to ./datasets/MNIST/raw/train-images-idx3-ubyte.gz\n"
     ]
    },
    {
     "data": {
      "application/vnd.jupyter.widget-view+json": {
       "model_id": "6f579a0ca8334b80980cc31ffc440803",
       "version_major": 2,
       "version_minor": 0
      },
      "text/plain": [
       "  0%|          | 0/9912422 [00:00<?, ?it/s]"
      ]
     },
     "metadata": {},
     "output_type": "display_data"
    },
    {
     "name": "stdout",
     "output_type": "stream",
     "text": [
      "Extracting ./datasets/MNIST/raw/train-images-idx3-ubyte.gz to ./datasets/MNIST/raw\n",
      "\n",
      "Downloading http://yann.lecun.com/exdb/mnist/train-labels-idx1-ubyte.gz\n",
      "Downloading http://yann.lecun.com/exdb/mnist/train-labels-idx1-ubyte.gz to ./datasets/MNIST/raw/train-labels-idx1-ubyte.gz\n"
     ]
    },
    {
     "data": {
      "application/vnd.jupyter.widget-view+json": {
       "model_id": "e26c74be2c1f441487bdad4007627b07",
       "version_major": 2,
       "version_minor": 0
      },
      "text/plain": [
       "  0%|          | 0/28881 [00:00<?, ?it/s]"
      ]
     },
     "metadata": {},
     "output_type": "display_data"
    },
    {
     "name": "stdout",
     "output_type": "stream",
     "text": [
      "Extracting ./datasets/MNIST/raw/train-labels-idx1-ubyte.gz to ./datasets/MNIST/raw\n",
      "\n",
      "Downloading http://yann.lecun.com/exdb/mnist/t10k-images-idx3-ubyte.gz\n",
      "Downloading http://yann.lecun.com/exdb/mnist/t10k-images-idx3-ubyte.gz to ./datasets/MNIST/raw/t10k-images-idx3-ubyte.gz\n"
     ]
    },
    {
     "data": {
      "application/vnd.jupyter.widget-view+json": {
       "model_id": "972d600920b14af089d9112f06eb4abc",
       "version_major": 2,
       "version_minor": 0
      },
      "text/plain": [
       "  0%|          | 0/1648877 [00:00<?, ?it/s]"
      ]
     },
     "metadata": {},
     "output_type": "display_data"
    },
    {
     "name": "stdout",
     "output_type": "stream",
     "text": [
      "Extracting ./datasets/MNIST/raw/t10k-images-idx3-ubyte.gz to ./datasets/MNIST/raw\n",
      "\n",
      "Downloading http://yann.lecun.com/exdb/mnist/t10k-labels-idx1-ubyte.gz\n",
      "Downloading http://yann.lecun.com/exdb/mnist/t10k-labels-idx1-ubyte.gz to ./datasets/MNIST/raw/t10k-labels-idx1-ubyte.gz\n"
     ]
    },
    {
     "data": {
      "application/vnd.jupyter.widget-view+json": {
       "model_id": "b13c6d7bc8674bb8b2bab06785033ea1",
       "version_major": 2,
       "version_minor": 0
      },
      "text/plain": [
       "  0%|          | 0/4542 [00:00<?, ?it/s]"
      ]
     },
     "metadata": {},
     "output_type": "display_data"
    },
    {
     "name": "stdout",
     "output_type": "stream",
     "text": [
      "Extracting ./datasets/MNIST/raw/t10k-labels-idx1-ubyte.gz to ./datasets/MNIST/raw\n",
      "\n",
      "[DRE] Building model...\n"
     ]
    },
    {
     "name": "stderr",
     "output_type": "stream",
     "text": [
      "/home/zuxinrui/miniconda3/envs/delft/lib/python3.7/site-packages/torchvision/datasets/mnist.py:498: UserWarning: The given NumPy array is not writeable, and PyTorch does not support non-writeable tensors. This means you can write to the underlying (supposedly non-writeable) NumPy array using the tensor. You may want to copy the array to protect its data or make it writeable before converting it to a tensor. This type of warning will be suppressed for the rest of this program. (Triggered internally at  /pytorch/torch/csrc/utils/tensor_numpy.cpp:180.)\n",
      "  return torch.from_numpy(parsed.astype(m[2], copy=False)).view(*s)\n"
     ]
    },
    {
     "name": "stdout",
     "output_type": "stream",
     "text": [
      "[DRE] Model loaded\n",
      "[DRE] start------->  time:  Thu Oct 21 15:37:42 2021\n",
      "building P matrix...\n",
      "[DRE] Computed conditional probabilities for sample 1000 / 2500\n",
      "[DRE] Computed conditional probabilities for sample 2000 / 2500\n",
      "[DRE] Computed conditional probabilities for sample 2500 / 2500\n",
      "[DRE] Mean sigma: 587.588548\n",
      "[DRE] P length:  1\n",
      "[DRE] Computed conditional probabilities for sample 1000 / 2500\n",
      "[DRE] Computed conditional probabilities for sample 2000 / 2500\n",
      "[DRE] Computed conditional probabilities for sample 2500 / 2500\n",
      "[DRE] Mean sigma: 586.005143\n",
      "[DRE] P length:  2\n",
      "[DRE] Computed conditional probabilities for sample 1000 / 2500\n",
      "[DRE] Computed conditional probabilities for sample 2000 / 2500\n",
      "[DRE] Computed conditional probabilities for sample 2500 / 2500\n",
      "[DRE] Mean sigma: 582.353874\n",
      "[DRE] P length:  3\n",
      "[DRE] Computed conditional probabilities for sample 1000 / 2500\n",
      "[DRE] Computed conditional probabilities for sample 2000 / 2500\n",
      "[DRE] Computed conditional probabilities for sample 2500 / 2500\n",
      "[DRE] Mean sigma: 588.405060\n",
      "[DRE] P length:  4\n",
      "[DRE] Computed conditional probabilities for sample 1000 / 2500\n",
      "[DRE] Computed conditional probabilities for sample 2000 / 2500\n",
      "[DRE] Computed conditional probabilities for sample 2500 / 2500\n",
      "[DRE] Mean sigma: 586.852387\n",
      "[DRE] P length:  5\n",
      "[DRE] Computed conditional probabilities for sample 1000 / 2500\n",
      "[DRE] Computed conditional probabilities for sample 2000 / 2500\n",
      "[DRE] Computed conditional probabilities for sample 2500 / 2500\n",
      "[DRE] Mean sigma: 601.301499\n",
      "[DRE] P length:  6\n",
      "[DRE] Computed conditional probabilities for sample 1000 / 2500\n",
      "[DRE] Computed conditional probabilities for sample 2000 / 2500\n",
      "[DRE] Computed conditional probabilities for sample 2500 / 2500\n",
      "[DRE] Mean sigma: 582.012676\n",
      "[DRE] P length:  7\n",
      "[DRE] Computed conditional probabilities for sample 1000 / 2500\n",
      "[DRE] Computed conditional probabilities for sample 2000 / 2500\n",
      "[DRE] Computed conditional probabilities for sample 2500 / 2500\n",
      "[DRE] Mean sigma: 587.342518\n",
      "[DRE] P length:  8\n",
      "[DRE] Computed conditional probabilities for sample 1000 / 2500\n",
      "[DRE] Computed conditional probabilities for sample 2000 / 2500\n",
      "[DRE] Computed conditional probabilities for sample 2500 / 2500\n",
      "[DRE] Mean sigma: 590.633428\n",
      "[DRE] P length:  9\n",
      "[DRE] Computed conditional probabilities for sample 1000 / 2500\n",
      "[DRE] Computed conditional probabilities for sample 2000 / 2500\n",
      "[DRE] Computed conditional probabilities for sample 2500 / 2500\n",
      "[DRE] Mean sigma: 594.849935\n",
      "[DRE] P length:  10\n",
      "[DRE] Computed conditional probabilities for sample 1000 / 2500\n",
      "[DRE] Computed conditional probabilities for sample 2000 / 2500\n",
      "[DRE] Computed conditional probabilities for sample 2500 / 2500\n",
      "[DRE] Mean sigma: 565.090938\n",
      "[DRE] P length:  11\n",
      "[DRE] Computed conditional probabilities for sample 1000 / 2500\n",
      "[DRE] Computed conditional probabilities for sample 2000 / 2500\n",
      "[DRE] Computed conditional probabilities for sample 2500 / 2500\n",
      "[DRE] Mean sigma: 576.137009\n",
      "[DRE] P length:  12\n",
      "[DRE] Computed conditional probabilities for sample 1000 / 2500\n",
      "[DRE] Computed conditional probabilities for sample 2000 / 2500\n",
      "[DRE] Computed conditional probabilities for sample 2500 / 2500\n",
      "[DRE] Mean sigma: 577.715822\n",
      "[DRE] P length:  13\n",
      "[DRE] Computed conditional probabilities for sample 1000 / 2500\n",
      "[DRE] Computed conditional probabilities for sample 2000 / 2500\n",
      "[DRE] Computed conditional probabilities for sample 2500 / 2500\n",
      "[DRE] Mean sigma: 576.706934\n",
      "[DRE] P length:  14\n",
      "[DRE] Computed conditional probabilities for sample 1000 / 2500\n",
      "[DRE] Computed conditional probabilities for sample 2000 / 2500\n",
      "[DRE] Computed conditional probabilities for sample 2500 / 2500\n",
      "[DRE] Mean sigma: 596.326953\n",
      "[DRE] P length:  15\n",
      "[DRE] Computed conditional probabilities for sample 1000 / 2500\n",
      "[DRE] Computed conditional probabilities for sample 2000 / 2500\n",
      "[DRE] Computed conditional probabilities for sample 2500 / 2500\n",
      "[DRE] Mean sigma: 577.663500\n",
      "[DRE] P length:  16\n",
      "[DRE] Computed conditional probabilities for sample 1000 / 2500\n",
      "[DRE] Computed conditional probabilities for sample 2000 / 2500\n",
      "[DRE] Computed conditional probabilities for sample 2500 / 2500\n",
      "[DRE] Mean sigma: 585.504119\n",
      "[DRE] P length:  17\n",
      "[DRE] Computed conditional probabilities for sample 1000 / 2500\n",
      "[DRE] Computed conditional probabilities for sample 2000 / 2500\n",
      "[DRE] Computed conditional probabilities for sample 2500 / 2500\n",
      "[DRE] Mean sigma: 577.910394\n",
      "[DRE] P length:  18\n",
      "[DRE] Computed conditional probabilities for sample 1000 / 2500\n",
      "[DRE] Computed conditional probabilities for sample 2000 / 2500\n",
      "[DRE] Computed conditional probabilities for sample 2500 / 2500\n",
      "[DRE] Mean sigma: 576.305592\n",
      "[DRE] P length:  19\n",
      "[DRE] Computed conditional probabilities for sample 1000 / 2500\n",
      "[DRE] Computed conditional probabilities for sample 2000 / 2500\n",
      "[DRE] Computed conditional probabilities for sample 2500 / 2500\n",
      "[DRE] Mean sigma: 589.498842\n",
      "[DRE] P length:  20\n",
      "[DRE] Computed conditional probabilities for sample 1000 / 2500\n",
      "[DRE] Computed conditional probabilities for sample 2000 / 2500\n",
      "[DRE] Computed conditional probabilities for sample 2500 / 2500\n",
      "[DRE] Mean sigma: 581.136740\n",
      "[DRE] P length:  21\n",
      "[DRE] Computed conditional probabilities for sample 1000 / 2500\n",
      "[DRE] Computed conditional probabilities for sample 2000 / 2500\n",
      "[DRE] Computed conditional probabilities for sample 2500 / 2500\n",
      "[DRE] Mean sigma: 575.591683\n",
      "[DRE] P length:  22\n",
      "[DRE] Computed conditional probabilities for sample 1000 / 2500\n",
      "[DRE] Computed conditional probabilities for sample 2000 / 2500\n",
      "[DRE] Computed conditional probabilities for sample 2500 / 2500\n",
      "[DRE] Mean sigma: 581.639699\n",
      "[DRE] P length:  23\n",
      "[DRE] Computed conditional probabilities for sample 1000 / 2500\n",
      "[DRE] Computed conditional probabilities for sample 2000 / 2500\n"
     ]
    },
    {
     "name": "stderr",
     "output_type": "stream",
     "text": [
      "[DRE] Training.. Epoch 1/350:  21%|\u001b[34m██        \u001b[0m| 12500/60000 [00:00<00:00, 88306.53img/s, loss (batch)=2.95]"
     ]
    },
    {
     "name": "stdout",
     "output_type": "stream",
     "text": [
      "[DRE] Computed conditional probabilities for sample 2500 / 2500\n",
      "[DRE] Mean sigma: 589.036711\n",
      "[DRE] P length:  24\n",
      "\n",
      "Epoch: 0\n"
     ]
    },
    {
     "name": "stderr",
     "output_type": "stream",
     "text": [
      "[DRE] Training.. Epoch 1/350: 100%|\u001b[34m██████████\u001b[0m| 60000/60000 [00:00<00:00, 95828.63img/s, loss (batch)=2.44]\n",
      "[DRE] Training.. Epoch 2/350:  29%|\u001b[34m██▉       \u001b[0m| 17500/60000 [00:00<00:00, 99652.36img/s, loss (batch)=2.4] "
     ]
    },
    {
     "name": "stdout",
     "output_type": "stream",
     "text": [
      "\n",
      "Epoch: 1\n"
     ]
    },
    {
     "name": "stderr",
     "output_type": "stream",
     "text": [
      "[DRE] Training.. Epoch 2/350: 100%|\u001b[34m██████████\u001b[0m| 60000/60000 [00:00<00:00, 99952.39img/s, loss (batch)=2.19] \n",
      "[DRE] Training.. Epoch 3/350:  29%|\u001b[34m██▉       \u001b[0m| 17500/60000 [00:00<00:00, 101725.28img/s, loss (batch)=2.21]"
     ]
    },
    {
     "name": "stdout",
     "output_type": "stream",
     "text": [
      "\n",
      "Epoch: 2\n"
     ]
    },
    {
     "name": "stderr",
     "output_type": "stream",
     "text": [
      "[DRE] Training.. Epoch 3/350: 100%|\u001b[34m██████████\u001b[0m| 60000/60000 [00:00<00:00, 102953.10img/s, loss (batch)=2.03]\n",
      "[DRE] Training.. Epoch 4/350:  25%|\u001b[34m██▌       \u001b[0m| 15000/60000 [00:00<00:00, 98531.67img/s, loss (batch)=2.1] "
     ]
    },
    {
     "name": "stdout",
     "output_type": "stream",
     "text": [
      "\n",
      "Epoch: 3\n"
     ]
    },
    {
     "name": "stderr",
     "output_type": "stream",
     "text": [
      "[DRE] Training.. Epoch 4/350: 100%|\u001b[34m██████████\u001b[0m| 60000/60000 [00:00<00:00, 100292.69img/s, loss (batch)=1.93]\n",
      "[DRE] Training.. Epoch 5/350:  29%|\u001b[34m██▉       \u001b[0m| 17500/60000 [00:00<00:00, 100920.49img/s, loss (batch)=1.99]"
     ]
    },
    {
     "name": "stdout",
     "output_type": "stream",
     "text": [
      "\n",
      "Epoch: 4\n"
     ]
    },
    {
     "name": "stderr",
     "output_type": "stream",
     "text": [
      "[DRE] Training.. Epoch 5/350: 100%|\u001b[34m██████████\u001b[0m| 60000/60000 [00:00<00:00, 100769.31img/s, loss (batch)=1.85]\n",
      "[DRE] Training.. Epoch 6/350:  25%|\u001b[34m██▌       \u001b[0m| 15000/60000 [00:00<00:00, 95657.06img/s, loss (batch)=1.94]"
     ]
    },
    {
     "name": "stdout",
     "output_type": "stream",
     "text": [
      "\n",
      "Epoch: 5\n"
     ]
    },
    {
     "name": "stderr",
     "output_type": "stream",
     "text": [
      "[DRE] Training.. Epoch 6/350: 100%|\u001b[34m██████████\u001b[0m| 60000/60000 [00:00<00:00, 99923.22img/s, loss (batch)=1.79] \n",
      "[DRE] Training.. Epoch 7/350:  29%|\u001b[34m██▉       \u001b[0m| 17500/60000 [00:00<00:00, 102052.58img/s, loss (batch)=1.88]"
     ]
    },
    {
     "name": "stdout",
     "output_type": "stream",
     "text": [
      "\n",
      "Epoch: 6\n"
     ]
    },
    {
     "name": "stderr",
     "output_type": "stream",
     "text": [
      "[DRE] Training.. Epoch 7/350: 100%|\u001b[34m██████████\u001b[0m| 60000/60000 [00:00<00:00, 101929.46img/s, loss (batch)=1.76]\n",
      "[DRE] Training.. Epoch 8/350:  25%|\u001b[34m██▌       \u001b[0m| 15000/60000 [00:00<00:00, 98088.97img/s, loss (batch)=1.86]"
     ]
    },
    {
     "name": "stdout",
     "output_type": "stream",
     "text": [
      "\n",
      "Epoch: 7\n"
     ]
    },
    {
     "name": "stderr",
     "output_type": "stream",
     "text": [
      "[DRE] Training.. Epoch 8/350: 100%|\u001b[34m██████████\u001b[0m| 60000/60000 [00:00<00:00, 99491.72img/s, loss (batch)=1.71] \n",
      "[DRE] Training.. Epoch 9/350:  29%|\u001b[34m██▉       \u001b[0m| 17500/60000 [00:00<00:00, 100426.39img/s, loss (batch)=1.79]"
     ]
    },
    {
     "name": "stdout",
     "output_type": "stream",
     "text": [
      "\n",
      "Epoch: 8\n"
     ]
    },
    {
     "name": "stderr",
     "output_type": "stream",
     "text": [
      "[DRE] Training.. Epoch 9/350: 100%|\u001b[34m██████████\u001b[0m| 60000/60000 [00:00<00:00, 99911.56img/s, loss (batch)=1.67] \n",
      "[DRE] Training.. Epoch 10/350:  29%|\u001b[34m██▉       \u001b[0m| 17500/60000 [00:00<00:00, 99702.01img/s, loss (batch)=1.75]"
     ]
    },
    {
     "name": "stdout",
     "output_type": "stream",
     "text": [
      "\n",
      "Epoch: 9\n"
     ]
    },
    {
     "name": "stderr",
     "output_type": "stream",
     "text": [
      "[DRE] Training.. Epoch 10/350: 100%|\u001b[34m██████████\u001b[0m| 60000/60000 [00:00<00:00, 101822.98img/s, loss (batch)=1.64]\n",
      "[DRE] Validating.. Epoch 10/350: 100%|\u001b[32m██████████\u001b[0m| 60000/60000 [00:00<00:00, 141280.47img/s, loss (batch)=tensor(1.7538, device='cuda:0', dtype=torch.float64)]\n",
      "[DRE] Training.. Epoch 11/350:  29%|\u001b[34m██▉       \u001b[0m| 17500/60000 [00:00<00:00, 101515.31img/s, loss (batch)=1.73]"
     ]
    },
    {
     "name": "stdout",
     "output_type": "stream",
     "text": [
      "[DRE] Best accuracy, saving the weights...\n",
      "\n",
      "Epoch: 10\n"
     ]
    },
    {
     "name": "stderr",
     "output_type": "stream",
     "text": [
      "[DRE] Training.. Epoch 11/350: 100%|\u001b[34m██████████\u001b[0m| 60000/60000 [00:00<00:00, 100392.48img/s, loss (batch)=1.62]\n",
      "[DRE] Training.. Epoch 12/350:  29%|\u001b[34m██▉       \u001b[0m| 17500/60000 [00:00<00:00, 102780.41img/s, loss (batch)=1.71]"
     ]
    },
    {
     "name": "stdout",
     "output_type": "stream",
     "text": [
      "\n",
      "Epoch: 11\n"
     ]
    },
    {
     "name": "stderr",
     "output_type": "stream",
     "text": [
      "[DRE] Training.. Epoch 12/350: 100%|\u001b[34m██████████\u001b[0m| 60000/60000 [00:00<00:00, 101709.23img/s, loss (batch)=1.6] \n",
      "[DRE] Training.. Epoch 13/350:  29%|\u001b[34m██▉       \u001b[0m| 17500/60000 [00:00<00:00, 103252.03img/s, loss (batch)=1.69]"
     ]
    },
    {
     "name": "stdout",
     "output_type": "stream",
     "text": [
      "\n",
      "Epoch: 12\n"
     ]
    },
    {
     "name": "stderr",
     "output_type": "stream",
     "text": [
      "[DRE] Training.. Epoch 13/350: 100%|\u001b[34m██████████\u001b[0m| 60000/60000 [00:00<00:00, 101037.46img/s, loss (batch)=1.58]\n",
      "[DRE] Training.. Epoch 14/350:  29%|\u001b[34m██▉       \u001b[0m| 17500/60000 [00:00<00:00, 101324.03img/s, loss (batch)=1.67]"
     ]
    },
    {
     "name": "stdout",
     "output_type": "stream",
     "text": [
      "\n",
      "Epoch: 13\n"
     ]
    },
    {
     "name": "stderr",
     "output_type": "stream",
     "text": [
      "[DRE] Training.. Epoch 14/350: 100%|\u001b[34m██████████\u001b[0m| 60000/60000 [00:00<00:00, 100607.88img/s, loss (batch)=1.56]\n",
      "[DRE] Training.. Epoch 15/350:  29%|\u001b[34m██▉       \u001b[0m| 17500/60000 [00:00<00:00, 100857.78img/s, loss (batch)=1.65]"
     ]
    },
    {
     "name": "stdout",
     "output_type": "stream",
     "text": [
      "\n",
      "Epoch: 14\n"
     ]
    },
    {
     "name": "stderr",
     "output_type": "stream",
     "text": [
      "[DRE] Training.. Epoch 15/350: 100%|\u001b[34m██████████\u001b[0m| 60000/60000 [00:00<00:00, 101233.08img/s, loss (batch)=1.55]\n",
      "[DRE] Training.. Epoch 16/350:  29%|\u001b[34m██▉       \u001b[0m| 17500/60000 [00:00<00:00, 100621.44img/s, loss (batch)=1.63]"
     ]
    },
    {
     "name": "stdout",
     "output_type": "stream",
     "text": [
      "\n",
      "Epoch: 15\n"
     ]
    },
    {
     "name": "stderr",
     "output_type": "stream",
     "text": [
      "[DRE] Training.. Epoch 16/350: 100%|\u001b[34m██████████\u001b[0m| 60000/60000 [00:00<00:00, 100208.43img/s, loss (batch)=1.53]\n",
      "[DRE] Training.. Epoch 17/350:  25%|\u001b[34m██▌       \u001b[0m| 15000/60000 [00:00<00:00, 99062.45img/s, loss (batch)=1.65]"
     ]
    },
    {
     "name": "stdout",
     "output_type": "stream",
     "text": [
      "\n",
      "Epoch: 16\n"
     ]
    },
    {
     "name": "stderr",
     "output_type": "stream",
     "text": [
      "[DRE] Training.. Epoch 17/350: 100%|\u001b[34m██████████\u001b[0m| 60000/60000 [00:00<00:00, 97779.77img/s, loss (batch)=1.51] \n",
      "[DRE] Training.. Epoch 18/350:  25%|\u001b[34m██▌       \u001b[0m| 15000/60000 [00:00<00:00, 95327.69img/s, loss (batch)=1.63]"
     ]
    },
    {
     "name": "stdout",
     "output_type": "stream",
     "text": [
      "\n",
      "Epoch: 17\n"
     ]
    },
    {
     "name": "stderr",
     "output_type": "stream",
     "text": [
      "[DRE] Training.. Epoch 18/350: 100%|\u001b[34m██████████\u001b[0m| 60000/60000 [00:00<00:00, 93147.59img/s, loss (batch)=1.5] \n",
      "[DRE] Training.. Epoch 19/350:  25%|\u001b[34m██▌       \u001b[0m| 15000/60000 [00:00<00:00, 94861.78img/s, loss (batch)=1.63]"
     ]
    },
    {
     "name": "stdout",
     "output_type": "stream",
     "text": [
      "\n",
      "Epoch: 18\n"
     ]
    },
    {
     "name": "stderr",
     "output_type": "stream",
     "text": [
      "[DRE] Training.. Epoch 19/350: 100%|\u001b[34m██████████\u001b[0m| 60000/60000 [00:00<00:00, 96506.49img/s, loss (batch)=1.49]\n",
      "[DRE] Training.. Epoch 20/350:  25%|\u001b[34m██▌       \u001b[0m| 15000/60000 [00:00<00:00, 94022.66img/s, loss (batch)=1.63]"
     ]
    },
    {
     "name": "stdout",
     "output_type": "stream",
     "text": [
      "\n",
      "Epoch: 19\n"
     ]
    },
    {
     "name": "stderr",
     "output_type": "stream",
     "text": [
      "[DRE] Training.. Epoch 20/350: 100%|\u001b[34m██████████\u001b[0m| 60000/60000 [00:00<00:00, 93882.15img/s, loss (batch)=1.49]\n",
      "[DRE] Validating.. Epoch 20/350: 100%|\u001b[32m██████████\u001b[0m| 60000/60000 [00:00<00:00, 131777.97img/s, loss (batch)=tensor(1.6145, device='cuda:0', dtype=torch.float64)]\n",
      "[DRE] Training.. Epoch 21/350:  25%|\u001b[34m██▌       \u001b[0m| 15000/60000 [00:00<00:00, 95925.28img/s, loss (batch)=1.62]"
     ]
    },
    {
     "name": "stdout",
     "output_type": "stream",
     "text": [
      "[DRE] Best accuracy, saving the weights...\n",
      "\n",
      "Epoch: 20\n"
     ]
    },
    {
     "name": "stderr",
     "output_type": "stream",
     "text": [
      "[DRE] Training.. Epoch 21/350: 100%|\u001b[34m██████████\u001b[0m| 60000/60000 [00:00<00:00, 94453.37img/s, loss (batch)=1.47]\n",
      "[DRE] Training.. Epoch 22/350:  25%|\u001b[34m██▌       \u001b[0m| 15000/60000 [00:00<00:00, 101071.66img/s, loss (batch)=1.59]"
     ]
    },
    {
     "name": "stdout",
     "output_type": "stream",
     "text": [
      "\n",
      "Epoch: 21\n"
     ]
    },
    {
     "name": "stderr",
     "output_type": "stream",
     "text": [
      "[DRE] Training.. Epoch 22/350: 100%|\u001b[34m██████████\u001b[0m| 60000/60000 [00:00<00:00, 100130.00img/s, loss (batch)=1.45]\n",
      "[DRE] Training.. Epoch 23/350:  25%|\u001b[34m██▌       \u001b[0m| 15000/60000 [00:00<00:00, 100104.06img/s, loss (batch)=1.59]"
     ]
    },
    {
     "name": "stdout",
     "output_type": "stream",
     "text": [
      "\n",
      "Epoch: 22\n"
     ]
    },
    {
     "name": "stderr",
     "output_type": "stream",
     "text": [
      "[DRE] Training.. Epoch 23/350: 100%|\u001b[34m██████████\u001b[0m| 60000/60000 [00:00<00:00, 99247.35img/s, loss (batch)=1.45] \n",
      "[DRE] Training.. Epoch 24/350:  25%|\u001b[34m██▌       \u001b[0m| 15000/60000 [00:00<00:00, 92659.24img/s, loss (batch)=1.58]"
     ]
    },
    {
     "name": "stdout",
     "output_type": "stream",
     "text": [
      "\n",
      "Epoch: 23\n"
     ]
    },
    {
     "name": "stderr",
     "output_type": "stream",
     "text": [
      "[DRE] Training.. Epoch 24/350: 100%|\u001b[34m██████████\u001b[0m| 60000/60000 [00:00<00:00, 97941.81img/s, loss (batch)=1.43]\n",
      "[DRE] Training.. Epoch 25/350:  29%|\u001b[34m██▉       \u001b[0m| 17500/60000 [00:00<00:00, 98812.96img/s, loss (batch)=1.54]"
     ]
    },
    {
     "name": "stdout",
     "output_type": "stream",
     "text": [
      "\n",
      "Epoch: 24\n"
     ]
    },
    {
     "name": "stderr",
     "output_type": "stream",
     "text": [
      "[DRE] Training.. Epoch 25/350: 100%|\u001b[34m██████████\u001b[0m| 60000/60000 [00:00<00:00, 101575.07img/s, loss (batch)=1.43]\n",
      "[DRE] Training.. Epoch 26/350:  25%|\u001b[34m██▌       \u001b[0m| 15000/60000 [00:00<00:00, 99460.62img/s, loss (batch)=1.56]"
     ]
    },
    {
     "name": "stdout",
     "output_type": "stream",
     "text": [
      "\n",
      "Epoch: 25\n"
     ]
    },
    {
     "name": "stderr",
     "output_type": "stream",
     "text": [
      "[DRE] Training.. Epoch 26/350: 100%|\u001b[34m██████████\u001b[0m| 60000/60000 [00:00<00:00, 99306.69img/s, loss (batch)=1.43]\n",
      "[DRE] Training.. Epoch 27/350:  25%|\u001b[34m██▌       \u001b[0m| 15000/60000 [00:00<00:00, 98466.85img/s, loss (batch)=1.56]"
     ]
    },
    {
     "name": "stdout",
     "output_type": "stream",
     "text": [
      "\n",
      "Epoch: 26\n"
     ]
    },
    {
     "name": "stderr",
     "output_type": "stream",
     "text": [
      "[DRE] Training.. Epoch 27/350: 100%|\u001b[34m██████████\u001b[0m| 60000/60000 [00:00<00:00, 99990.24img/s, loss (batch)=1.42] \n",
      "[DRE] Training.. Epoch 28/350:  29%|\u001b[34m██▉       \u001b[0m| 17500/60000 [00:00<00:00, 98866.30img/s, loss (batch)=1.52]"
     ]
    },
    {
     "name": "stdout",
     "output_type": "stream",
     "text": [
      "\n",
      "Epoch: 27\n"
     ]
    },
    {
     "name": "stderr",
     "output_type": "stream",
     "text": [
      "[DRE] Training.. Epoch 28/350: 100%|\u001b[34m██████████\u001b[0m| 60000/60000 [00:00<00:00, 102164.63img/s, loss (batch)=1.41]\n",
      "[DRE] Training.. Epoch 29/350:  25%|\u001b[34m██▌       \u001b[0m| 15000/60000 [00:00<00:00, 97921.11img/s, loss (batch)=1.55]"
     ]
    },
    {
     "name": "stdout",
     "output_type": "stream",
     "text": [
      "\n",
      "Epoch: 28\n"
     ]
    },
    {
     "name": "stderr",
     "output_type": "stream",
     "text": [
      "[DRE] Training.. Epoch 29/350: 100%|\u001b[34m██████████\u001b[0m| 60000/60000 [00:00<00:00, 99627.80img/s, loss (batch)=1.41]\n",
      "[DRE] Training.. Epoch 30/350:  29%|\u001b[34m██▉       \u001b[0m| 17500/60000 [00:00<00:00, 98637.33img/s, loss (batch)=1.52]"
     ]
    },
    {
     "name": "stdout",
     "output_type": "stream",
     "text": [
      "\n",
      "Epoch: 29\n"
     ]
    },
    {
     "name": "stderr",
     "output_type": "stream",
     "text": [
      "[DRE] Training.. Epoch 30/350: 100%|\u001b[34m██████████\u001b[0m| 60000/60000 [00:00<00:00, 99887.85img/s, loss (batch)=1.4] \n",
      "[DRE] Validating.. Epoch 30/350: 100%|\u001b[32m██████████\u001b[0m| 60000/60000 [00:00<00:00, 140619.01img/s, loss (batch)=tensor(1.5247, device='cuda:0', dtype=torch.float64)]\n",
      "[DRE] Training.. Epoch 31/350:  29%|\u001b[34m██▉       \u001b[0m| 17500/60000 [00:00<00:00, 101858.08img/s, loss (batch)=1.51]"
     ]
    },
    {
     "name": "stdout",
     "output_type": "stream",
     "text": [
      "[DRE] Best accuracy, saving the weights...\n",
      "\n",
      "Epoch: 30\n"
     ]
    },
    {
     "name": "stderr",
     "output_type": "stream",
     "text": [
      "[DRE] Training.. Epoch 31/350: 100%|\u001b[34m██████████\u001b[0m| 60000/60000 [00:00<00:00, 102489.29img/s, loss (batch)=1.4] \n",
      "[DRE] Training.. Epoch 32/350:  29%|\u001b[34m██▉       \u001b[0m| 17500/60000 [00:00<00:00, 100521.70img/s, loss (batch)=1.5] "
     ]
    },
    {
     "name": "stdout",
     "output_type": "stream",
     "text": [
      "\n",
      "Epoch: 31\n"
     ]
    },
    {
     "name": "stderr",
     "output_type": "stream",
     "text": [
      "[DRE] Training.. Epoch 32/350: 100%|\u001b[34m██████████\u001b[0m| 60000/60000 [00:00<00:00, 100897.70img/s, loss (batch)=1.4] \n",
      "[DRE] Training.. Epoch 33/350:  29%|\u001b[34m██▉       \u001b[0m| 17500/60000 [00:00<00:00, 103076.64img/s, loss (batch)=1.49]"
     ]
    },
    {
     "name": "stdout",
     "output_type": "stream",
     "text": [
      "\n",
      "Epoch: 32\n"
     ]
    },
    {
     "name": "stderr",
     "output_type": "stream",
     "text": [
      "[DRE] Training.. Epoch 33/350: 100%|\u001b[34m██████████\u001b[0m| 60000/60000 [00:00<00:00, 100821.63img/s, loss (batch)=1.38]\n",
      "[DRE] Training.. Epoch 34/350:  29%|\u001b[34m██▉       \u001b[0m| 17500/60000 [00:00<00:00, 100754.47img/s, loss (batch)=1.48]"
     ]
    },
    {
     "name": "stdout",
     "output_type": "stream",
     "text": [
      "\n",
      "Epoch: 33\n"
     ]
    },
    {
     "name": "stderr",
     "output_type": "stream",
     "text": [
      "[DRE] Training.. Epoch 34/350: 100%|\u001b[34m██████████\u001b[0m| 60000/60000 [00:00<00:00, 102717.44img/s, loss (batch)=1.38]\n",
      "[DRE] Training.. Epoch 35/350:  29%|\u001b[34m██▉       \u001b[0m| 17500/60000 [00:00<00:00, 98625.92img/s, loss (batch)=1.47]"
     ]
    },
    {
     "name": "stdout",
     "output_type": "stream",
     "text": [
      "\n",
      "Epoch: 34\n"
     ]
    },
    {
     "name": "stderr",
     "output_type": "stream",
     "text": [
      "[DRE] Training.. Epoch 35/350: 100%|\u001b[34m██████████\u001b[0m| 60000/60000 [00:00<00:00, 100397.76img/s, loss (batch)=1.37]\n",
      "[DRE] Training.. Epoch 36/350:  29%|\u001b[34m██▉       \u001b[0m| 17500/60000 [00:00<00:00, 102059.54img/s, loss (batch)=1.47]"
     ]
    },
    {
     "name": "stdout",
     "output_type": "stream",
     "text": [
      "\n",
      "Epoch: 35\n"
     ]
    },
    {
     "name": "stderr",
     "output_type": "stream",
     "text": [
      "[DRE] Training.. Epoch 36/350: 100%|\u001b[34m██████████\u001b[0m| 60000/60000 [00:00<00:00, 100770.11img/s, loss (batch)=1.36]\n",
      "[DRE] Training.. Epoch 37/350:  29%|\u001b[34m██▉       \u001b[0m| 17500/60000 [00:00<00:00, 102978.85img/s, loss (batch)=1.47]"
     ]
    },
    {
     "name": "stdout",
     "output_type": "stream",
     "text": [
      "\n",
      "Epoch: 36\n"
     ]
    },
    {
     "name": "stderr",
     "output_type": "stream",
     "text": [
      "[DRE] Training.. Epoch 37/350: 100%|\u001b[34m██████████\u001b[0m| 60000/60000 [00:00<00:00, 101450.59img/s, loss (batch)=1.35]\n",
      "[DRE] Training.. Epoch 38/350:  29%|\u001b[34m██▉       \u001b[0m| 17500/60000 [00:00<00:00, 100188.04img/s, loss (batch)=1.47]"
     ]
    },
    {
     "name": "stdout",
     "output_type": "stream",
     "text": [
      "\n",
      "Epoch: 37\n"
     ]
    },
    {
     "name": "stderr",
     "output_type": "stream",
     "text": [
      "[DRE] Training.. Epoch 38/350: 100%|\u001b[34m██████████\u001b[0m| 60000/60000 [00:00<00:00, 100532.48img/s, loss (batch)=1.35]\n",
      "[DRE] Training.. Epoch 39/350:  29%|\u001b[34m██▉       \u001b[0m| 17500/60000 [00:00<00:00, 99186.37img/s, loss (batch)=1.46]"
     ]
    },
    {
     "name": "stdout",
     "output_type": "stream",
     "text": [
      "\n",
      "Epoch: 38\n"
     ]
    },
    {
     "name": "stderr",
     "output_type": "stream",
     "text": [
      "[DRE] Training.. Epoch 39/350: 100%|\u001b[34m██████████\u001b[0m| 60000/60000 [00:00<00:00, 99885.51img/s, loss (batch)=1.35] \n",
      "[DRE] Training.. Epoch 40/350:  25%|\u001b[34m██▌       \u001b[0m| 15000/60000 [00:00<00:00, 98299.78img/s, loss (batch)=1.48]"
     ]
    },
    {
     "name": "stdout",
     "output_type": "stream",
     "text": [
      "\n",
      "Epoch: 39\n"
     ]
    },
    {
     "name": "stderr",
     "output_type": "stream",
     "text": [
      "[DRE] Training.. Epoch 40/350: 100%|\u001b[34m██████████\u001b[0m| 60000/60000 [00:00<00:00, 99284.98img/s, loss (batch)=1.33] \n",
      "[DRE] Validating.. Epoch 40/350: 100%|\u001b[32m██████████\u001b[0m| 60000/60000 [00:00<00:00, 141970.69img/s, loss (batch)=tensor(1.4844, device='cuda:0', dtype=torch.float64)]\n",
      "[DRE] Training.. Epoch 41/350:  29%|\u001b[34m██▉       \u001b[0m| 17500/60000 [00:00<00:00, 98357.87img/s, loss (batch)=1.45]"
     ]
    },
    {
     "name": "stdout",
     "output_type": "stream",
     "text": [
      "[DRE] Best accuracy, saving the weights...\n",
      "\n",
      "Epoch: 40\n"
     ]
    },
    {
     "name": "stderr",
     "output_type": "stream",
     "text": [
      "[DRE] Training.. Epoch 41/350: 100%|\u001b[34m██████████\u001b[0m| 60000/60000 [00:00<00:00, 99429.18img/s, loss (batch)=1.33] \n",
      "[DRE] Training.. Epoch 42/350:  29%|\u001b[34m██▉       \u001b[0m| 17500/60000 [00:00<00:00, 99733.78img/s, loss (batch)=1.45]"
     ]
    },
    {
     "name": "stdout",
     "output_type": "stream",
     "text": [
      "\n",
      "Epoch: 41\n"
     ]
    },
    {
     "name": "stderr",
     "output_type": "stream",
     "text": [
      "[DRE] Training.. Epoch 42/350: 100%|\u001b[34m██████████\u001b[0m| 60000/60000 [00:00<00:00, 100375.18img/s, loss (batch)=1.32]\n",
      "[DRE] Training.. Epoch 43/350:  29%|\u001b[34m██▉       \u001b[0m| 17500/60000 [00:00<00:00, 99549.14img/s, loss (batch)=1.46]"
     ]
    },
    {
     "name": "stdout",
     "output_type": "stream",
     "text": [
      "\n",
      "Epoch: 42\n"
     ]
    },
    {
     "name": "stderr",
     "output_type": "stream",
     "text": [
      "[DRE] Training.. Epoch 43/350: 100%|\u001b[34m██████████\u001b[0m| 60000/60000 [00:00<00:00, 98783.95img/s, loss (batch)=1.32]\n",
      "[DRE] Training.. Epoch 44/350:  29%|\u001b[34m██▉       \u001b[0m| 17500/60000 [00:00<00:00, 104207.55img/s, loss (batch)=1.46]"
     ]
    },
    {
     "name": "stdout",
     "output_type": "stream",
     "text": [
      "\n",
      "Epoch: 43\n"
     ]
    },
    {
     "name": "stderr",
     "output_type": "stream",
     "text": [
      "[DRE] Training.. Epoch 44/350: 100%|\u001b[34m██████████\u001b[0m| 60000/60000 [00:00<00:00, 100582.11img/s, loss (batch)=1.32]\n",
      "[DRE] Training.. Epoch 45/350:  25%|\u001b[34m██▌       \u001b[0m| 15000/60000 [00:00<00:00, 98037.16img/s, loss (batch)=1.47]"
     ]
    },
    {
     "name": "stdout",
     "output_type": "stream",
     "text": [
      "\n",
      "Epoch: 44\n"
     ]
    },
    {
     "name": "stderr",
     "output_type": "stream",
     "text": [
      "[DRE] Training.. Epoch 45/350: 100%|\u001b[34m██████████\u001b[0m| 60000/60000 [00:00<00:00, 99357.77img/s, loss (batch)=1.32]\n",
      "[DRE] Training.. Epoch 46/350:  25%|\u001b[34m██▌       \u001b[0m| 15000/60000 [00:00<00:00, 97335.29img/s, loss (batch)=1.47]"
     ]
    },
    {
     "name": "stdout",
     "output_type": "stream",
     "text": [
      "\n",
      "Epoch: 45\n"
     ]
    },
    {
     "name": "stderr",
     "output_type": "stream",
     "text": [
      "[DRE] Training.. Epoch 46/350: 100%|\u001b[34m██████████\u001b[0m| 60000/60000 [00:00<00:00, 98547.13img/s, loss (batch)=1.31]\n",
      "[DRE] Training.. Epoch 47/350:  25%|\u001b[34m██▌       \u001b[0m| 15000/60000 [00:00<00:00, 98997.68img/s, loss (batch)=1.46]"
     ]
    },
    {
     "name": "stdout",
     "output_type": "stream",
     "text": [
      "\n",
      "Epoch: 46\n"
     ]
    },
    {
     "name": "stderr",
     "output_type": "stream",
     "text": [
      "[DRE] Training.. Epoch 47/350: 100%|\u001b[34m██████████\u001b[0m| 60000/60000 [00:00<00:00, 100090.50img/s, loss (batch)=1.31]\n",
      "[DRE] Training.. Epoch 48/350:  25%|\u001b[34m██▌       \u001b[0m| 15000/60000 [00:00<00:00, 97118.25img/s, loss (batch)=1.45]"
     ]
    },
    {
     "name": "stdout",
     "output_type": "stream",
     "text": [
      "\n",
      "Epoch: 47\n"
     ]
    },
    {
     "name": "stderr",
     "output_type": "stream",
     "text": [
      "[DRE] Training.. Epoch 48/350: 100%|\u001b[34m██████████\u001b[0m| 60000/60000 [00:00<00:00, 99527.61img/s, loss (batch)=1.3] \n",
      "[DRE] Training.. Epoch 49/350:  25%|\u001b[34m██▌       \u001b[0m| 15000/60000 [00:00<00:00, 95626.53img/s, loss (batch)=1.45]"
     ]
    },
    {
     "name": "stdout",
     "output_type": "stream",
     "text": [
      "\n",
      "Epoch: 48\n"
     ]
    },
    {
     "name": "stderr",
     "output_type": "stream",
     "text": [
      "[DRE] Training.. Epoch 49/350: 100%|\u001b[34m██████████\u001b[0m| 60000/60000 [00:00<00:00, 98820.34img/s, loss (batch)=1.3] \n",
      "[DRE] Training.. Epoch 50/350:  29%|\u001b[34m██▉       \u001b[0m| 17500/60000 [00:00<00:00, 100213.31img/s, loss (batch)=1.42]"
     ]
    },
    {
     "name": "stdout",
     "output_type": "stream",
     "text": [
      "\n",
      "Epoch: 49\n"
     ]
    },
    {
     "name": "stderr",
     "output_type": "stream",
     "text": [
      "[DRE] Training.. Epoch 50/350: 100%|\u001b[34m██████████\u001b[0m| 60000/60000 [00:00<00:00, 101891.70img/s, loss (batch)=1.29]\n",
      "[DRE] Validating.. Epoch 50/350: 100%|\u001b[32m██████████\u001b[0m| 60000/60000 [00:00<00:00, 141376.82img/s, loss (batch)=tensor(1.4260, device='cuda:0', dtype=torch.float64)]\n",
      "[DRE] Training.. Epoch 51/350:  29%|\u001b[34m██▉       \u001b[0m| 17500/60000 [00:00<00:00, 99914.24img/s, loss (batch)=1.41]"
     ]
    },
    {
     "name": "stdout",
     "output_type": "stream",
     "text": [
      "[DRE] Best accuracy, saving the weights...\n",
      "\n",
      "Epoch: 50\n"
     ]
    },
    {
     "name": "stderr",
     "output_type": "stream",
     "text": [
      "[DRE] Training.. Epoch 51/350: 100%|\u001b[34m██████████\u001b[0m| 60000/60000 [00:00<00:00, 100263.41img/s, loss (batch)=1.29]\n",
      "[DRE] Training.. Epoch 52/350:  29%|\u001b[34m██▉       \u001b[0m| 17500/60000 [00:00<00:00, 101045.56img/s, loss (batch)=1.41]"
     ]
    },
    {
     "name": "stdout",
     "output_type": "stream",
     "text": [
      "\n",
      "Epoch: 51\n"
     ]
    },
    {
     "name": "stderr",
     "output_type": "stream",
     "text": [
      "[DRE] Training.. Epoch 52/350: 100%|\u001b[34m██████████\u001b[0m| 60000/60000 [00:00<00:00, 99942.87img/s, loss (batch)=1.28] \n",
      "[DRE] Training.. Epoch 53/350:  29%|\u001b[34m██▉       \u001b[0m| 17500/60000 [00:00<00:00, 99460.62img/s, loss (batch)=1.39]"
     ]
    },
    {
     "name": "stdout",
     "output_type": "stream",
     "text": [
      "\n",
      "Epoch: 52\n"
     ]
    },
    {
     "name": "stderr",
     "output_type": "stream",
     "text": [
      "[DRE] Training.. Epoch 53/350: 100%|\u001b[34m██████████\u001b[0m| 60000/60000 [00:00<00:00, 101626.43img/s, loss (batch)=1.28]\n",
      "[DRE] Training.. Epoch 54/350:  29%|\u001b[34m██▉       \u001b[0m| 17500/60000 [00:00<00:00, 99243.40img/s, loss (batch)=1.39]"
     ]
    },
    {
     "name": "stdout",
     "output_type": "stream",
     "text": [
      "\n",
      "Epoch: 53\n"
     ]
    },
    {
     "name": "stderr",
     "output_type": "stream",
     "text": [
      "[DRE] Training.. Epoch 54/350: 100%|\u001b[34m██████████\u001b[0m| 60000/60000 [00:00<00:00, 100680.13img/s, loss (batch)=1.27]\n",
      "[DRE] Training.. Epoch 55/350:  29%|\u001b[34m██▉       \u001b[0m| 17500/60000 [00:00<00:00, 99122.61img/s, loss (batch)=1.39]"
     ]
    },
    {
     "name": "stdout",
     "output_type": "stream",
     "text": [
      "\n",
      "Epoch: 54\n"
     ]
    },
    {
     "name": "stderr",
     "output_type": "stream",
     "text": [
      "[DRE] Training.. Epoch 55/350: 100%|\u001b[34m██████████\u001b[0m| 60000/60000 [00:00<00:00, 100614.52img/s, loss (batch)=1.27]\n",
      "[DRE] Training.. Epoch 56/350:  29%|\u001b[34m██▉       \u001b[0m| 17500/60000 [00:00<00:00, 100480.66img/s, loss (batch)=1.38]"
     ]
    },
    {
     "name": "stdout",
     "output_type": "stream",
     "text": [
      "\n",
      "Epoch: 55\n"
     ]
    },
    {
     "name": "stderr",
     "output_type": "stream",
     "text": [
      "[DRE] Training.. Epoch 56/350: 100%|\u001b[34m██████████\u001b[0m| 60000/60000 [00:00<00:00, 100881.48img/s, loss (batch)=1.27]\n",
      "[DRE] Training.. Epoch 57/350:  25%|\u001b[34m██▌       \u001b[0m| 15000/60000 [00:00<00:00, 100036.25img/s, loss (batch)=1.41]"
     ]
    },
    {
     "name": "stdout",
     "output_type": "stream",
     "text": [
      "\n",
      "Epoch: 56\n"
     ]
    },
    {
     "name": "stderr",
     "output_type": "stream",
     "text": [
      "[DRE] Training.. Epoch 57/350: 100%|\u001b[34m██████████\u001b[0m| 60000/60000 [00:00<00:00, 99147.76img/s, loss (batch)=1.27] \n",
      "[DRE] Training.. Epoch 58/350:  25%|\u001b[34m██▌       \u001b[0m| 15000/60000 [00:00<00:00, 99895.06img/s, loss (batch)=1.41]"
     ]
    },
    {
     "name": "stdout",
     "output_type": "stream",
     "text": [
      "\n",
      "Epoch: 57\n"
     ]
    },
    {
     "name": "stderr",
     "output_type": "stream",
     "text": [
      "[DRE] Training.. Epoch 58/350: 100%|\u001b[34m██████████\u001b[0m| 60000/60000 [00:00<00:00, 98195.41img/s, loss (batch)=1.26]\n",
      "[DRE] Training.. Epoch 59/350:  25%|\u001b[34m██▌       \u001b[0m| 15000/60000 [00:00<00:00, 97880.89img/s, loss (batch)=1.4] "
     ]
    },
    {
     "name": "stdout",
     "output_type": "stream",
     "text": [
      "\n",
      "Epoch: 58\n"
     ]
    },
    {
     "name": "stderr",
     "output_type": "stream",
     "text": [
      "[DRE] Training.. Epoch 59/350: 100%|\u001b[34m██████████\u001b[0m| 60000/60000 [00:00<00:00, 99723.26img/s, loss (batch)=1.26]\n",
      "[DRE] Training.. Epoch 60/350:  29%|\u001b[34m██▉       \u001b[0m| 17500/60000 [00:00<00:00, 103077.45img/s, loss (batch)=1.37]"
     ]
    },
    {
     "name": "stdout",
     "output_type": "stream",
     "text": [
      "\n",
      "Epoch: 59\n"
     ]
    },
    {
     "name": "stderr",
     "output_type": "stream",
     "text": [
      "[DRE] Training.. Epoch 60/350: 100%|\u001b[34m██████████\u001b[0m| 60000/60000 [00:00<00:00, 99976.42img/s, loss (batch)=1.26] \n",
      "[DRE] Validating.. Epoch 60/350: 100%|\u001b[32m██████████\u001b[0m| 60000/60000 [00:00<00:00, 138712.23img/s, loss (batch)=tensor(1.4073, device='cuda:0', dtype=torch.float64)]\n",
      "[DRE] Training.. Epoch 61/350:  25%|\u001b[34m██▌       \u001b[0m| 15000/60000 [00:00<00:00, 97714.29img/s, loss (batch)=1.4] "
     ]
    },
    {
     "name": "stdout",
     "output_type": "stream",
     "text": [
      "[DRE] Best accuracy, saving the weights...\n",
      "\n",
      "Epoch: 60\n"
     ]
    },
    {
     "name": "stderr",
     "output_type": "stream",
     "text": [
      "[DRE] Training.. Epoch 61/350: 100%|\u001b[34m██████████\u001b[0m| 60000/60000 [00:00<00:00, 98519.70img/s, loss (batch)=1.26]\n",
      "[DRE] Training.. Epoch 62/350:  25%|\u001b[34m██▌       \u001b[0m| 15000/60000 [00:00<00:00, 98145.89img/s, loss (batch)=1.4] "
     ]
    },
    {
     "name": "stdout",
     "output_type": "stream",
     "text": [
      "\n",
      "Epoch: 61\n"
     ]
    },
    {
     "name": "stderr",
     "output_type": "stream",
     "text": [
      "[DRE] Training.. Epoch 62/350: 100%|\u001b[34m██████████\u001b[0m| 60000/60000 [00:00<00:00, 101437.55img/s, loss (batch)=1.26]\n",
      "[DRE] Training.. Epoch 63/350:  29%|\u001b[34m██▉       \u001b[0m| 17500/60000 [00:00<00:00, 101198.27img/s, loss (batch)=1.37]"
     ]
    },
    {
     "name": "stdout",
     "output_type": "stream",
     "text": [
      "\n",
      "Epoch: 62\n"
     ]
    },
    {
     "name": "stderr",
     "output_type": "stream",
     "text": [
      "[DRE] Training.. Epoch 63/350: 100%|\u001b[34m██████████\u001b[0m| 60000/60000 [00:00<00:00, 99514.93img/s, loss (batch)=1.25] \n",
      "[DRE] Training.. Epoch 64/350:  25%|\u001b[34m██▌       \u001b[0m| 15000/60000 [00:00<00:00, 98433.81img/s, loss (batch)=1.39]"
     ]
    },
    {
     "name": "stdout",
     "output_type": "stream",
     "text": [
      "\n",
      "Epoch: 63\n"
     ]
    },
    {
     "name": "stderr",
     "output_type": "stream",
     "text": [
      "[DRE] Training.. Epoch 64/350: 100%|\u001b[34m██████████\u001b[0m| 60000/60000 [00:00<00:00, 99606.00img/s, loss (batch)=1.24] \n",
      "[DRE] Training.. Epoch 65/350:  29%|\u001b[34m██▉       \u001b[0m| 17500/60000 [00:00<00:00, 98837.88img/s, loss (batch)=1.36]"
     ]
    },
    {
     "name": "stdout",
     "output_type": "stream",
     "text": [
      "\n",
      "Epoch: 64\n"
     ]
    },
    {
     "name": "stderr",
     "output_type": "stream",
     "text": [
      "[DRE] Training.. Epoch 65/350: 100%|\u001b[34m██████████\u001b[0m| 60000/60000 [00:00<00:00, 100875.86img/s, loss (batch)=1.24]\n",
      "[DRE] Training.. Epoch 66/350:  29%|\u001b[34m██▉       \u001b[0m| 17500/60000 [00:00<00:00, 102413.20img/s, loss (batch)=1.36]"
     ]
    },
    {
     "name": "stdout",
     "output_type": "stream",
     "text": [
      "\n",
      "Epoch: 65\n"
     ]
    },
    {
     "name": "stderr",
     "output_type": "stream",
     "text": [
      "[DRE] Training.. Epoch 66/350: 100%|\u001b[34m██████████\u001b[0m| 60000/60000 [00:00<00:00, 99998.43img/s, loss (batch)=1.23] \n",
      "[DRE] Training.. Epoch 67/350:  25%|\u001b[34m██▌       \u001b[0m| 15000/60000 [00:00<00:00, 100087.43img/s, loss (batch)=1.37]"
     ]
    },
    {
     "name": "stdout",
     "output_type": "stream",
     "text": [
      "\n",
      "Epoch: 66\n"
     ]
    },
    {
     "name": "stderr",
     "output_type": "stream",
     "text": [
      "[DRE] Training.. Epoch 67/350: 100%|\u001b[34m██████████\u001b[0m| 60000/60000 [00:00<00:00, 99477.64img/s, loss (batch)=1.23] \n",
      "[DRE] Training.. Epoch 68/350:  25%|\u001b[34m██▌       \u001b[0m| 15000/60000 [00:00<00:00, 95972.69img/s, loss (batch)=1.37]"
     ]
    },
    {
     "name": "stdout",
     "output_type": "stream",
     "text": [
      "\n",
      "Epoch: 67\n"
     ]
    },
    {
     "name": "stderr",
     "output_type": "stream",
     "text": [
      "[DRE] Training.. Epoch 68/350: 100%|\u001b[34m██████████\u001b[0m| 60000/60000 [00:00<00:00, 99045.33img/s, loss (batch)=1.23]\n",
      "[DRE] Training.. Epoch 69/350:  29%|\u001b[34m██▉       \u001b[0m| 17500/60000 [00:00<00:00, 101833.16img/s, loss (batch)=1.34]"
     ]
    },
    {
     "name": "stdout",
     "output_type": "stream",
     "text": [
      "\n",
      "Epoch: 68\n"
     ]
    },
    {
     "name": "stderr",
     "output_type": "stream",
     "text": [
      "[DRE] Training.. Epoch 69/350: 100%|\u001b[34m██████████\u001b[0m| 60000/60000 [00:00<00:00, 101348.94img/s, loss (batch)=1.22]\n",
      "[DRE] Training.. Epoch 70/350:  29%|\u001b[34m██▉       \u001b[0m| 17500/60000 [00:00<00:00, 102021.21img/s, loss (batch)=1.35]"
     ]
    },
    {
     "name": "stdout",
     "output_type": "stream",
     "text": [
      "\n",
      "Epoch: 69\n"
     ]
    },
    {
     "name": "stderr",
     "output_type": "stream",
     "text": [
      "[DRE] Training.. Epoch 70/350: 100%|\u001b[34m██████████\u001b[0m| 60000/60000 [00:00<00:00, 99854.47img/s, loss (batch)=1.23] \n",
      "[DRE] Validating.. Epoch 70/350: 100%|\u001b[32m██████████\u001b[0m| 60000/60000 [00:00<00:00, 139427.02img/s, loss (batch)=tensor(1.3762, device='cuda:0', dtype=torch.float64)]\n",
      "[DRE] Training.. Epoch 71/350:  25%|\u001b[34m██▌       \u001b[0m| 15000/60000 [00:00<00:00, 98575.02img/s, loss (batch)=1.37]"
     ]
    },
    {
     "name": "stdout",
     "output_type": "stream",
     "text": [
      "[DRE] Best accuracy, saving the weights...\n",
      "\n",
      "Epoch: 70\n"
     ]
    },
    {
     "name": "stderr",
     "output_type": "stream",
     "text": [
      "[DRE] Training.. Epoch 71/350: 100%|\u001b[34m██████████\u001b[0m| 60000/60000 [00:00<00:00, 101261.83img/s, loss (batch)=1.22]\n",
      "[DRE] Training.. Epoch 72/350:  29%|\u001b[34m██▉       \u001b[0m| 17500/60000 [00:00<00:00, 101799.15img/s, loss (batch)=1.34]"
     ]
    },
    {
     "name": "stdout",
     "output_type": "stream",
     "text": [
      "\n",
      "Epoch: 71\n"
     ]
    },
    {
     "name": "stderr",
     "output_type": "stream",
     "text": [
      "[DRE] Training.. Epoch 72/350: 100%|\u001b[34m██████████\u001b[0m| 60000/60000 [00:00<00:00, 100377.26img/s, loss (batch)=1.22]\n",
      "[DRE] Training.. Epoch 73/350:  29%|\u001b[34m██▉       \u001b[0m| 17500/60000 [00:00<00:00, 99229.31img/s, loss (batch)=1.34]"
     ]
    },
    {
     "name": "stdout",
     "output_type": "stream",
     "text": [
      "\n",
      "Epoch: 72\n"
     ]
    },
    {
     "name": "stderr",
     "output_type": "stream",
     "text": [
      "[DRE] Training.. Epoch 73/350: 100%|\u001b[34m██████████\u001b[0m| 60000/60000 [00:00<00:00, 99795.67img/s, loss (batch)=1.21] \n",
      "[DRE] Training.. Epoch 74/350:  25%|\u001b[34m██▌       \u001b[0m| 15000/60000 [00:00<00:00, 101369.67img/s, loss (batch)=1.36]"
     ]
    },
    {
     "name": "stdout",
     "output_type": "stream",
     "text": [
      "\n",
      "Epoch: 73\n"
     ]
    },
    {
     "name": "stderr",
     "output_type": "stream",
     "text": [
      "[DRE] Training.. Epoch 74/350: 100%|\u001b[34m██████████\u001b[0m| 60000/60000 [00:00<00:00, 100498.04img/s, loss (batch)=1.21]\n",
      "[DRE] Training.. Epoch 75/350:  29%|\u001b[34m██▉       \u001b[0m| 17500/60000 [00:00<00:00, 104834.33img/s, loss (batch)=1.34]"
     ]
    },
    {
     "name": "stdout",
     "output_type": "stream",
     "text": [
      "\n",
      "Epoch: 74\n"
     ]
    },
    {
     "name": "stderr",
     "output_type": "stream",
     "text": [
      "[DRE] Training.. Epoch 75/350: 100%|\u001b[34m██████████\u001b[0m| 60000/60000 [00:00<00:00, 101847.04img/s, loss (batch)=1.21]\n",
      "[DRE] Training.. Epoch 76/350:  29%|\u001b[34m██▉       \u001b[0m| 17500/60000 [00:00<00:00, 99038.12img/s, loss (batch)=1.34]"
     ]
    },
    {
     "name": "stdout",
     "output_type": "stream",
     "text": [
      "\n",
      "Epoch: 75\n"
     ]
    },
    {
     "name": "stderr",
     "output_type": "stream",
     "text": [
      "[DRE] Training.. Epoch 76/350: 100%|\u001b[34m██████████\u001b[0m| 60000/60000 [00:00<00:00, 100513.89img/s, loss (batch)=1.21]\n",
      "[DRE] Training.. Epoch 77/350:  29%|\u001b[34m██▉       \u001b[0m| 17500/60000 [00:00<00:00, 101650.53img/s, loss (batch)=1.33]"
     ]
    },
    {
     "name": "stdout",
     "output_type": "stream",
     "text": [
      "\n",
      "Epoch: 76\n"
     ]
    },
    {
     "name": "stderr",
     "output_type": "stream",
     "text": [
      "[DRE] Training.. Epoch 77/350: 100%|\u001b[34m██████████\u001b[0m| 60000/60000 [00:00<00:00, 101643.22img/s, loss (batch)=1.22]\n",
      "[DRE] Training.. Epoch 78/350:  29%|\u001b[34m██▉       \u001b[0m| 17500/60000 [00:00<00:00, 99866.52img/s, loss (batch)=1.33]"
     ]
    },
    {
     "name": "stdout",
     "output_type": "stream",
     "text": [
      "\n",
      "Epoch: 77\n"
     ]
    },
    {
     "name": "stderr",
     "output_type": "stream",
     "text": [
      "[DRE] Training.. Epoch 78/350: 100%|\u001b[34m██████████\u001b[0m| 60000/60000 [00:00<00:00, 101577.82img/s, loss (batch)=1.21]\n",
      "[DRE] Training.. Epoch 79/350:  29%|\u001b[34m██▉       \u001b[0m| 17500/60000 [00:00<00:00, 100176.36img/s, loss (batch)=1.33]"
     ]
    },
    {
     "name": "stdout",
     "output_type": "stream",
     "text": [
      "\n",
      "Epoch: 78\n"
     ]
    },
    {
     "name": "stderr",
     "output_type": "stream",
     "text": [
      "[DRE] Training.. Epoch 79/350: 100%|\u001b[34m██████████\u001b[0m| 60000/60000 [00:00<00:00, 99527.88img/s, loss (batch)=1.2]  \n",
      "[DRE] Training.. Epoch 80/350:  29%|\u001b[34m██▉       \u001b[0m| 17500/60000 [00:00<00:00, 101887.97img/s, loss (batch)=1.32]"
     ]
    },
    {
     "name": "stdout",
     "output_type": "stream",
     "text": [
      "\n",
      "Epoch: 79\n"
     ]
    },
    {
     "name": "stderr",
     "output_type": "stream",
     "text": [
      "[DRE] Training.. Epoch 80/350: 100%|\u001b[34m██████████\u001b[0m| 60000/60000 [00:00<00:00, 100509.60img/s, loss (batch)=1.2] \n",
      "[DRE] Validating.. Epoch 80/350: 100%|\u001b[32m██████████\u001b[0m| 60000/60000 [00:00<00:00, 140857.01img/s, loss (batch)=tensor(1.3605, device='cuda:0', dtype=torch.float64)]\n",
      "[DRE] Training.. Epoch 81/350:  29%|\u001b[34m██▉       \u001b[0m| 17500/60000 [00:00<00:00, 104047.90img/s, loss (batch)=1.33]"
     ]
    },
    {
     "name": "stdout",
     "output_type": "stream",
     "text": [
      "[DRE] Best accuracy, saving the weights...\n",
      "\n",
      "Epoch: 80\n"
     ]
    },
    {
     "name": "stderr",
     "output_type": "stream",
     "text": [
      "[DRE] Training.. Epoch 81/350: 100%|\u001b[34m██████████\u001b[0m| 60000/60000 [00:00<00:00, 101979.15img/s, loss (batch)=1.2] \n",
      "[DRE] Training.. Epoch 82/350:  29%|\u001b[34m██▉       \u001b[0m| 17500/60000 [00:00<00:00, 99985.08img/s, loss (batch)=1.33]"
     ]
    },
    {
     "name": "stdout",
     "output_type": "stream",
     "text": [
      "\n",
      "Epoch: 81\n"
     ]
    },
    {
     "name": "stderr",
     "output_type": "stream",
     "text": [
      "[DRE] Training.. Epoch 82/350: 100%|\u001b[34m██████████\u001b[0m| 60000/60000 [00:00<00:00, 99390.89img/s, loss (batch)=1.2]  \n",
      "[DRE] Training.. Epoch 83/350:  25%|\u001b[34m██▌       \u001b[0m| 15000/60000 [00:00<00:00, 98807.98img/s, loss (batch)=1.35]"
     ]
    },
    {
     "name": "stdout",
     "output_type": "stream",
     "text": [
      "\n",
      "Epoch: 82\n"
     ]
    },
    {
     "name": "stderr",
     "output_type": "stream",
     "text": [
      "[DRE] Training.. Epoch 83/350: 100%|\u001b[34m██████████\u001b[0m| 60000/60000 [00:00<00:00, 100396.44img/s, loss (batch)=1.2] \n",
      "[DRE] Training.. Epoch 84/350:  29%|\u001b[34m██▉       \u001b[0m| 17500/60000 [00:00<00:00, 102470.25img/s, loss (batch)=1.33]"
     ]
    },
    {
     "name": "stdout",
     "output_type": "stream",
     "text": [
      "\n",
      "Epoch: 83\n"
     ]
    },
    {
     "name": "stderr",
     "output_type": "stream",
     "text": [
      "[DRE] Training.. Epoch 84/350: 100%|\u001b[34m██████████\u001b[0m| 60000/60000 [00:00<00:00, 102986.51img/s, loss (batch)=1.21]\n",
      "[DRE] Training.. Epoch 85/350:  29%|\u001b[34m██▉       \u001b[0m| 17500/60000 [00:00<00:00, 101618.41img/s, loss (batch)=1.33]"
     ]
    },
    {
     "name": "stdout",
     "output_type": "stream",
     "text": [
      "\n",
      "Epoch: 84\n"
     ]
    },
    {
     "name": "stderr",
     "output_type": "stream",
     "text": [
      "[DRE] Training.. Epoch 85/350: 100%|\u001b[34m██████████\u001b[0m| 60000/60000 [00:00<00:00, 101480.87img/s, loss (batch)=1.2] \n",
      "[DRE] Training.. Epoch 86/350:  25%|\u001b[34m██▌       \u001b[0m| 15000/60000 [00:00<00:00, 99948.62img/s, loss (batch)=1.34]"
     ]
    },
    {
     "name": "stdout",
     "output_type": "stream",
     "text": [
      "\n",
      "Epoch: 85\n"
     ]
    },
    {
     "name": "stderr",
     "output_type": "stream",
     "text": [
      "[DRE] Training.. Epoch 86/350: 100%|\u001b[34m██████████\u001b[0m| 60000/60000 [00:00<00:00, 100069.01img/s, loss (batch)=1.2] \n",
      "[DRE] Training.. Epoch 87/350:  29%|\u001b[34m██▉       \u001b[0m| 17500/60000 [00:00<00:00, 101145.17img/s, loss (batch)=1.31]"
     ]
    },
    {
     "name": "stdout",
     "output_type": "stream",
     "text": [
      "\n",
      "Epoch: 86\n"
     ]
    },
    {
     "name": "stderr",
     "output_type": "stream",
     "text": [
      "[DRE] Training.. Epoch 87/350: 100%|\u001b[34m██████████\u001b[0m| 60000/60000 [00:00<00:00, 101367.43img/s, loss (batch)=1.19]\n",
      "[DRE] Training.. Epoch 88/350:  29%|\u001b[34m██▉       \u001b[0m| 17500/60000 [00:00<00:00, 99903.39img/s, loss (batch)=1.31]"
     ]
    },
    {
     "name": "stdout",
     "output_type": "stream",
     "text": [
      "\n",
      "Epoch: 87\n"
     ]
    },
    {
     "name": "stderr",
     "output_type": "stream",
     "text": [
      "[DRE] Training.. Epoch 88/350: 100%|\u001b[34m██████████\u001b[0m| 60000/60000 [00:00<00:00, 100067.57img/s, loss (batch)=1.19]\n",
      "[DRE] Training.. Epoch 89/350:  25%|\u001b[34m██▌       \u001b[0m| 15000/60000 [00:00<00:00, 97692.35img/s, loss (batch)=1.33]"
     ]
    },
    {
     "name": "stdout",
     "output_type": "stream",
     "text": [
      "\n",
      "Epoch: 88\n"
     ]
    },
    {
     "name": "stderr",
     "output_type": "stream",
     "text": [
      "[DRE] Training.. Epoch 89/350: 100%|\u001b[34m██████████\u001b[0m| 60000/60000 [00:00<00:00, 100116.22img/s, loss (batch)=1.19]\n",
      "[DRE] Training.. Epoch 90/350:  25%|\u001b[34m██▌       \u001b[0m| 15000/60000 [00:00<00:00, 98918.76img/s, loss (batch)=1.32]"
     ]
    },
    {
     "name": "stdout",
     "output_type": "stream",
     "text": [
      "\n",
      "Epoch: 89\n"
     ]
    },
    {
     "name": "stderr",
     "output_type": "stream",
     "text": [
      "[DRE] Training.. Epoch 90/350: 100%|\u001b[34m██████████\u001b[0m| 60000/60000 [00:00<00:00, 100235.81img/s, loss (batch)=1.18]\n",
      "[DRE] Validating.. Epoch 90/350: 100%|\u001b[32m██████████\u001b[0m| 60000/60000 [00:00<00:00, 143671.79img/s, loss (batch)=tensor(1.3384, device='cuda:0', dtype=torch.float64)]\n",
      "[DRE] Training.. Epoch 91/350:  29%|\u001b[34m██▉       \u001b[0m| 17500/60000 [00:00<00:00, 100545.99img/s, loss (batch)=1.31]"
     ]
    },
    {
     "name": "stdout",
     "output_type": "stream",
     "text": [
      "[DRE] Best accuracy, saving the weights...\n",
      "\n",
      "Epoch: 90\n"
     ]
    },
    {
     "name": "stderr",
     "output_type": "stream",
     "text": [
      "[DRE] Training.. Epoch 91/350: 100%|\u001b[34m██████████\u001b[0m| 60000/60000 [00:00<00:00, 100166.87img/s, loss (batch)=1.19]\n",
      "[DRE] Training.. Epoch 92/350:  25%|\u001b[34m██▌       \u001b[0m| 15000/60000 [00:00<00:00, 99265.01img/s, loss (batch)=1.33]"
     ]
    },
    {
     "name": "stdout",
     "output_type": "stream",
     "text": [
      "\n",
      "Epoch: 91\n"
     ]
    },
    {
     "name": "stderr",
     "output_type": "stream",
     "text": [
      "[DRE] Training.. Epoch 92/350: 100%|\u001b[34m██████████\u001b[0m| 60000/60000 [00:00<00:00, 99455.78img/s, loss (batch)=1.18] \n",
      "[DRE] Training.. Epoch 93/350:  29%|\u001b[34m██▉       \u001b[0m| 17500/60000 [00:00<00:00, 103123.48img/s, loss (batch)=1.3] "
     ]
    },
    {
     "name": "stdout",
     "output_type": "stream",
     "text": [
      "\n",
      "Epoch: 92\n"
     ]
    },
    {
     "name": "stderr",
     "output_type": "stream",
     "text": [
      "[DRE] Training.. Epoch 93/350: 100%|\u001b[34m██████████\u001b[0m| 60000/60000 [00:00<00:00, 102143.23img/s, loss (batch)=1.17]\n",
      "[DRE] Training.. Epoch 94/350:  29%|\u001b[34m██▉       \u001b[0m| 17500/60000 [00:00<00:00, 104068.35img/s, loss (batch)=1.3] "
     ]
    },
    {
     "name": "stdout",
     "output_type": "stream",
     "text": [
      "\n",
      "Epoch: 93\n"
     ]
    },
    {
     "name": "stderr",
     "output_type": "stream",
     "text": [
      "[DRE] Training.. Epoch 94/350: 100%|\u001b[34m██████████\u001b[0m| 60000/60000 [00:00<00:00, 101037.21img/s, loss (batch)=1.18]\n",
      "[DRE] Training.. Epoch 95/350:  29%|\u001b[34m██▉       \u001b[0m| 17500/60000 [00:00<00:00, 99643.74img/s, loss (batch)=1.3] "
     ]
    },
    {
     "name": "stdout",
     "output_type": "stream",
     "text": [
      "\n",
      "Epoch: 94\n"
     ]
    },
    {
     "name": "stderr",
     "output_type": "stream",
     "text": [
      "[DRE] Training.. Epoch 95/350: 100%|\u001b[34m██████████\u001b[0m| 60000/60000 [00:00<00:00, 100560.24img/s, loss (batch)=1.18]\n",
      "[DRE] Training.. Epoch 96/350:  25%|\u001b[34m██▌       \u001b[0m| 15000/60000 [00:00<00:00, 97368.50img/s, loss (batch)=1.32]"
     ]
    },
    {
     "name": "stdout",
     "output_type": "stream",
     "text": [
      "\n",
      "Epoch: 95\n"
     ]
    },
    {
     "name": "stderr",
     "output_type": "stream",
     "text": [
      "[DRE] Training.. Epoch 96/350: 100%|\u001b[34m██████████\u001b[0m| 60000/60000 [00:00<00:00, 99790.53img/s, loss (batch)=1.17] \n",
      "[DRE] Training.. Epoch 97/350:  29%|\u001b[34m██▉       \u001b[0m| 17500/60000 [00:00<00:00, 103335.88img/s, loss (batch)=1.29]"
     ]
    },
    {
     "name": "stdout",
     "output_type": "stream",
     "text": [
      "\n",
      "Epoch: 96\n"
     ]
    },
    {
     "name": "stderr",
     "output_type": "stream",
     "text": [
      "[DRE] Training.. Epoch 97/350: 100%|\u001b[34m██████████\u001b[0m| 60000/60000 [00:00<00:00, 102289.49img/s, loss (batch)=1.17]\n",
      "[DRE] Training.. Epoch 98/350:  29%|\u001b[34m██▉       \u001b[0m| 17500/60000 [00:00<00:00, 99921.48img/s, loss (batch)=1.3] "
     ]
    },
    {
     "name": "stdout",
     "output_type": "stream",
     "text": [
      "\n",
      "Epoch: 97\n"
     ]
    },
    {
     "name": "stderr",
     "output_type": "stream",
     "text": [
      "[DRE] Training.. Epoch 98/350: 100%|\u001b[34m██████████\u001b[0m| 60000/60000 [00:00<00:00, 101110.04img/s, loss (batch)=1.17]\n",
      "[DRE] Training.. Epoch 99/350:  29%|\u001b[34m██▉       \u001b[0m| 17500/60000 [00:00<00:00, 101804.88img/s, loss (batch)=1.3] "
     ]
    },
    {
     "name": "stdout",
     "output_type": "stream",
     "text": [
      "\n",
      "Epoch: 98\n"
     ]
    },
    {
     "name": "stderr",
     "output_type": "stream",
     "text": [
      "[DRE] Training.. Epoch 99/350: 100%|\u001b[34m██████████\u001b[0m| 60000/60000 [00:00<00:00, 100845.10img/s, loss (batch)=1.17]\n",
      "[DRE] Training.. Epoch 100/350:  29%|\u001b[34m██▉       \u001b[0m| 17500/60000 [00:00<00:00, 102104.46img/s, loss (batch)=1.3] "
     ]
    },
    {
     "name": "stdout",
     "output_type": "stream",
     "text": [
      "\n",
      "Epoch: 99\n"
     ]
    },
    {
     "name": "stderr",
     "output_type": "stream",
     "text": [
      "[DRE] Training.. Epoch 100/350: 100%|\u001b[34m██████████\u001b[0m| 60000/60000 [00:00<00:00, 102992.03img/s, loss (batch)=1.17]\n",
      "[DRE] Validating.. Epoch 100/350: 100%|\u001b[32m██████████\u001b[0m| 60000/60000 [00:00<00:00, 142019.48img/s, loss (batch)=tensor(1.3307, device='cuda:0', dtype=torch.float64)]\n"
     ]
    },
    {
     "name": "stdout",
     "output_type": "stream",
     "text": [
      "[DRE] Best accuracy, saving the weights...\n",
      "building P matrix...\n",
      "[DRE] recursive step 1 data shape:  (2500, 2000)\n",
      "[DRE] Computed conditional probabilities for sample 1000 / 2500\n",
      "[DRE] Computed conditional probabilities for sample 2000 / 2500\n",
      "[DRE] Computed conditional probabilities for sample 2500 / 2500\n",
      "[DRE] Mean sigma: 5.020535\n",
      "[DRE] P length:  1\n",
      "[DRE] recursive step 1 data shape:  (2500, 2000)\n",
      "[DRE] Computed conditional probabilities for sample 1000 / 2500\n",
      "[DRE] Computed conditional probabilities for sample 2000 / 2500\n",
      "[DRE] Computed conditional probabilities for sample 2500 / 2500\n",
      "[DRE] Mean sigma: 4.987071\n",
      "[DRE] P length:  2\n",
      "[DRE] recursive step 1 data shape:  (2500, 2000)\n",
      "[DRE] Computed conditional probabilities for sample 1000 / 2500\n",
      "[DRE] Computed conditional probabilities for sample 2000 / 2500\n",
      "[DRE] Computed conditional probabilities for sample 2500 / 2500\n",
      "[DRE] Mean sigma: 4.944389\n",
      "[DRE] P length:  3\n",
      "[DRE] recursive step 1 data shape:  (2500, 2000)\n",
      "[DRE] Computed conditional probabilities for sample 1000 / 2500\n",
      "[DRE] Computed conditional probabilities for sample 2000 / 2500\n",
      "[DRE] Computed conditional probabilities for sample 2500 / 2500\n",
      "[DRE] Mean sigma: 4.995678\n",
      "[DRE] P length:  4\n",
      "[DRE] recursive step 1 data shape:  (2500, 2000)\n",
      "[DRE] Computed conditional probabilities for sample 1000 / 2500\n",
      "[DRE] Computed conditional probabilities for sample 2000 / 2500\n",
      "[DRE] Computed conditional probabilities for sample 2500 / 2500\n",
      "[DRE] Mean sigma: 4.918074\n",
      "[DRE] P length:  5\n",
      "[DRE] recursive step 1 data shape:  (2500, 2000)\n",
      "[DRE] Computed conditional probabilities for sample 1000 / 2500\n",
      "[DRE] Computed conditional probabilities for sample 2000 / 2500\n",
      "[DRE] Computed conditional probabilities for sample 2500 / 2500\n",
      "[DRE] Mean sigma: 5.273401\n",
      "[DRE] P length:  6\n",
      "[DRE] recursive step 1 data shape:  (2500, 2000)\n",
      "[DRE] Computed conditional probabilities for sample 1000 / 2500\n",
      "[DRE] Computed conditional probabilities for sample 2000 / 2500\n",
      "[DRE] Computed conditional probabilities for sample 2500 / 2500\n",
      "[DRE] Mean sigma: 5.113789\n",
      "[DRE] P length:  7\n",
      "[DRE] recursive step 1 data shape:  (2500, 2000)\n",
      "[DRE] Computed conditional probabilities for sample 1000 / 2500\n",
      "[DRE] Computed conditional probabilities for sample 2000 / 2500\n",
      "[DRE] Computed conditional probabilities for sample 2500 / 2500\n",
      "[DRE] Mean sigma: 5.007107\n",
      "[DRE] P length:  8\n",
      "[DRE] recursive step 1 data shape:  (2500, 2000)\n",
      "[DRE] Computed conditional probabilities for sample 1000 / 2500\n",
      "[DRE] Computed conditional probabilities for sample 2000 / 2500\n",
      "[DRE] Computed conditional probabilities for sample 2500 / 2500\n",
      "[DRE] Mean sigma: 4.982364\n",
      "[DRE] P length:  9\n",
      "[DRE] recursive step 1 data shape:  (2500, 2000)\n",
      "[DRE] Computed conditional probabilities for sample 1000 / 2500\n",
      "[DRE] Computed conditional probabilities for sample 2000 / 2500\n",
      "[DRE] Computed conditional probabilities for sample 2500 / 2500\n",
      "[DRE] Mean sigma: 5.089382\n",
      "[DRE] P length:  10\n",
      "[DRE] recursive step 1 data shape:  (2500, 2000)\n",
      "[DRE] Computed conditional probabilities for sample 1000 / 2500\n",
      "[DRE] Computed conditional probabilities for sample 2000 / 2500\n",
      "[DRE] Computed conditional probabilities for sample 2500 / 2500\n",
      "[DRE] Mean sigma: 4.663495\n",
      "[DRE] P length:  11\n",
      "[DRE] recursive step 1 data shape:  (2500, 2000)\n",
      "[DRE] Computed conditional probabilities for sample 1000 / 2500\n",
      "[DRE] Computed conditional probabilities for sample 2000 / 2500\n",
      "[DRE] Computed conditional probabilities for sample 2500 / 2500\n",
      "[DRE] Mean sigma: 4.915425\n",
      "[DRE] P length:  12\n",
      "[DRE] recursive step 1 data shape:  (2500, 2000)\n",
      "[DRE] Computed conditional probabilities for sample 1000 / 2500\n",
      "[DRE] Computed conditional probabilities for sample 2000 / 2500\n",
      "[DRE] Computed conditional probabilities for sample 2500 / 2500\n",
      "[DRE] Mean sigma: 5.114968\n",
      "[DRE] P length:  13\n",
      "[DRE] recursive step 1 data shape:  (2500, 2000)\n",
      "[DRE] Computed conditional probabilities for sample 1000 / 2500\n",
      "[DRE] Computed conditional probabilities for sample 2000 / 2500\n",
      "[DRE] Computed conditional probabilities for sample 2500 / 2500\n",
      "[DRE] Mean sigma: 4.981735\n",
      "[DRE] P length:  14\n",
      "[DRE] recursive step 1 data shape:  (2500, 2000)\n",
      "[DRE] Computed conditional probabilities for sample 1000 / 2500\n",
      "[DRE] Computed conditional probabilities for sample 2000 / 2500\n",
      "[DRE] Computed conditional probabilities for sample 2500 / 2500\n",
      "[DRE] Mean sigma: 5.145169\n",
      "[DRE] P length:  15\n",
      "[DRE] recursive step 1 data shape:  (2500, 2000)\n",
      "[DRE] Computed conditional probabilities for sample 1000 / 2500\n",
      "[DRE] Computed conditional probabilities for sample 2000 / 2500\n",
      "[DRE] Computed conditional probabilities for sample 2500 / 2500\n",
      "[DRE] Mean sigma: 5.014901\n",
      "[DRE] P length:  16\n",
      "[DRE] recursive step 1 data shape:  (2500, 2000)\n",
      "[DRE] Computed conditional probabilities for sample 1000 / 2500\n",
      "[DRE] Computed conditional probabilities for sample 2000 / 2500\n",
      "[DRE] Computed conditional probabilities for sample 2500 / 2500\n",
      "[DRE] Mean sigma: 5.117901\n",
      "[DRE] P length:  17\n",
      "[DRE] recursive step 1 data shape:  (2500, 2000)\n",
      "[DRE] Computed conditional probabilities for sample 1000 / 2500\n",
      "[DRE] Computed conditional probabilities for sample 2000 / 2500\n",
      "[DRE] Computed conditional probabilities for sample 2500 / 2500\n",
      "[DRE] Mean sigma: 5.001494\n",
      "[DRE] P length:  18\n",
      "[DRE] recursive step 1 data shape:  (2500, 2000)\n",
      "[DRE] Computed conditional probabilities for sample 1000 / 2500\n",
      "[DRE] Computed conditional probabilities for sample 2000 / 2500\n",
      "[DRE] Computed conditional probabilities for sample 2500 / 2500\n",
      "[DRE] Mean sigma: 5.048817\n",
      "[DRE] P length:  19\n",
      "[DRE] recursive step 1 data shape:  (2500, 2000)\n",
      "[DRE] Computed conditional probabilities for sample 1000 / 2500\n",
      "[DRE] Computed conditional probabilities for sample 2000 / 2500\n",
      "[DRE] Computed conditional probabilities for sample 2500 / 2500\n",
      "[DRE] Mean sigma: 5.112727\n",
      "[DRE] P length:  20\n",
      "[DRE] recursive step 1 data shape:  (2500, 2000)\n",
      "[DRE] Computed conditional probabilities for sample 1000 / 2500\n",
      "[DRE] Computed conditional probabilities for sample 2000 / 2500\n",
      "[DRE] Computed conditional probabilities for sample 2500 / 2500\n",
      "[DRE] Mean sigma: 4.943128\n",
      "[DRE] P length:  21\n",
      "[DRE] recursive step 1 data shape:  (2500, 2000)\n",
      "[DRE] Computed conditional probabilities for sample 1000 / 2500\n",
      "[DRE] Computed conditional probabilities for sample 2000 / 2500\n",
      "[DRE] Computed conditional probabilities for sample 2500 / 2500\n",
      "[DRE] Mean sigma: 4.948219\n",
      "[DRE] P length:  22\n",
      "[DRE] recursive step 1 data shape:  (2500, 2000)\n",
      "[DRE] Computed conditional probabilities for sample 1000 / 2500\n",
      "[DRE] Computed conditional probabilities for sample 2000 / 2500\n",
      "[DRE] Computed conditional probabilities for sample 2500 / 2500\n",
      "[DRE] Mean sigma: 4.857482\n",
      "[DRE] P length:  23\n",
      "[DRE] recursive step 1 data shape:  (2500, 2000)\n"
     ]
    },
    {
     "name": "stderr",
     "output_type": "stream",
     "text": [
      "[DRE] Training.. Epoch 101/350:  21%|\u001b[34m██        \u001b[0m| 12500/60000 [00:00<00:00, 97687.58img/s, loss (batch)=0.629]"
     ]
    },
    {
     "name": "stdout",
     "output_type": "stream",
     "text": [
      "[DRE] Computed conditional probabilities for sample 1000 / 2500\n",
      "[DRE] Computed conditional probabilities for sample 2000 / 2500\n",
      "[DRE] Computed conditional probabilities for sample 2500 / 2500\n",
      "[DRE] Mean sigma: 4.774279\n",
      "[DRE] P length:  24\n",
      "\n",
      "Epoch: 100\n"
     ]
    },
    {
     "name": "stderr",
     "output_type": "stream",
     "text": [
      "[DRE] Training.. Epoch 101/350: 100%|\u001b[34m██████████\u001b[0m| 60000/60000 [00:00<00:00, 97853.87img/s, loss (batch)=0.571]\n",
      "[DRE] Training.. Epoch 102/350:  29%|\u001b[34m██▉       \u001b[0m| 17500/60000 [00:00<00:00, 101422.81img/s, loss (batch)=0.575]"
     ]
    },
    {
     "name": "stdout",
     "output_type": "stream",
     "text": [
      "\n",
      "Epoch: 101\n"
     ]
    },
    {
     "name": "stderr",
     "output_type": "stream",
     "text": [
      "[DRE] Training.. Epoch 102/350: 100%|\u001b[34m██████████\u001b[0m| 60000/60000 [00:00<00:00, 99949.70img/s, loss (batch)=0.541] \n",
      "[DRE] Training.. Epoch 103/350:  29%|\u001b[34m██▉       \u001b[0m| 17500/60000 [00:00<00:00, 99046.17img/s, loss (batch)=0.555]"
     ]
    },
    {
     "name": "stdout",
     "output_type": "stream",
     "text": [
      "\n",
      "Epoch: 102\n"
     ]
    },
    {
     "name": "stderr",
     "output_type": "stream",
     "text": [
      "[DRE] Training.. Epoch 103/350: 100%|\u001b[34m██████████\u001b[0m| 60000/60000 [00:00<00:00, 100964.25img/s, loss (batch)=0.519]\n",
      "[DRE] Training.. Epoch 104/350:  29%|\u001b[34m██▉       \u001b[0m| 17500/60000 [00:00<00:00, 101073.61img/s, loss (batch)=0.537]"
     ]
    },
    {
     "name": "stdout",
     "output_type": "stream",
     "text": [
      "\n",
      "Epoch: 103\n"
     ]
    },
    {
     "name": "stderr",
     "output_type": "stream",
     "text": [
      "[DRE] Training.. Epoch 104/350: 100%|\u001b[34m██████████\u001b[0m| 60000/60000 [00:00<00:00, 98793.26img/s, loss (batch)=0.504] \n",
      "[DRE] Training.. Epoch 105/350:  25%|\u001b[34m██▌       \u001b[0m| 15000/60000 [00:00<00:00, 98368.25img/s, loss (batch)=0.529]"
     ]
    },
    {
     "name": "stdout",
     "output_type": "stream",
     "text": [
      "\n",
      "Epoch: 104\n"
     ]
    },
    {
     "name": "stderr",
     "output_type": "stream",
     "text": [
      "[DRE] Training.. Epoch 105/350: 100%|\u001b[34m██████████\u001b[0m| 60000/60000 [00:00<00:00, 99088.58img/s, loss (batch)=0.497]\n",
      "[DRE] Training.. Epoch 106/350:  25%|\u001b[34m██▌       \u001b[0m| 15000/60000 [00:00<00:00, 95913.13img/s, loss (batch)=0.517]"
     ]
    },
    {
     "name": "stdout",
     "output_type": "stream",
     "text": [
      "\n",
      "Epoch: 105\n"
     ]
    },
    {
     "name": "stderr",
     "output_type": "stream",
     "text": [
      "[DRE] Training.. Epoch 106/350: 100%|\u001b[34m██████████\u001b[0m| 60000/60000 [00:00<00:00, 101188.95img/s, loss (batch)=0.487]\n",
      "[DRE] Training.. Epoch 107/350:  29%|\u001b[34m██▉       \u001b[0m| 17500/60000 [00:00<00:00, 101035.43img/s, loss (batch)=0.514]"
     ]
    },
    {
     "name": "stdout",
     "output_type": "stream",
     "text": [
      "\n",
      "Epoch: 106\n"
     ]
    },
    {
     "name": "stderr",
     "output_type": "stream",
     "text": [
      "[DRE] Training.. Epoch 107/350: 100%|\u001b[34m██████████\u001b[0m| 60000/60000 [00:00<00:00, 101210.77img/s, loss (batch)=0.487]\n",
      "[DRE] Training.. Epoch 108/350:  29%|\u001b[34m██▉       \u001b[0m| 17500/60000 [00:00<00:00, 98491.36img/s, loss (batch)=0.513]"
     ]
    },
    {
     "name": "stdout",
     "output_type": "stream",
     "text": [
      "\n",
      "Epoch: 107\n"
     ]
    },
    {
     "name": "stderr",
     "output_type": "stream",
     "text": [
      "[DRE] Training.. Epoch 108/350: 100%|\u001b[34m██████████\u001b[0m| 60000/60000 [00:00<00:00, 99816.97img/s, loss (batch)=0.478] \n",
      "[DRE] Training.. Epoch 109/350:  29%|\u001b[34m██▉       \u001b[0m| 17500/60000 [00:00<00:00, 98646.43img/s, loss (batch)=0.507]"
     ]
    },
    {
     "name": "stdout",
     "output_type": "stream",
     "text": [
      "\n",
      "Epoch: 108\n"
     ]
    },
    {
     "name": "stderr",
     "output_type": "stream",
     "text": [
      "[DRE] Training.. Epoch 109/350: 100%|\u001b[34m██████████\u001b[0m| 60000/60000 [00:00<00:00, 100227.71img/s, loss (batch)=0.476]\n",
      "[DRE] Training.. Epoch 110/350:  29%|\u001b[34m██▉       \u001b[0m| 17500/60000 [00:00<00:00, 103258.95img/s, loss (batch)=0.5]  "
     ]
    },
    {
     "name": "stdout",
     "output_type": "stream",
     "text": [
      "\n",
      "Epoch: 109\n"
     ]
    },
    {
     "name": "stderr",
     "output_type": "stream",
     "text": [
      "[DRE] Training.. Epoch 110/350: 100%|\u001b[34m██████████\u001b[0m| 60000/60000 [00:00<00:00, 101340.94img/s, loss (batch)=0.469]\n",
      "[DRE] Validating.. Epoch 110/350: 100%|\u001b[32m██████████\u001b[0m| 60000/60000 [00:00<00:00, 140065.36img/s, loss (batch)=tensor(0.5207, device='cuda:0', dtype=torch.float64)]\n",
      "[DRE] Training.. Epoch 111/350:  25%|\u001b[34m██▌       \u001b[0m| 15000/60000 [00:00<00:00, 100951.97img/s, loss (batch)=0.5]  "
     ]
    },
    {
     "name": "stdout",
     "output_type": "stream",
     "text": [
      "[DRE] Best accuracy, saving the weights...\n",
      "\n",
      "Epoch: 110\n"
     ]
    },
    {
     "name": "stderr",
     "output_type": "stream",
     "text": [
      "[DRE] Training.. Epoch 111/350: 100%|\u001b[34m██████████\u001b[0m| 60000/60000 [00:00<00:00, 99786.18img/s, loss (batch)=0.47]  \n",
      "[DRE] Training.. Epoch 112/350:  29%|\u001b[34m██▉       \u001b[0m| 17500/60000 [00:00<00:00, 102370.41img/s, loss (batch)=0.494]"
     ]
    },
    {
     "name": "stdout",
     "output_type": "stream",
     "text": [
      "\n",
      "Epoch: 111\n"
     ]
    },
    {
     "name": "stderr",
     "output_type": "stream",
     "text": [
      "[DRE] Training.. Epoch 112/350: 100%|\u001b[34m██████████\u001b[0m| 60000/60000 [00:00<00:00, 101956.88img/s, loss (batch)=0.468]\n",
      "[DRE] Training.. Epoch 113/350:  29%|\u001b[34m██▉       \u001b[0m| 17500/60000 [00:00<00:00, 102341.43img/s, loss (batch)=0.491]"
     ]
    },
    {
     "name": "stdout",
     "output_type": "stream",
     "text": [
      "\n",
      "Epoch: 112\n"
     ]
    },
    {
     "name": "stderr",
     "output_type": "stream",
     "text": [
      "[DRE] Training.. Epoch 113/350: 100%|\u001b[34m██████████\u001b[0m| 60000/60000 [00:00<00:00, 101491.92img/s, loss (batch)=0.464]\n",
      "[DRE] Training.. Epoch 114/350:  29%|\u001b[34m██▉       \u001b[0m| 17500/60000 [00:00<00:00, 100145.74img/s, loss (batch)=0.492]"
     ]
    },
    {
     "name": "stdout",
     "output_type": "stream",
     "text": [
      "\n",
      "Epoch: 113\n"
     ]
    },
    {
     "name": "stderr",
     "output_type": "stream",
     "text": [
      "[DRE] Training.. Epoch 114/350: 100%|\u001b[34m██████████\u001b[0m| 60000/60000 [00:00<00:00, 100089.42img/s, loss (batch)=0.466]\n",
      "[DRE] Training.. Epoch 115/350:  25%|\u001b[34m██▌       \u001b[0m| 15000/60000 [00:00<00:00, 97440.66img/s, loss (batch)=0.489]"
     ]
    },
    {
     "name": "stdout",
     "output_type": "stream",
     "text": [
      "\n",
      "Epoch: 114\n"
     ]
    },
    {
     "name": "stderr",
     "output_type": "stream",
     "text": [
      "[DRE] Training.. Epoch 115/350: 100%|\u001b[34m██████████\u001b[0m| 60000/60000 [00:00<00:00, 99456.06img/s, loss (batch)=0.46] \n",
      "[DRE] Training.. Epoch 116/350:  29%|\u001b[34m██▉       \u001b[0m| 17500/60000 [00:00<00:00, 103146.40img/s, loss (batch)=0.49] "
     ]
    },
    {
     "name": "stdout",
     "output_type": "stream",
     "text": [
      "\n",
      "Epoch: 115\n"
     ]
    },
    {
     "name": "stderr",
     "output_type": "stream",
     "text": [
      "[DRE] Training.. Epoch 116/350: 100%|\u001b[34m██████████\u001b[0m| 60000/60000 [00:00<00:00, 100797.64img/s, loss (batch)=0.46] \n",
      "[DRE] Training.. Epoch 117/350:  29%|\u001b[34m██▉       \u001b[0m| 17500/60000 [00:00<00:00, 99288.74img/s, loss (batch)=0.487]"
     ]
    },
    {
     "name": "stdout",
     "output_type": "stream",
     "text": [
      "\n",
      "Epoch: 116\n"
     ]
    },
    {
     "name": "stderr",
     "output_type": "stream",
     "text": [
      "[DRE] Training.. Epoch 117/350: 100%|\u001b[34m██████████\u001b[0m| 60000/60000 [00:00<00:00, 99698.02img/s, loss (batch)=0.463] \n",
      "[DRE] Training.. Epoch 118/350:  29%|\u001b[34m██▉       \u001b[0m| 17500/60000 [00:00<00:00, 100869.62img/s, loss (batch)=0.486]"
     ]
    },
    {
     "name": "stdout",
     "output_type": "stream",
     "text": [
      "\n",
      "Epoch: 117\n"
     ]
    },
    {
     "name": "stderr",
     "output_type": "stream",
     "text": [
      "[DRE] Training.. Epoch 118/350: 100%|\u001b[34m██████████\u001b[0m| 60000/60000 [00:00<00:00, 100468.35img/s, loss (batch)=0.46] \n",
      "[DRE] Training.. Epoch 119/350:  25%|\u001b[34m██▌       \u001b[0m| 15000/60000 [00:00<00:00, 98011.73img/s, loss (batch)=0.49] "
     ]
    },
    {
     "name": "stdout",
     "output_type": "stream",
     "text": [
      "\n",
      "Epoch: 118\n"
     ]
    },
    {
     "name": "stderr",
     "output_type": "stream",
     "text": [
      "[DRE] Training.. Epoch 119/350: 100%|\u001b[34m██████████\u001b[0m| 60000/60000 [00:00<00:00, 101305.04img/s, loss (batch)=0.457]\n",
      "[DRE] Training.. Epoch 120/350:  25%|\u001b[34m██▌       \u001b[0m| 15000/60000 [00:00<00:00, 97945.12img/s, loss (batch)=0.488]"
     ]
    },
    {
     "name": "stdout",
     "output_type": "stream",
     "text": [
      "\n",
      "Epoch: 119\n"
     ]
    },
    {
     "name": "stderr",
     "output_type": "stream",
     "text": [
      "[DRE] Training.. Epoch 120/350: 100%|\u001b[34m██████████\u001b[0m| 60000/60000 [00:00<00:00, 99332.28img/s, loss (batch)=0.457]\n",
      "[DRE] Validating.. Epoch 120/350: 100%|\u001b[32m██████████\u001b[0m| 60000/60000 [00:00<00:00, 141863.77img/s, loss (batch)=tensor(0.5134, device='cuda:0', dtype=torch.float64)]\n",
      "[DRE] Training.. Epoch 121/350:  25%|\u001b[34m██▌       \u001b[0m| 15000/60000 [00:00<00:00, 100021.37img/s, loss (batch)=0.485]"
     ]
    },
    {
     "name": "stdout",
     "output_type": "stream",
     "text": [
      "[DRE] Best accuracy, saving the weights...\n",
      "\n",
      "Epoch: 120\n"
     ]
    },
    {
     "name": "stderr",
     "output_type": "stream",
     "text": [
      "[DRE] Training.. Epoch 121/350: 100%|\u001b[34m██████████\u001b[0m| 60000/60000 [00:00<00:00, 100657.42img/s, loss (batch)=0.458]\n",
      "[DRE] Training.. Epoch 122/350:  29%|\u001b[34m██▉       \u001b[0m| 17500/60000 [00:00<00:00, 100490.87img/s, loss (batch)=0.482]"
     ]
    },
    {
     "name": "stdout",
     "output_type": "stream",
     "text": [
      "\n",
      "Epoch: 121\n"
     ]
    },
    {
     "name": "stderr",
     "output_type": "stream",
     "text": [
      "[DRE] Training.. Epoch 122/350: 100%|\u001b[34m██████████\u001b[0m| 60000/60000 [00:00<00:00, 99809.68img/s, loss (batch)=0.458] \n",
      "[DRE] Training.. Epoch 123/350:  25%|\u001b[34m██▌       \u001b[0m| 15000/60000 [00:00<00:00, 99878.27img/s, loss (batch)=0.484]"
     ]
    },
    {
     "name": "stdout",
     "output_type": "stream",
     "text": [
      "\n",
      "Epoch: 122\n"
     ]
    },
    {
     "name": "stderr",
     "output_type": "stream",
     "text": [
      "[DRE] Training.. Epoch 123/350: 100%|\u001b[34m██████████\u001b[0m| 60000/60000 [00:00<00:00, 99577.74img/s, loss (batch)=0.454] \n",
      "[DRE] Training.. Epoch 124/350:  25%|\u001b[34m██▌       \u001b[0m| 15000/60000 [00:00<00:00, 99276.29img/s, loss (batch)=0.478]"
     ]
    },
    {
     "name": "stdout",
     "output_type": "stream",
     "text": [
      "\n",
      "Epoch: 123\n"
     ]
    },
    {
     "name": "stderr",
     "output_type": "stream",
     "text": [
      "[DRE] Training.. Epoch 124/350: 100%|\u001b[34m██████████\u001b[0m| 60000/60000 [00:00<00:00, 98869.37img/s, loss (batch)=0.447]\n",
      "[DRE] Training.. Epoch 125/350:  25%|\u001b[34m██▌       \u001b[0m| 15000/60000 [00:00<00:00, 98520.56img/s, loss (batch)=0.479]"
     ]
    },
    {
     "name": "stdout",
     "output_type": "stream",
     "text": [
      "\n",
      "Epoch: 124\n"
     ]
    },
    {
     "name": "stderr",
     "output_type": "stream",
     "text": [
      "[DRE] Training.. Epoch 125/350: 100%|\u001b[34m██████████\u001b[0m| 60000/60000 [00:00<00:00, 100828.78img/s, loss (batch)=0.447]\n",
      "[DRE] Training.. Epoch 126/350:  29%|\u001b[34m██▉       \u001b[0m| 17500/60000 [00:00<00:00, 98572.84img/s, loss (batch)=0.475]"
     ]
    },
    {
     "name": "stdout",
     "output_type": "stream",
     "text": [
      "\n",
      "Epoch: 125\n"
     ]
    },
    {
     "name": "stderr",
     "output_type": "stream",
     "text": [
      "[DRE] Training.. Epoch 126/350: 100%|\u001b[34m██████████\u001b[0m| 60000/60000 [00:00<00:00, 99589.92img/s, loss (batch)=0.449]\n",
      "[DRE] Training.. Epoch 127/350:  29%|\u001b[34m██▉       \u001b[0m| 17500/60000 [00:00<00:00, 99127.77img/s, loss (batch)=0.472]"
     ]
    },
    {
     "name": "stdout",
     "output_type": "stream",
     "text": [
      "\n",
      "Epoch: 126\n"
     ]
    },
    {
     "name": "stderr",
     "output_type": "stream",
     "text": [
      "[DRE] Training.. Epoch 127/350: 100%|\u001b[34m██████████\u001b[0m| 60000/60000 [00:00<00:00, 100778.02img/s, loss (batch)=0.446]\n",
      "[DRE] Training.. Epoch 128/350:  29%|\u001b[34m██▉       \u001b[0m| 17500/60000 [00:00<00:00, 100759.32img/s, loss (batch)=0.471]"
     ]
    },
    {
     "name": "stdout",
     "output_type": "stream",
     "text": [
      "\n",
      "Epoch: 127\n"
     ]
    },
    {
     "name": "stderr",
     "output_type": "stream",
     "text": [
      "[DRE] Training.. Epoch 128/350: 100%|\u001b[34m██████████\u001b[0m| 60000/60000 [00:00<00:00, 101718.03img/s, loss (batch)=0.44] \n",
      "[DRE] Training.. Epoch 129/350:  25%|\u001b[34m██▌       \u001b[0m| 15000/60000 [00:00<00:00, 99296.97img/s, loss (batch)=0.47] "
     ]
    },
    {
     "name": "stdout",
     "output_type": "stream",
     "text": [
      "\n",
      "Epoch: 128\n"
     ]
    },
    {
     "name": "stderr",
     "output_type": "stream",
     "text": [
      "[DRE] Training.. Epoch 129/350: 100%|\u001b[34m██████████\u001b[0m| 60000/60000 [00:00<00:00, 100357.89img/s, loss (batch)=0.443]\n",
      "[DRE] Training.. Epoch 130/350:  29%|\u001b[34m██▉       \u001b[0m| 17500/60000 [00:00<00:00, 97435.00img/s, loss (batch)=0.468]"
     ]
    },
    {
     "name": "stdout",
     "output_type": "stream",
     "text": [
      "\n",
      "Epoch: 129\n"
     ]
    },
    {
     "name": "stderr",
     "output_type": "stream",
     "text": [
      "[DRE] Training.. Epoch 130/350: 100%|\u001b[34m██████████\u001b[0m| 60000/60000 [00:00<00:00, 99970.02img/s, loss (batch)=0.442] \n",
      "[DRE] Validating.. Epoch 130/350: 100%|\u001b[32m██████████\u001b[0m| 60000/60000 [00:00<00:00, 140035.12img/s, loss (batch)=tensor(0.4997, device='cuda:0', dtype=torch.float64)]\n",
      "[DRE] Training.. Epoch 131/350:  29%|\u001b[34m██▉       \u001b[0m| 17500/60000 [00:00<00:00, 101131.12img/s, loss (batch)=0.466]"
     ]
    },
    {
     "name": "stdout",
     "output_type": "stream",
     "text": [
      "[DRE] Best accuracy, saving the weights...\n",
      "\n",
      "Epoch: 130\n"
     ]
    },
    {
     "name": "stderr",
     "output_type": "stream",
     "text": [
      "[DRE] Training.. Epoch 131/350: 100%|\u001b[34m██████████\u001b[0m| 60000/60000 [00:00<00:00, 102891.18img/s, loss (batch)=0.44] \n",
      "[DRE] Training.. Epoch 132/350:  29%|\u001b[34m██▉       \u001b[0m| 17500/60000 [00:00<00:00, 101784.72img/s, loss (batch)=0.463]"
     ]
    },
    {
     "name": "stdout",
     "output_type": "stream",
     "text": [
      "\n",
      "Epoch: 131\n"
     ]
    },
    {
     "name": "stderr",
     "output_type": "stream",
     "text": [
      "[DRE] Training.. Epoch 132/350: 100%|\u001b[34m██████████\u001b[0m| 60000/60000 [00:00<00:00, 99469.15img/s, loss (batch)=0.44]  \n",
      "[DRE] Training.. Epoch 133/350:  25%|\u001b[34m██▌       \u001b[0m| 15000/60000 [00:00<00:00, 99583.65img/s, loss (batch)=0.463]"
     ]
    },
    {
     "name": "stdout",
     "output_type": "stream",
     "text": [
      "\n",
      "Epoch: 132\n"
     ]
    },
    {
     "name": "stderr",
     "output_type": "stream",
     "text": [
      "[DRE] Training.. Epoch 133/350: 100%|\u001b[34m██████████\u001b[0m| 60000/60000 [00:00<00:00, 100330.40img/s, loss (batch)=0.443]\n",
      "[DRE] Training.. Epoch 134/350:  25%|\u001b[34m██▌       \u001b[0m| 15000/60000 [00:00<00:00, 98634.04img/s, loss (batch)=0.465]"
     ]
    },
    {
     "name": "stdout",
     "output_type": "stream",
     "text": [
      "\n",
      "Epoch: 133\n"
     ]
    },
    {
     "name": "stderr",
     "output_type": "stream",
     "text": [
      "[DRE] Training.. Epoch 134/350: 100%|\u001b[34m██████████\u001b[0m| 60000/60000 [00:00<00:00, 100869.84img/s, loss (batch)=0.44] \n",
      "[DRE] Training.. Epoch 135/350:  25%|\u001b[34m██▌       \u001b[0m| 15000/60000 [00:00<00:00, 100616.03img/s, loss (batch)=0.464]"
     ]
    },
    {
     "name": "stdout",
     "output_type": "stream",
     "text": [
      "\n",
      "Epoch: 134\n"
     ]
    },
    {
     "name": "stderr",
     "output_type": "stream",
     "text": [
      "[DRE] Training.. Epoch 135/350: 100%|\u001b[34m██████████\u001b[0m| 60000/60000 [00:00<00:00, 100143.03img/s, loss (batch)=0.438]\n",
      "[DRE] Training.. Epoch 136/350:  25%|\u001b[34m██▌       \u001b[0m| 15000/60000 [00:00<00:00, 99368.67img/s, loss (batch)=0.463]"
     ]
    },
    {
     "name": "stdout",
     "output_type": "stream",
     "text": [
      "\n",
      "Epoch: 135\n"
     ]
    },
    {
     "name": "stderr",
     "output_type": "stream",
     "text": [
      "[DRE] Training.. Epoch 136/350: 100%|\u001b[34m██████████\u001b[0m| 60000/60000 [00:00<00:00, 99493.18img/s, loss (batch)=0.436]\n",
      "[DRE] Training.. Epoch 137/350:  29%|\u001b[34m██▉       \u001b[0m| 17500/60000 [00:00<00:00, 99908.86img/s, loss (batch)=0.466]"
     ]
    },
    {
     "name": "stdout",
     "output_type": "stream",
     "text": [
      "\n",
      "Epoch: 136\n"
     ]
    },
    {
     "name": "stderr",
     "output_type": "stream",
     "text": [
      "[DRE] Training.. Epoch 137/350: 100%|\u001b[34m██████████\u001b[0m| 60000/60000 [00:00<00:00, 100585.72img/s, loss (batch)=0.44] \n",
      "[DRE] Training.. Epoch 138/350:  29%|\u001b[34m██▉       \u001b[0m| 17500/60000 [00:00<00:00, 103733.13img/s, loss (batch)=0.472]"
     ]
    },
    {
     "name": "stdout",
     "output_type": "stream",
     "text": [
      "\n",
      "Epoch: 137\n"
     ]
    },
    {
     "name": "stderr",
     "output_type": "stream",
     "text": [
      "[DRE] Training.. Epoch 138/350: 100%|\u001b[34m██████████\u001b[0m| 60000/60000 [00:00<00:00, 101987.30img/s, loss (batch)=0.441]\n",
      "[DRE] Training.. Epoch 139/350:  25%|\u001b[34m██▌       \u001b[0m| 15000/60000 [00:00<00:00, 97099.81img/s, loss (batch)=0.468]"
     ]
    },
    {
     "name": "stdout",
     "output_type": "stream",
     "text": [
      "\n",
      "Epoch: 138\n"
     ]
    },
    {
     "name": "stderr",
     "output_type": "stream",
     "text": [
      "[DRE] Training.. Epoch 139/350: 100%|\u001b[34m██████████\u001b[0m| 60000/60000 [00:00<00:00, 98409.29img/s, loss (batch)=0.443]\n",
      "[DRE] Training.. Epoch 140/350:  25%|\u001b[34m██▌       \u001b[0m| 15000/60000 [00:00<00:00, 99758.45img/s, loss (batch)=0.47] "
     ]
    },
    {
     "name": "stdout",
     "output_type": "stream",
     "text": [
      "\n",
      "Epoch: 139\n"
     ]
    },
    {
     "name": "stderr",
     "output_type": "stream",
     "text": [
      "[DRE] Training.. Epoch 140/350: 100%|\u001b[34m██████████\u001b[0m| 60000/60000 [00:00<00:00, 99388.15img/s, loss (batch)=0.439]\n",
      "[DRE] Validating.. Epoch 140/350: 100%|\u001b[32m██████████\u001b[0m| 60000/60000 [00:00<00:00, 142458.03img/s, loss (batch)=tensor(0.5000, device='cuda:0', dtype=torch.float64)]\n",
      "[DRE] Training.. Epoch 141/350:  29%|\u001b[34m██▉       \u001b[0m| 17500/60000 [00:00<00:00, 100816.08img/s, loss (batch)=0.465]"
     ]
    },
    {
     "name": "stdout",
     "output_type": "stream",
     "text": [
      "[DRE] Best accuracy, saving the weights...\n",
      "\n",
      "Epoch: 140\n"
     ]
    },
    {
     "name": "stderr",
     "output_type": "stream",
     "text": [
      "[DRE] Training.. Epoch 141/350: 100%|\u001b[34m██████████\u001b[0m| 60000/60000 [00:00<00:00, 99080.15img/s, loss (batch)=0.444] \n",
      "[DRE] Training.. Epoch 142/350:  29%|\u001b[34m██▉       \u001b[0m| 17500/60000 [00:00<00:00, 100343.16img/s, loss (batch)=0.467]"
     ]
    },
    {
     "name": "stdout",
     "output_type": "stream",
     "text": [
      "\n",
      "Epoch: 141\n"
     ]
    },
    {
     "name": "stderr",
     "output_type": "stream",
     "text": [
      "[DRE] Training.. Epoch 142/350: 100%|\u001b[34m██████████\u001b[0m| 60000/60000 [00:00<00:00, 100360.97img/s, loss (batch)=0.441]\n",
      "[DRE] Training.. Epoch 143/350:  29%|\u001b[34m██▉       \u001b[0m| 17500/60000 [00:00<00:00, 98514.96img/s, loss (batch)=0.468]"
     ]
    },
    {
     "name": "stdout",
     "output_type": "stream",
     "text": [
      "\n",
      "Epoch: 142\n"
     ]
    },
    {
     "name": "stderr",
     "output_type": "stream",
     "text": [
      "[DRE] Training.. Epoch 143/350: 100%|\u001b[34m██████████\u001b[0m| 60000/60000 [00:00<00:00, 100213.62img/s, loss (batch)=0.443]\n",
      "[DRE] Training.. Epoch 144/350:  29%|\u001b[34m██▉       \u001b[0m| 17500/60000 [00:00<00:00, 101982.51img/s, loss (batch)=0.468]"
     ]
    },
    {
     "name": "stdout",
     "output_type": "stream",
     "text": [
      "\n",
      "Epoch: 143\n"
     ]
    },
    {
     "name": "stderr",
     "output_type": "stream",
     "text": [
      "[DRE] Training.. Epoch 144/350: 100%|\u001b[34m██████████\u001b[0m| 60000/60000 [00:00<00:00, 101243.54img/s, loss (batch)=0.434]\n",
      "[DRE] Training.. Epoch 145/350:  29%|\u001b[34m██▉       \u001b[0m| 17500/60000 [00:00<00:00, 99735.20img/s, loss (batch)=0.461]"
     ]
    },
    {
     "name": "stdout",
     "output_type": "stream",
     "text": [
      "\n",
      "Epoch: 144\n"
     ]
    },
    {
     "name": "stderr",
     "output_type": "stream",
     "text": [
      "[DRE] Training.. Epoch 145/350: 100%|\u001b[34m██████████\u001b[0m| 60000/60000 [00:00<00:00, 99450.83img/s, loss (batch)=0.434]\n",
      "[DRE] Training.. Epoch 146/350:  25%|\u001b[34m██▌       \u001b[0m| 15000/60000 [00:00<00:00, 101909.76img/s, loss (batch)=0.46] "
     ]
    },
    {
     "name": "stdout",
     "output_type": "stream",
     "text": [
      "\n",
      "Epoch: 145\n"
     ]
    },
    {
     "name": "stderr",
     "output_type": "stream",
     "text": [
      "[DRE] Training.. Epoch 146/350: 100%|\u001b[34m██████████\u001b[0m| 60000/60000 [00:00<00:00, 100046.57img/s, loss (batch)=0.432]\n",
      "[DRE] Training.. Epoch 147/350:  29%|\u001b[34m██▉       \u001b[0m| 17500/60000 [00:00<00:00, 102336.84img/s, loss (batch)=0.455]"
     ]
    },
    {
     "name": "stdout",
     "output_type": "stream",
     "text": [
      "\n",
      "Epoch: 146\n"
     ]
    },
    {
     "name": "stderr",
     "output_type": "stream",
     "text": [
      "[DRE] Training.. Epoch 147/350: 100%|\u001b[34m██████████\u001b[0m| 60000/60000 [00:00<00:00, 102238.96img/s, loss (batch)=0.435]\n",
      "[DRE] Training.. Epoch 148/350:  25%|\u001b[34m██▌       \u001b[0m| 15000/60000 [00:00<00:00, 96845.12img/s, loss (batch)=0.456]"
     ]
    },
    {
     "name": "stdout",
     "output_type": "stream",
     "text": [
      "\n",
      "Epoch: 147\n"
     ]
    },
    {
     "name": "stderr",
     "output_type": "stream",
     "text": [
      "[DRE] Training.. Epoch 148/350: 100%|\u001b[34m██████████\u001b[0m| 60000/60000 [00:00<00:00, 98760.88img/s, loss (batch)=0.431] \n",
      "[DRE] Training.. Epoch 149/350:  25%|\u001b[34m██▌       \u001b[0m| 15000/60000 [00:00<00:00, 100129.49img/s, loss (batch)=0.455]"
     ]
    },
    {
     "name": "stdout",
     "output_type": "stream",
     "text": [
      "\n",
      "Epoch: 148\n"
     ]
    },
    {
     "name": "stderr",
     "output_type": "stream",
     "text": [
      "[DRE] Training.. Epoch 149/350: 100%|\u001b[34m██████████\u001b[0m| 60000/60000 [00:00<00:00, 99930.29img/s, loss (batch)=0.43]  \n",
      "[DRE] Training.. Epoch 150/350:  29%|\u001b[34m██▉       \u001b[0m| 17500/60000 [00:00<00:00, 101570.77img/s, loss (batch)=0.45] "
     ]
    },
    {
     "name": "stdout",
     "output_type": "stream",
     "text": [
      "\n",
      "Epoch: 149\n"
     ]
    },
    {
     "name": "stderr",
     "output_type": "stream",
     "text": [
      "[DRE] Training.. Epoch 150/350: 100%|\u001b[34m██████████\u001b[0m| 60000/60000 [00:00<00:00, 101706.48img/s, loss (batch)=0.43] \n",
      "[DRE] Validating.. Epoch 150/350: 100%|\u001b[32m██████████\u001b[0m| 60000/60000 [00:00<00:00, 140585.07img/s, loss (batch)=tensor(0.4854, device='cuda:0', dtype=torch.float64)]\n"
     ]
    },
    {
     "name": "stdout",
     "output_type": "stream",
     "text": [
      "[DRE] Best accuracy, saving the weights...\n",
      "building P matrix...\n",
      "[DRE] recursive step 2 data shape:  (2500, 500)\n",
      "[DRE] Computed conditional probabilities for sample 1000 / 2500\n",
      "[DRE] Computed conditional probabilities for sample 2000 / 2500\n",
      "[DRE] Computed conditional probabilities for sample 2500 / 2500\n",
      "[DRE] Mean sigma: 1.363849\n",
      "[DRE] P length:  1\n",
      "[DRE] recursive step 2 data shape:  (2500, 500)\n",
      "[DRE] Computed conditional probabilities for sample 1000 / 2500\n",
      "[DRE] Computed conditional probabilities for sample 2000 / 2500\n",
      "[DRE] Computed conditional probabilities for sample 2500 / 2500\n",
      "[DRE] Mean sigma: 1.360625\n",
      "[DRE] P length:  2\n",
      "[DRE] recursive step 2 data shape:  (2500, 500)\n",
      "[DRE] Computed conditional probabilities for sample 1000 / 2500\n",
      "[DRE] Computed conditional probabilities for sample 2000 / 2500\n",
      "[DRE] Computed conditional probabilities for sample 2500 / 2500\n",
      "[DRE] Mean sigma: 1.345448\n",
      "[DRE] P length:  3\n",
      "[DRE] recursive step 2 data shape:  (2500, 500)\n",
      "[DRE] Computed conditional probabilities for sample 1000 / 2500\n",
      "[DRE] Computed conditional probabilities for sample 2000 / 2500\n",
      "[DRE] Computed conditional probabilities for sample 2500 / 2500\n",
      "[DRE] Mean sigma: 1.372197\n",
      "[DRE] P length:  4\n",
      "[DRE] recursive step 2 data shape:  (2500, 500)\n",
      "[DRE] Computed conditional probabilities for sample 1000 / 2500\n",
      "[DRE] Computed conditional probabilities for sample 2000 / 2500\n",
      "[DRE] Computed conditional probabilities for sample 2500 / 2500\n",
      "[DRE] Mean sigma: 1.331500\n",
      "[DRE] P length:  5\n",
      "[DRE] recursive step 2 data shape:  (2500, 500)\n",
      "[DRE] Computed conditional probabilities for sample 1000 / 2500\n",
      "[DRE] Computed conditional probabilities for sample 2000 / 2500\n",
      "[DRE] Computed conditional probabilities for sample 2500 / 2500\n",
      "[DRE] Mean sigma: 1.417207\n",
      "[DRE] P length:  6\n",
      "[DRE] recursive step 2 data shape:  (2500, 500)\n",
      "[DRE] Computed conditional probabilities for sample 1000 / 2500\n",
      "[DRE] Computed conditional probabilities for sample 2000 / 2500\n",
      "[DRE] Computed conditional probabilities for sample 2500 / 2500\n",
      "[DRE] Mean sigma: 1.432550\n",
      "[DRE] P length:  7\n",
      "[DRE] recursive step 2 data shape:  (2500, 500)\n",
      "[DRE] Computed conditional probabilities for sample 1000 / 2500\n",
      "[DRE] Computed conditional probabilities for sample 2000 / 2500\n",
      "[DRE] Computed conditional probabilities for sample 2500 / 2500\n",
      "[DRE] Mean sigma: 1.385699\n",
      "[DRE] P length:  8\n",
      "[DRE] recursive step 2 data shape:  (2500, 500)\n",
      "[DRE] Computed conditional probabilities for sample 1000 / 2500\n",
      "[DRE] Computed conditional probabilities for sample 2000 / 2500\n",
      "[DRE] Computed conditional probabilities for sample 2500 / 2500\n",
      "[DRE] Mean sigma: 1.365581\n",
      "[DRE] P length:  9\n",
      "[DRE] recursive step 2 data shape:  (2500, 500)\n",
      "[DRE] Computed conditional probabilities for sample 1000 / 2500\n",
      "[DRE] Computed conditional probabilities for sample 2000 / 2500\n",
      "[DRE] Computed conditional probabilities for sample 2500 / 2500\n",
      "[DRE] Mean sigma: 1.407186\n",
      "[DRE] P length:  10\n",
      "[DRE] recursive step 2 data shape:  (2500, 500)\n",
      "[DRE] Computed conditional probabilities for sample 1000 / 2500\n",
      "[DRE] Computed conditional probabilities for sample 2000 / 2500\n",
      "[DRE] Computed conditional probabilities for sample 2500 / 2500\n",
      "[DRE] Mean sigma: 1.299711\n",
      "[DRE] P length:  11\n",
      "[DRE] recursive step 2 data shape:  (2500, 500)\n",
      "[DRE] Computed conditional probabilities for sample 1000 / 2500\n",
      "[DRE] Computed conditional probabilities for sample 2000 / 2500\n",
      "[DRE] Computed conditional probabilities for sample 2500 / 2500\n",
      "[DRE] Mean sigma: 1.380369\n",
      "[DRE] P length:  12\n",
      "[DRE] recursive step 2 data shape:  (2500, 500)\n",
      "[DRE] Computed conditional probabilities for sample 1000 / 2500\n",
      "[DRE] Computed conditional probabilities for sample 2000 / 2500\n",
      "[DRE] Computed conditional probabilities for sample 2500 / 2500\n",
      "[DRE] Mean sigma: 1.422181\n",
      "[DRE] P length:  13\n",
      "[DRE] recursive step 2 data shape:  (2500, 500)\n",
      "[DRE] Computed conditional probabilities for sample 1000 / 2500\n",
      "[DRE] Computed conditional probabilities for sample 2000 / 2500\n",
      "[DRE] Computed conditional probabilities for sample 2500 / 2500\n",
      "[DRE] Mean sigma: 1.374040\n",
      "[DRE] P length:  14\n",
      "[DRE] recursive step 2 data shape:  (2500, 500)\n",
      "[DRE] Computed conditional probabilities for sample 1000 / 2500\n",
      "[DRE] Computed conditional probabilities for sample 2000 / 2500\n",
      "[DRE] Computed conditional probabilities for sample 2500 / 2500\n",
      "[DRE] Mean sigma: 1.408964\n",
      "[DRE] P length:  15\n",
      "[DRE] recursive step 2 data shape:  (2500, 500)\n",
      "[DRE] Computed conditional probabilities for sample 1000 / 2500\n",
      "[DRE] Computed conditional probabilities for sample 2000 / 2500\n",
      "[DRE] Computed conditional probabilities for sample 2500 / 2500\n",
      "[DRE] Mean sigma: 1.394005\n",
      "[DRE] P length:  16\n",
      "[DRE] recursive step 2 data shape:  (2500, 500)\n",
      "[DRE] Computed conditional probabilities for sample 1000 / 2500\n",
      "[DRE] Computed conditional probabilities for sample 2000 / 2500\n",
      "[DRE] Computed conditional probabilities for sample 2500 / 2500\n",
      "[DRE] Mean sigma: 1.367162\n",
      "[DRE] P length:  17\n",
      "[DRE] recursive step 2 data shape:  (2500, 500)\n",
      "[DRE] Computed conditional probabilities for sample 1000 / 2500\n",
      "[DRE] Computed conditional probabilities for sample 2000 / 2500\n",
      "[DRE] Computed conditional probabilities for sample 2500 / 2500\n",
      "[DRE] Mean sigma: 1.369944\n",
      "[DRE] P length:  18\n",
      "[DRE] recursive step 2 data shape:  (2500, 500)\n",
      "[DRE] Computed conditional probabilities for sample 1000 / 2500\n",
      "[DRE] Computed conditional probabilities for sample 2000 / 2500\n",
      "[DRE] Computed conditional probabilities for sample 2500 / 2500\n",
      "[DRE] Mean sigma: 1.406199\n",
      "[DRE] P length:  19\n",
      "[DRE] recursive step 2 data shape:  (2500, 500)\n",
      "[DRE] Computed conditional probabilities for sample 1000 / 2500\n",
      "[DRE] Computed conditional probabilities for sample 2000 / 2500\n",
      "[DRE] Computed conditional probabilities for sample 2500 / 2500\n",
      "[DRE] Mean sigma: 1.429373\n",
      "[DRE] P length:  20\n",
      "[DRE] recursive step 2 data shape:  (2500, 500)\n",
      "[DRE] Computed conditional probabilities for sample 1000 / 2500\n",
      "[DRE] Computed conditional probabilities for sample 2000 / 2500\n",
      "[DRE] Computed conditional probabilities for sample 2500 / 2500\n",
      "[DRE] Mean sigma: 1.363155\n",
      "[DRE] P length:  21\n",
      "[DRE] recursive step 2 data shape:  (2500, 500)\n",
      "[DRE] Computed conditional probabilities for sample 1000 / 2500\n",
      "[DRE] Computed conditional probabilities for sample 2000 / 2500\n",
      "[DRE] Computed conditional probabilities for sample 2500 / 2500\n",
      "[DRE] Mean sigma: 1.387722\n",
      "[DRE] P length:  22\n",
      "[DRE] recursive step 2 data shape:  (2500, 500)\n",
      "[DRE] Computed conditional probabilities for sample 1000 / 2500\n",
      "[DRE] Computed conditional probabilities for sample 2000 / 2500\n",
      "[DRE] Computed conditional probabilities for sample 2500 / 2500\n",
      "[DRE] Mean sigma: 1.353556\n",
      "[DRE] P length:  23\n",
      "[DRE] recursive step 2 data shape:  (2500, 500)\n"
     ]
    },
    {
     "name": "stderr",
     "output_type": "stream",
     "text": [
      "\r",
      "[DRE] Training.. Epoch 151/350:   0%|\u001b[34m          \u001b[0m| 0/60000 [00:00<?, ?img/s]"
     ]
    },
    {
     "name": "stdout",
     "output_type": "stream",
     "text": [
      "[DRE] Computed conditional probabilities for sample 1000 / 2500\n",
      "[DRE] Computed conditional probabilities for sample 2000 / 2500\n",
      "[DRE] Computed conditional probabilities for sample 2500 / 2500\n",
      "[DRE] Mean sigma: 1.295056\n",
      "[DRE] P length:  24\n",
      "\n",
      "Epoch: 150\n"
     ]
    },
    {
     "name": "stderr",
     "output_type": "stream",
     "text": [
      "[DRE] Training.. Epoch 151/350: 100%|\u001b[34m██████████\u001b[0m| 60000/60000 [00:00<00:00, 98211.27img/s, loss (batch)=0.381]\n",
      "[DRE] Training.. Epoch 152/350:  29%|\u001b[34m██▉       \u001b[0m| 17500/60000 [00:00<00:00, 99525.05img/s, loss (batch)=0.353]"
     ]
    },
    {
     "name": "stdout",
     "output_type": "stream",
     "text": [
      "\n",
      "Epoch: 151\n"
     ]
    },
    {
     "name": "stderr",
     "output_type": "stream",
     "text": [
      "[DRE] Training.. Epoch 152/350: 100%|\u001b[34m██████████\u001b[0m| 60000/60000 [00:00<00:00, 99732.59img/s, loss (batch)=0.364] \n",
      "[DRE] Training.. Epoch 153/350:  25%|\u001b[34m██▌       \u001b[0m| 15000/60000 [00:00<00:00, 99160.34img/s, loss (batch)=0.353]"
     ]
    },
    {
     "name": "stdout",
     "output_type": "stream",
     "text": [
      "\n",
      "Epoch: 152\n"
     ]
    },
    {
     "name": "stderr",
     "output_type": "stream",
     "text": [
      "[DRE] Training.. Epoch 153/350: 100%|\u001b[34m██████████\u001b[0m| 60000/60000 [00:00<00:00, 100830.03img/s, loss (batch)=0.361]\n",
      "[DRE] Training.. Epoch 154/350:  25%|\u001b[34m██▌       \u001b[0m| 15000/60000 [00:00<00:00, 96028.50img/s, loss (batch)=0.355]"
     ]
    },
    {
     "name": "stdout",
     "output_type": "stream",
     "text": [
      "\n",
      "Epoch: 153\n"
     ]
    },
    {
     "name": "stderr",
     "output_type": "stream",
     "text": [
      "[DRE] Training.. Epoch 154/350: 100%|\u001b[34m██████████\u001b[0m| 60000/60000 [00:00<00:00, 97715.00img/s, loss (batch)=0.363]\n",
      "[DRE] Training.. Epoch 155/350:  29%|\u001b[34m██▉       \u001b[0m| 17500/60000 [00:00<00:00, 100182.10img/s, loss (batch)=0.35] "
     ]
    },
    {
     "name": "stdout",
     "output_type": "stream",
     "text": [
      "\n",
      "Epoch: 154\n"
     ]
    },
    {
     "name": "stderr",
     "output_type": "stream",
     "text": [
      "[DRE] Training.. Epoch 155/350: 100%|\u001b[34m██████████\u001b[0m| 60000/60000 [00:00<00:00, 99525.40img/s, loss (batch)=0.363] \n",
      "[DRE] Training.. Epoch 156/350:  25%|\u001b[34m██▌       \u001b[0m| 15000/60000 [00:00<00:00, 99806.02img/s, loss (batch)=0.355]"
     ]
    },
    {
     "name": "stdout",
     "output_type": "stream",
     "text": [
      "\n",
      "Epoch: 155\n"
     ]
    },
    {
     "name": "stderr",
     "output_type": "stream",
     "text": [
      "[DRE] Training.. Epoch 156/350: 100%|\u001b[34m██████████\u001b[0m| 60000/60000 [00:00<00:00, 100290.98img/s, loss (batch)=0.366]\n",
      "[DRE] Training.. Epoch 157/350:  25%|\u001b[34m██▌       \u001b[0m| 15000/60000 [00:00<00:00, 99598.59img/s, loss (batch)=0.363]"
     ]
    },
    {
     "name": "stdout",
     "output_type": "stream",
     "text": [
      "\n",
      "Epoch: 156\n"
     ]
    },
    {
     "name": "stderr",
     "output_type": "stream",
     "text": [
      "[DRE] Training.. Epoch 157/350: 100%|\u001b[34m██████████\u001b[0m| 60000/60000 [00:00<00:00, 98527.84img/s, loss (batch)=0.362]\n",
      "[DRE] Training.. Epoch 158/350:  25%|\u001b[34m██▌       \u001b[0m| 15000/60000 [00:00<00:00, 98463.16img/s, loss (batch)=0.35] "
     ]
    },
    {
     "name": "stdout",
     "output_type": "stream",
     "text": [
      "\n",
      "Epoch: 157\n"
     ]
    },
    {
     "name": "stderr",
     "output_type": "stream",
     "text": [
      "[DRE] Training.. Epoch 158/350: 100%|\u001b[34m██████████\u001b[0m| 60000/60000 [00:00<00:00, 97887.06img/s, loss (batch)=0.365]\n",
      "[DRE] Training.. Epoch 159/350:  25%|\u001b[34m██▌       \u001b[0m| 15000/60000 [00:00<00:00, 98990.90img/s, loss (batch)=0.35] "
     ]
    },
    {
     "name": "stdout",
     "output_type": "stream",
     "text": [
      "\n",
      "Epoch: 158\n"
     ]
    },
    {
     "name": "stderr",
     "output_type": "stream",
     "text": [
      "[DRE] Training.. Epoch 159/350: 100%|\u001b[34m██████████\u001b[0m| 60000/60000 [00:00<00:00, 98687.42img/s, loss (batch)=0.358]\n",
      "[DRE] Training.. Epoch 160/350:  29%|\u001b[34m██▉       \u001b[0m| 17500/60000 [00:00<00:00, 101865.01img/s, loss (batch)=0.358]"
     ]
    },
    {
     "name": "stdout",
     "output_type": "stream",
     "text": [
      "\n",
      "Epoch: 159\n"
     ]
    },
    {
     "name": "stderr",
     "output_type": "stream",
     "text": [
      "[DRE] Training.. Epoch 160/350: 100%|\u001b[34m██████████\u001b[0m| 60000/60000 [00:00<00:00, 99096.42img/s, loss (batch)=0.349] \n",
      "[DRE] Validating.. Epoch 160/350: 100%|\u001b[32m██████████\u001b[0m| 60000/60000 [00:00<00:00, 140203.72img/s, loss (batch)=tensor(0.3721, device='cuda:0', dtype=torch.float64)]\n",
      "[DRE] Training.. Epoch 161/350:  25%|\u001b[34m██▌       \u001b[0m| 15000/60000 [00:00<00:00, 100296.90img/s, loss (batch)=0.355]"
     ]
    },
    {
     "name": "stdout",
     "output_type": "stream",
     "text": [
      "[DRE] Best accuracy, saving the weights...\n",
      "\n",
      "Epoch: 160\n"
     ]
    },
    {
     "name": "stderr",
     "output_type": "stream",
     "text": [
      "[DRE] Training.. Epoch 161/350: 100%|\u001b[34m██████████\u001b[0m| 60000/60000 [00:00<00:00, 96666.34img/s, loss (batch)=0.352] \n",
      "[DRE] Training.. Epoch 162/350:  25%|\u001b[34m██▌       \u001b[0m| 15000/60000 [00:00<00:00, 97793.03img/s, loss (batch)=0.343]"
     ]
    },
    {
     "name": "stdout",
     "output_type": "stream",
     "text": [
      "\n",
      "Epoch: 161\n"
     ]
    },
    {
     "name": "stderr",
     "output_type": "stream",
     "text": [
      "[DRE] Training.. Epoch 162/350: 100%|\u001b[34m██████████\u001b[0m| 60000/60000 [00:00<00:00, 94230.55img/s, loss (batch)=0.347]\n",
      "[DRE] Training.. Epoch 163/350:  25%|\u001b[34m██▌       \u001b[0m| 15000/60000 [00:00<00:00, 92794.34img/s, loss (batch)=0.341]"
     ]
    },
    {
     "name": "stdout",
     "output_type": "stream",
     "text": [
      "\n",
      "Epoch: 162\n"
     ]
    },
    {
     "name": "stderr",
     "output_type": "stream",
     "text": [
      "[DRE] Training.. Epoch 163/350: 100%|\u001b[34m██████████\u001b[0m| 60000/60000 [00:00<00:00, 93658.50img/s, loss (batch)=0.348]\n",
      "[DRE] Training.. Epoch 164/350:  25%|\u001b[34m██▌       \u001b[0m| 15000/60000 [00:00<00:00, 96597.54img/s, loss (batch)=0.334]"
     ]
    },
    {
     "name": "stdout",
     "output_type": "stream",
     "text": [
      "\n",
      "Epoch: 163\n"
     ]
    },
    {
     "name": "stderr",
     "output_type": "stream",
     "text": [
      "[DRE] Training.. Epoch 164/350: 100%|\u001b[34m██████████\u001b[0m| 60000/60000 [00:00<00:00, 98090.16img/s, loss (batch)=0.34] \n",
      "[DRE] Training.. Epoch 165/350:  25%|\u001b[34m██▌       \u001b[0m| 15000/60000 [00:00<00:00, 101214.49img/s, loss (batch)=0.334]"
     ]
    },
    {
     "name": "stdout",
     "output_type": "stream",
     "text": [
      "\n",
      "Epoch: 164\n"
     ]
    },
    {
     "name": "stderr",
     "output_type": "stream",
     "text": [
      "[DRE] Training.. Epoch 165/350: 100%|\u001b[34m██████████\u001b[0m| 60000/60000 [00:00<00:00, 98558.44img/s, loss (batch)=0.338] \n",
      "[DRE] Training.. Epoch 166/350:  25%|\u001b[34m██▌       \u001b[0m| 15000/60000 [00:00<00:00, 99170.94img/s, loss (batch)=0.33] "
     ]
    },
    {
     "name": "stdout",
     "output_type": "stream",
     "text": [
      "\n",
      "Epoch: 165\n"
     ]
    },
    {
     "name": "stderr",
     "output_type": "stream",
     "text": [
      "[DRE] Training.. Epoch 166/350: 100%|\u001b[34m██████████\u001b[0m| 60000/60000 [00:00<00:00, 98096.73img/s, loss (batch)=0.336]\n",
      "[DRE] Training.. Epoch 167/350:  25%|\u001b[34m██▌       \u001b[0m| 15000/60000 [00:00<00:00, 95380.80img/s, loss (batch)=0.335]"
     ]
    },
    {
     "name": "stdout",
     "output_type": "stream",
     "text": [
      "\n",
      "Epoch: 166\n"
     ]
    },
    {
     "name": "stderr",
     "output_type": "stream",
     "text": [
      "[DRE] Training.. Epoch 167/350: 100%|\u001b[34m██████████\u001b[0m| 60000/60000 [00:00<00:00, 97214.55img/s, loss (batch)=0.342]\n",
      "[DRE] Training.. Epoch 168/350:  25%|\u001b[34m██▌       \u001b[0m| 15000/60000 [00:00<00:00, 98326.74img/s, loss (batch)=0.327]"
     ]
    },
    {
     "name": "stdout",
     "output_type": "stream",
     "text": [
      "\n",
      "Epoch: 167\n"
     ]
    },
    {
     "name": "stderr",
     "output_type": "stream",
     "text": [
      "[DRE] Training.. Epoch 168/350: 100%|\u001b[34m██████████\u001b[0m| 60000/60000 [00:00<00:00, 98070.01img/s, loss (batch)=0.333]\n",
      "[DRE] Training.. Epoch 169/350:  25%|\u001b[34m██▌       \u001b[0m| 15000/60000 [00:00<00:00, 97590.98img/s, loss (batch)=0.329]"
     ]
    },
    {
     "name": "stdout",
     "output_type": "stream",
     "text": [
      "\n",
      "Epoch: 168\n"
     ]
    },
    {
     "name": "stderr",
     "output_type": "stream",
     "text": [
      "[DRE] Training.. Epoch 169/350: 100%|\u001b[34m██████████\u001b[0m| 60000/60000 [00:00<00:00, 98856.67img/s, loss (batch)=0.34] \n",
      "[DRE] Training.. Epoch 170/350:  25%|\u001b[34m██▌       \u001b[0m| 15000/60000 [00:00<00:00, 98390.17img/s, loss (batch)=0.332]"
     ]
    },
    {
     "name": "stdout",
     "output_type": "stream",
     "text": [
      "\n",
      "Epoch: 169\n"
     ]
    },
    {
     "name": "stderr",
     "output_type": "stream",
     "text": [
      "[DRE] Training.. Epoch 170/350: 100%|\u001b[34m██████████\u001b[0m| 60000/60000 [00:00<00:00, 98350.18img/s, loss (batch)=0.351]\n",
      "[DRE] Validating.. Epoch 170/350: 100%|\u001b[32m██████████\u001b[0m| 60000/60000 [00:00<00:00, 140386.11img/s, loss (batch)=tensor(0.3679, device='cuda:0', dtype=torch.float64)]\n",
      "[DRE] Training.. Epoch 171/350:  25%|\u001b[34m██▌       \u001b[0m| 15000/60000 [00:00<00:00, 97027.03img/s, loss (batch)=0.339]"
     ]
    },
    {
     "name": "stdout",
     "output_type": "stream",
     "text": [
      "[DRE] Best accuracy, saving the weights...\n",
      "\n",
      "Epoch: 170\n"
     ]
    },
    {
     "name": "stderr",
     "output_type": "stream",
     "text": [
      "[DRE] Training.. Epoch 171/350: 100%|\u001b[34m██████████\u001b[0m| 60000/60000 [00:00<00:00, 99976.54img/s, loss (batch)=0.34]  \n",
      "[DRE] Training.. Epoch 172/350:  25%|\u001b[34m██▌       \u001b[0m| 15000/60000 [00:00<00:00, 97785.51img/s, loss (batch)=0.341]"
     ]
    },
    {
     "name": "stdout",
     "output_type": "stream",
     "text": [
      "\n",
      "Epoch: 171\n"
     ]
    },
    {
     "name": "stderr",
     "output_type": "stream",
     "text": [
      "[DRE] Training.. Epoch 172/350: 100%|\u001b[34m██████████\u001b[0m| 60000/60000 [00:00<00:00, 97863.69img/s, loss (batch)=0.338]\n",
      "[DRE] Training.. Epoch 173/350:  25%|\u001b[34m██▌       \u001b[0m| 15000/60000 [00:00<00:00, 96203.83img/s, loss (batch)=0.331]"
     ]
    },
    {
     "name": "stdout",
     "output_type": "stream",
     "text": [
      "\n",
      "Epoch: 172\n"
     ]
    },
    {
     "name": "stderr",
     "output_type": "stream",
     "text": [
      "[DRE] Training.. Epoch 173/350: 100%|\u001b[34m██████████\u001b[0m| 60000/60000 [00:00<00:00, 97481.61img/s, loss (batch)=0.338]\n",
      "[DRE] Training.. Epoch 174/350:  25%|\u001b[34m██▌       \u001b[0m| 15000/60000 [00:00<00:00, 98070.85img/s, loss (batch)=0.33] "
     ]
    },
    {
     "name": "stdout",
     "output_type": "stream",
     "text": [
      "\n",
      "Epoch: 173\n"
     ]
    },
    {
     "name": "stderr",
     "output_type": "stream",
     "text": [
      "[DRE] Training.. Epoch 174/350: 100%|\u001b[34m██████████\u001b[0m| 60000/60000 [00:00<00:00, 98987.79img/s, loss (batch)=0.333]\n",
      "[DRE] Training.. Epoch 175/350:  29%|\u001b[34m██▉       \u001b[0m| 17500/60000 [00:00<00:00, 103407.82img/s, loss (batch)=0.326]"
     ]
    },
    {
     "name": "stdout",
     "output_type": "stream",
     "text": [
      "\n",
      "Epoch: 174\n"
     ]
    },
    {
     "name": "stderr",
     "output_type": "stream",
     "text": [
      "[DRE] Training.. Epoch 175/350: 100%|\u001b[34m██████████\u001b[0m| 60000/60000 [00:00<00:00, 98858.96img/s, loss (batch)=0.332] \n",
      "[DRE] Training.. Epoch 176/350:  25%|\u001b[34m██▌       \u001b[0m| 15000/60000 [00:00<00:00, 97837.51img/s, loss (batch)=0.322]"
     ]
    },
    {
     "name": "stdout",
     "output_type": "stream",
     "text": [
      "\n",
      "Epoch: 175\n"
     ]
    },
    {
     "name": "stderr",
     "output_type": "stream",
     "text": [
      "[DRE] Training.. Epoch 176/350: 100%|\u001b[34m██████████\u001b[0m| 60000/60000 [00:00<00:00, 97837.36img/s, loss (batch)=0.329]\n",
      "[DRE] Training.. Epoch 177/350:  25%|\u001b[34m██▌       \u001b[0m| 15000/60000 [00:00<00:00, 99393.92img/s, loss (batch)=0.323]"
     ]
    },
    {
     "name": "stdout",
     "output_type": "stream",
     "text": [
      "\n",
      "Epoch: 176\n"
     ]
    },
    {
     "name": "stderr",
     "output_type": "stream",
     "text": [
      "[DRE] Training.. Epoch 177/350: 100%|\u001b[34m██████████\u001b[0m| 60000/60000 [00:00<00:00, 98883.78img/s, loss (batch)=0.321]\n",
      "[DRE] Training.. Epoch 178/350:  25%|\u001b[34m██▌       \u001b[0m| 15000/60000 [00:00<00:00, 99039.52img/s, loss (batch)=0.321]"
     ]
    },
    {
     "name": "stdout",
     "output_type": "stream",
     "text": [
      "\n",
      "Epoch: 177\n"
     ]
    },
    {
     "name": "stderr",
     "output_type": "stream",
     "text": [
      "[DRE] Training.. Epoch 178/350: 100%|\u001b[34m██████████\u001b[0m| 60000/60000 [00:00<00:00, 98651.82img/s, loss (batch)=0.319]\n",
      "[DRE] Training.. Epoch 179/350:  25%|\u001b[34m██▌       \u001b[0m| 15000/60000 [00:00<00:00, 95855.56img/s, loss (batch)=0.318]"
     ]
    },
    {
     "name": "stdout",
     "output_type": "stream",
     "text": [
      "\n",
      "Epoch: 178\n"
     ]
    },
    {
     "name": "stderr",
     "output_type": "stream",
     "text": [
      "[DRE] Training.. Epoch 179/350: 100%|\u001b[34m██████████\u001b[0m| 60000/60000 [00:00<00:00, 97536.70img/s, loss (batch)=0.321]\n",
      "[DRE] Training.. Epoch 180/350:  25%|\u001b[34m██▌       \u001b[0m| 15000/60000 [00:00<00:00, 100650.22img/s, loss (batch)=0.316]"
     ]
    },
    {
     "name": "stdout",
     "output_type": "stream",
     "text": [
      "\n",
      "Epoch: 179\n"
     ]
    },
    {
     "name": "stderr",
     "output_type": "stream",
     "text": [
      "[DRE] Training.. Epoch 180/350: 100%|\u001b[34m██████████\u001b[0m| 60000/60000 [00:00<00:00, 98266.04img/s, loss (batch)=0.323] \n",
      "[DRE] Validating.. Epoch 180/350: 100%|\u001b[32m██████████\u001b[0m| 60000/60000 [00:00<00:00, 141324.74img/s, loss (batch)=tensor(0.3603, device='cuda:0', dtype=torch.float64)]\n",
      "[DRE] Training.. Epoch 181/350:  25%|\u001b[34m██▌       \u001b[0m| 15000/60000 [00:00<00:00, 98797.00img/s, loss (batch)=0.319]"
     ]
    },
    {
     "name": "stdout",
     "output_type": "stream",
     "text": [
      "[DRE] Best accuracy, saving the weights...\n",
      "\n",
      "Epoch: 180\n"
     ]
    },
    {
     "name": "stderr",
     "output_type": "stream",
     "text": [
      "[DRE] Training.. Epoch 181/350: 100%|\u001b[34m██████████\u001b[0m| 60000/60000 [00:00<00:00, 97010.61img/s, loss (batch)=0.316]\n",
      "[DRE] Training.. Epoch 182/350:  25%|\u001b[34m██▌       \u001b[0m| 15000/60000 [00:00<00:00, 97548.31img/s, loss (batch)=0.316]"
     ]
    },
    {
     "name": "stdout",
     "output_type": "stream",
     "text": [
      "\n",
      "Epoch: 181\n"
     ]
    },
    {
     "name": "stderr",
     "output_type": "stream",
     "text": [
      "[DRE] Training.. Epoch 182/350: 100%|\u001b[34m██████████\u001b[0m| 60000/60000 [00:00<00:00, 97768.37img/s, loss (batch)=0.32] \n",
      "[DRE] Training.. Epoch 183/350:  25%|\u001b[34m██▌       \u001b[0m| 15000/60000 [00:00<00:00, 98056.64img/s, loss (batch)=0.32] "
     ]
    },
    {
     "name": "stdout",
     "output_type": "stream",
     "text": [
      "\n",
      "Epoch: 182\n"
     ]
    },
    {
     "name": "stderr",
     "output_type": "stream",
     "text": [
      "[DRE] Training.. Epoch 183/350: 100%|\u001b[34m██████████\u001b[0m| 60000/60000 [00:00<00:00, 100065.46img/s, loss (batch)=0.327]\n",
      "[DRE] Training.. Epoch 184/350:  29%|\u001b[34m██▉       \u001b[0m| 17500/60000 [00:00<00:00, 97458.77img/s, loss (batch)=0.324]"
     ]
    },
    {
     "name": "stdout",
     "output_type": "stream",
     "text": [
      "\n",
      "Epoch: 183\n"
     ]
    },
    {
     "name": "stderr",
     "output_type": "stream",
     "text": [
      "[DRE] Training.. Epoch 184/350: 100%|\u001b[34m██████████\u001b[0m| 60000/60000 [00:00<00:00, 99085.11img/s, loss (batch)=0.328] \n",
      "[DRE] Training.. Epoch 185/350:  25%|\u001b[34m██▌       \u001b[0m| 15000/60000 [00:00<00:00, 95702.68img/s, loss (batch)=0.324]"
     ]
    },
    {
     "name": "stdout",
     "output_type": "stream",
     "text": [
      "\n",
      "Epoch: 184\n"
     ]
    },
    {
     "name": "stderr",
     "output_type": "stream",
     "text": [
      "[DRE] Training.. Epoch 185/350: 100%|\u001b[34m██████████\u001b[0m| 60000/60000 [00:00<00:00, 97441.26img/s, loss (batch)=0.331]\n",
      "[DRE] Training.. Epoch 186/350:  25%|\u001b[34m██▌       \u001b[0m| 15000/60000 [00:00<00:00, 100920.10img/s, loss (batch)=0.323]"
     ]
    },
    {
     "name": "stdout",
     "output_type": "stream",
     "text": [
      "\n",
      "Epoch: 185\n"
     ]
    },
    {
     "name": "stderr",
     "output_type": "stream",
     "text": [
      "[DRE] Training.. Epoch 186/350: 100%|\u001b[34m██████████\u001b[0m| 60000/60000 [00:00<00:00, 99683.49img/s, loss (batch)=0.341] \n",
      "[DRE] Training.. Epoch 187/350:  29%|\u001b[34m██▉       \u001b[0m| 17500/60000 [00:00<00:00, 99648.24img/s, loss (batch)=0.341]"
     ]
    },
    {
     "name": "stdout",
     "output_type": "stream",
     "text": [
      "\n",
      "Epoch: 186\n"
     ]
    },
    {
     "name": "stderr",
     "output_type": "stream",
     "text": [
      "[DRE] Training.. Epoch 187/350: 100%|\u001b[34m██████████\u001b[0m| 60000/60000 [00:00<00:00, 100125.98img/s, loss (batch)=0.345]\n",
      "[DRE] Training.. Epoch 188/350:  29%|\u001b[34m██▉       \u001b[0m| 17500/60000 [00:00<00:00, 99961.72img/s, loss (batch)=0.34] "
     ]
    },
    {
     "name": "stdout",
     "output_type": "stream",
     "text": [
      "\n",
      "Epoch: 187\n"
     ]
    },
    {
     "name": "stderr",
     "output_type": "stream",
     "text": [
      "[DRE] Training.. Epoch 188/350: 100%|\u001b[34m██████████\u001b[0m| 60000/60000 [00:00<00:00, 98216.91img/s, loss (batch)=0.343] \n",
      "[DRE] Training.. Epoch 189/350:  29%|\u001b[34m██▉       \u001b[0m| 17500/60000 [00:00<00:00, 101915.50img/s, loss (batch)=0.341]"
     ]
    },
    {
     "name": "stdout",
     "output_type": "stream",
     "text": [
      "\n",
      "Epoch: 188\n"
     ]
    },
    {
     "name": "stderr",
     "output_type": "stream",
     "text": [
      "[DRE] Training.. Epoch 189/350: 100%|\u001b[34m██████████\u001b[0m| 60000/60000 [00:00<00:00, 99120.51img/s, loss (batch)=0.333] \n",
      "[DRE] Training.. Epoch 190/350:  25%|\u001b[34m██▌       \u001b[0m| 15000/60000 [00:00<00:00, 98278.13img/s, loss (batch)=0.321]"
     ]
    },
    {
     "name": "stdout",
     "output_type": "stream",
     "text": [
      "\n",
      "Epoch: 189\n"
     ]
    },
    {
     "name": "stderr",
     "output_type": "stream",
     "text": [
      "[DRE] Training.. Epoch 190/350: 100%|\u001b[34m██████████\u001b[0m| 60000/60000 [00:00<00:00, 100397.80img/s, loss (batch)=0.324]\n",
      "[DRE] Validating.. Epoch 190/350: 100%|\u001b[32m██████████\u001b[0m| 60000/60000 [00:00<00:00, 140201.92img/s, loss (batch)=tensor(0.3582, device='cuda:0', dtype=torch.float64)]\n",
      "[DRE] Training.. Epoch 191/350:  25%|\u001b[34m██▌       \u001b[0m| 15000/60000 [00:00<00:00, 95294.99img/s, loss (batch)=0.317]"
     ]
    },
    {
     "name": "stdout",
     "output_type": "stream",
     "text": [
      "[DRE] Best accuracy, saving the weights...\n",
      "\n",
      "Epoch: 190\n"
     ]
    },
    {
     "name": "stderr",
     "output_type": "stream",
     "text": [
      "[DRE] Training.. Epoch 191/350: 100%|\u001b[34m██████████\u001b[0m| 60000/60000 [00:00<00:00, 97340.97img/s, loss (batch)=0.319]\n",
      "[DRE] Training.. Epoch 192/350:  25%|\u001b[34m██▌       \u001b[0m| 15000/60000 [00:00<00:00, 99676.66img/s, loss (batch)=0.32] "
     ]
    },
    {
     "name": "stdout",
     "output_type": "stream",
     "text": [
      "\n",
      "Epoch: 191\n"
     ]
    },
    {
     "name": "stderr",
     "output_type": "stream",
     "text": [
      "[DRE] Training.. Epoch 192/350: 100%|\u001b[34m██████████\u001b[0m| 60000/60000 [00:00<00:00, 98257.40img/s, loss (batch)=0.315]\n",
      "[DRE] Training.. Epoch 193/350:  29%|\u001b[34m██▉       \u001b[0m| 17500/60000 [00:00<00:00, 100195.31img/s, loss (batch)=0.311]"
     ]
    },
    {
     "name": "stdout",
     "output_type": "stream",
     "text": [
      "\n",
      "Epoch: 192\n"
     ]
    },
    {
     "name": "stderr",
     "output_type": "stream",
     "text": [
      "[DRE] Training.. Epoch 193/350: 100%|\u001b[34m██████████\u001b[0m| 60000/60000 [00:00<00:00, 99067.40img/s, loss (batch)=0.316] \n",
      "[DRE] Training.. Epoch 194/350:  25%|\u001b[34m██▌       \u001b[0m| 15000/60000 [00:00<00:00, 99577.74img/s, loss (batch)=0.313]"
     ]
    },
    {
     "name": "stdout",
     "output_type": "stream",
     "text": [
      "\n",
      "Epoch: 193\n"
     ]
    },
    {
     "name": "stderr",
     "output_type": "stream",
     "text": [
      "[DRE] Training.. Epoch 194/350: 100%|\u001b[34m██████████\u001b[0m| 60000/60000 [00:00<00:00, 98171.32img/s, loss (batch)=0.32] \n",
      "[DRE] Training.. Epoch 195/350:  25%|\u001b[34m██▌       \u001b[0m| 15000/60000 [00:00<00:00, 96376.91img/s, loss (batch)=0.311]"
     ]
    },
    {
     "name": "stdout",
     "output_type": "stream",
     "text": [
      "\n",
      "Epoch: 194\n"
     ]
    },
    {
     "name": "stderr",
     "output_type": "stream",
     "text": [
      "[DRE] Training.. Epoch 195/350: 100%|\u001b[34m██████████\u001b[0m| 60000/60000 [00:00<00:00, 98344.30img/s, loss (batch)=0.32] \n",
      "[DRE] Training.. Epoch 196/350:  25%|\u001b[34m██▌       \u001b[0m| 15000/60000 [00:00<00:00, 97794.86img/s, loss (batch)=0.311]"
     ]
    },
    {
     "name": "stdout",
     "output_type": "stream",
     "text": [
      "\n",
      "Epoch: 195\n"
     ]
    },
    {
     "name": "stderr",
     "output_type": "stream",
     "text": [
      "[DRE] Training.. Epoch 196/350: 100%|\u001b[34m██████████\u001b[0m| 60000/60000 [00:00<00:00, 99756.03img/s, loss (batch)=0.323] \n",
      "[DRE] Training.. Epoch 197/350:  25%|\u001b[34m██▌       \u001b[0m| 15000/60000 [00:00<00:00, 92500.67img/s, loss (batch)=0.312]"
     ]
    },
    {
     "name": "stdout",
     "output_type": "stream",
     "text": [
      "\n",
      "Epoch: 196\n"
     ]
    },
    {
     "name": "stderr",
     "output_type": "stream",
     "text": [
      "[DRE] Training.. Epoch 197/350: 100%|\u001b[34m██████████\u001b[0m| 60000/60000 [00:00<00:00, 96605.59img/s, loss (batch)=0.321]\n",
      "[DRE] Training.. Epoch 198/350:  25%|\u001b[34m██▌       \u001b[0m| 15000/60000 [00:00<00:00, 95122.95img/s, loss (batch)=0.308]"
     ]
    },
    {
     "name": "stdout",
     "output_type": "stream",
     "text": [
      "\n",
      "Epoch: 197\n"
     ]
    },
    {
     "name": "stderr",
     "output_type": "stream",
     "text": [
      "[DRE] Training.. Epoch 198/350: 100%|\u001b[34m██████████\u001b[0m| 60000/60000 [00:00<00:00, 98229.79img/s, loss (batch)=0.314]\n",
      "[DRE] Training.. Epoch 199/350:  25%|\u001b[34m██▌       \u001b[0m| 15000/60000 [00:00<00:00, 93289.26img/s, loss (batch)=0.314]"
     ]
    },
    {
     "name": "stdout",
     "output_type": "stream",
     "text": [
      "\n",
      "Epoch: 198\n"
     ]
    },
    {
     "name": "stderr",
     "output_type": "stream",
     "text": [
      "[DRE] Training.. Epoch 199/350: 100%|\u001b[34m██████████\u001b[0m| 60000/60000 [00:00<00:00, 99186.64img/s, loss (batch)=0.315] \n",
      "[DRE] Training.. Epoch 200/350:  25%|\u001b[34m██▌       \u001b[0m| 15000/60000 [00:00<00:00, 99602.10img/s, loss (batch)=0.312]"
     ]
    },
    {
     "name": "stdout",
     "output_type": "stream",
     "text": [
      "\n",
      "Epoch: 199\n"
     ]
    },
    {
     "name": "stderr",
     "output_type": "stream",
     "text": [
      "[DRE] Training.. Epoch 200/350: 100%|\u001b[34m██████████\u001b[0m| 60000/60000 [00:00<00:00, 98485.66img/s, loss (batch)=0.318]\n",
      "[DRE] Validating.. Epoch 200/350: 100%|\u001b[32m██████████\u001b[0m| 60000/60000 [00:00<00:00, 139584.94img/s, loss (batch)=tensor(0.3562, device='cuda:0', dtype=torch.float64)]\n"
     ]
    },
    {
     "name": "stdout",
     "output_type": "stream",
     "text": [
      "[DRE] Best accuracy, saving the weights...\n",
      "building P matrix...\n",
      "[DRE] recursive step 3 data shape:  (2500, 100)\n",
      "[DRE] Computed conditional probabilities for sample 1000 / 2500\n",
      "[DRE] Computed conditional probabilities for sample 2000 / 2500\n",
      "[DRE] Computed conditional probabilities for sample 2500 / 2500\n",
      "[DRE] Mean sigma: 0.658645\n",
      "[DRE] P length:  1\n",
      "[DRE] recursive step 3 data shape:  (2500, 100)\n",
      "[DRE] Computed conditional probabilities for sample 1000 / 2500\n",
      "[DRE] Computed conditional probabilities for sample 2000 / 2500\n",
      "[DRE] Computed conditional probabilities for sample 2500 / 2500\n",
      "[DRE] Mean sigma: 0.661829\n",
      "[DRE] P length:  2\n",
      "[DRE] recursive step 3 data shape:  (2500, 100)\n",
      "[DRE] Computed conditional probabilities for sample 1000 / 2500\n",
      "[DRE] Computed conditional probabilities for sample 2000 / 2500\n",
      "[DRE] Computed conditional probabilities for sample 2500 / 2500\n",
      "[DRE] Mean sigma: 0.654326\n",
      "[DRE] P length:  3\n",
      "[DRE] recursive step 3 data shape:  (2500, 100)\n",
      "[DRE] Computed conditional probabilities for sample 1000 / 2500\n",
      "[DRE] Computed conditional probabilities for sample 2000 / 2500\n",
      "[DRE] Computed conditional probabilities for sample 2500 / 2500\n",
      "[DRE] Mean sigma: 0.671720\n",
      "[DRE] P length:  4\n",
      "[DRE] recursive step 3 data shape:  (2500, 100)\n",
      "[DRE] Computed conditional probabilities for sample 1000 / 2500\n",
      "[DRE] Computed conditional probabilities for sample 2000 / 2500\n",
      "[DRE] Computed conditional probabilities for sample 2500 / 2500\n",
      "[DRE] Mean sigma: 0.648552\n",
      "[DRE] P length:  5\n",
      "[DRE] recursive step 3 data shape:  (2500, 100)\n",
      "[DRE] Computed conditional probabilities for sample 1000 / 2500\n",
      "[DRE] Computed conditional probabilities for sample 2000 / 2500\n",
      "[DRE] Computed conditional probabilities for sample 2500 / 2500\n",
      "[DRE] Mean sigma: 0.673453\n",
      "[DRE] P length:  6\n",
      "[DRE] recursive step 3 data shape:  (2500, 100)\n",
      "[DRE] Computed conditional probabilities for sample 1000 / 2500\n",
      "[DRE] Computed conditional probabilities for sample 2000 / 2500\n",
      "[DRE] Computed conditional probabilities for sample 2500 / 2500\n",
      "[DRE] Mean sigma: 0.690269\n",
      "[DRE] P length:  7\n",
      "[DRE] recursive step 3 data shape:  (2500, 100)\n",
      "[DRE] Computed conditional probabilities for sample 1000 / 2500\n",
      "[DRE] Computed conditional probabilities for sample 2000 / 2500\n",
      "[DRE] Computed conditional probabilities for sample 2500 / 2500\n",
      "[DRE] Mean sigma: 0.674119\n",
      "[DRE] P length:  8\n",
      "[DRE] recursive step 3 data shape:  (2500, 100)\n",
      "[DRE] Computed conditional probabilities for sample 1000 / 2500\n",
      "[DRE] Computed conditional probabilities for sample 2000 / 2500\n",
      "[DRE] Computed conditional probabilities for sample 2500 / 2500\n",
      "[DRE] Mean sigma: 0.660235\n",
      "[DRE] P length:  9\n",
      "[DRE] recursive step 3 data shape:  (2500, 100)\n",
      "[DRE] Computed conditional probabilities for sample 1000 / 2500\n",
      "[DRE] Computed conditional probabilities for sample 2000 / 2500\n",
      "[DRE] Computed conditional probabilities for sample 2500 / 2500\n",
      "[DRE] Mean sigma: 0.677242\n",
      "[DRE] P length:  10\n",
      "[DRE] recursive step 3 data shape:  (2500, 100)\n",
      "[DRE] Computed conditional probabilities for sample 1000 / 2500\n",
      "[DRE] Computed conditional probabilities for sample 2000 / 2500\n",
      "[DRE] Computed conditional probabilities for sample 2500 / 2500\n",
      "[DRE] Mean sigma: 0.637669\n",
      "[DRE] P length:  11\n",
      "[DRE] recursive step 3 data shape:  (2500, 100)\n",
      "[DRE] Computed conditional probabilities for sample 1000 / 2500\n",
      "[DRE] Computed conditional probabilities for sample 2000 / 2500\n",
      "[DRE] Computed conditional probabilities for sample 2500 / 2500\n",
      "[DRE] Mean sigma: 0.680874\n",
      "[DRE] P length:  12\n",
      "[DRE] recursive step 3 data shape:  (2500, 100)\n",
      "[DRE] Computed conditional probabilities for sample 1000 / 2500\n",
      "[DRE] Computed conditional probabilities for sample 2000 / 2500\n",
      "[DRE] Computed conditional probabilities for sample 2500 / 2500\n",
      "[DRE] Mean sigma: 0.680793\n",
      "[DRE] P length:  13\n",
      "[DRE] recursive step 3 data shape:  (2500, 100)\n",
      "[DRE] Computed conditional probabilities for sample 1000 / 2500\n",
      "[DRE] Computed conditional probabilities for sample 2000 / 2500\n",
      "[DRE] Computed conditional probabilities for sample 2500 / 2500\n",
      "[DRE] Mean sigma: 0.661886\n",
      "[DRE] P length:  14\n",
      "[DRE] recursive step 3 data shape:  (2500, 100)\n",
      "[DRE] Computed conditional probabilities for sample 1000 / 2500\n",
      "[DRE] Computed conditional probabilities for sample 2000 / 2500\n",
      "[DRE] Computed conditional probabilities for sample 2500 / 2500\n",
      "[DRE] Mean sigma: 0.679485\n",
      "[DRE] P length:  15\n",
      "[DRE] recursive step 3 data shape:  (2500, 100)\n",
      "[DRE] Computed conditional probabilities for sample 1000 / 2500\n",
      "[DRE] Computed conditional probabilities for sample 2000 / 2500\n",
      "[DRE] Computed conditional probabilities for sample 2500 / 2500\n",
      "[DRE] Mean sigma: 0.670421\n",
      "[DRE] P length:  16\n",
      "[DRE] recursive step 3 data shape:  (2500, 100)\n",
      "[DRE] Computed conditional probabilities for sample 1000 / 2500\n",
      "[DRE] Computed conditional probabilities for sample 2000 / 2500\n",
      "[DRE] Computed conditional probabilities for sample 2500 / 2500\n",
      "[DRE] Mean sigma: 0.656111\n",
      "[DRE] P length:  17\n",
      "[DRE] recursive step 3 data shape:  (2500, 100)\n",
      "[DRE] Computed conditional probabilities for sample 1000 / 2500\n",
      "[DRE] Computed conditional probabilities for sample 2000 / 2500\n",
      "[DRE] Computed conditional probabilities for sample 2500 / 2500\n",
      "[DRE] Mean sigma: 0.668947\n",
      "[DRE] P length:  18\n",
      "[DRE] recursive step 3 data shape:  (2500, 100)\n",
      "[DRE] Computed conditional probabilities for sample 1000 / 2500\n",
      "[DRE] Computed conditional probabilities for sample 2000 / 2500\n",
      "[DRE] Computed conditional probabilities for sample 2500 / 2500\n",
      "[DRE] Mean sigma: 0.676956\n",
      "[DRE] P length:  19\n",
      "[DRE] recursive step 3 data shape:  (2500, 100)\n",
      "[DRE] Computed conditional probabilities for sample 1000 / 2500\n",
      "[DRE] Computed conditional probabilities for sample 2000 / 2500\n",
      "[DRE] Computed conditional probabilities for sample 2500 / 2500\n",
      "[DRE] Mean sigma: 0.697015\n",
      "[DRE] P length:  20\n",
      "[DRE] recursive step 3 data shape:  (2500, 100)\n",
      "[DRE] Computed conditional probabilities for sample 1000 / 2500\n",
      "[DRE] Computed conditional probabilities for sample 2000 / 2500\n",
      "[DRE] Computed conditional probabilities for sample 2500 / 2500\n",
      "[DRE] Mean sigma: 0.664875\n",
      "[DRE] P length:  21\n",
      "[DRE] recursive step 3 data shape:  (2500, 100)\n",
      "[DRE] Computed conditional probabilities for sample 1000 / 2500\n",
      "[DRE] Computed conditional probabilities for sample 2000 / 2500\n",
      "[DRE] Computed conditional probabilities for sample 2500 / 2500\n",
      "[DRE] Mean sigma: 0.682372\n",
      "[DRE] P length:  22\n",
      "[DRE] recursive step 3 data shape:  (2500, 100)\n",
      "[DRE] Computed conditional probabilities for sample 1000 / 2500\n",
      "[DRE] Computed conditional probabilities for sample 2000 / 2500\n",
      "[DRE] Computed conditional probabilities for sample 2500 / 2500\n",
      "[DRE] Mean sigma: 0.665161\n",
      "[DRE] P length:  23\n",
      "[DRE] recursive step 3 data shape:  (2500, 100)\n",
      "[DRE] Computed conditional probabilities for sample 1000 / 2500\n",
      "[DRE] Computed conditional probabilities for sample 2000 / 2500\n"
     ]
    },
    {
     "name": "stderr",
     "output_type": "stream",
     "text": [
      "[DRE] Training.. Epoch 201/350:  21%|\u001b[34m██        \u001b[0m| 12500/60000 [00:00<00:00, 98005.77img/s, loss (batch)=0.301]"
     ]
    },
    {
     "name": "stdout",
     "output_type": "stream",
     "text": [
      "[DRE] Computed conditional probabilities for sample 2500 / 2500\n",
      "[DRE] Mean sigma: 0.633334\n",
      "[DRE] P length:  24\n",
      "\n",
      "Epoch: 200\n"
     ]
    },
    {
     "name": "stderr",
     "output_type": "stream",
     "text": [
      "[DRE] Training.. Epoch 201/350: 100%|\u001b[34m██████████\u001b[0m| 60000/60000 [00:00<00:00, 97960.53img/s, loss (batch)=0.324]\n",
      "[DRE] Training.. Epoch 202/350:  25%|\u001b[34m██▌       \u001b[0m| 15000/60000 [00:00<00:00, 98727.84img/s, loss (batch)=0.288]"
     ]
    },
    {
     "name": "stdout",
     "output_type": "stream",
     "text": [
      "\n",
      "Epoch: 201\n"
     ]
    },
    {
     "name": "stderr",
     "output_type": "stream",
     "text": [
      "[DRE] Training.. Epoch 202/350: 100%|\u001b[34m██████████\u001b[0m| 60000/60000 [00:00<00:00, 98286.76img/s, loss (batch)=0.316]\n",
      "[DRE] Training.. Epoch 203/350:  25%|\u001b[34m██▌       \u001b[0m| 15000/60000 [00:00<00:00, 97796.22img/s, loss (batch)=0.299]"
     ]
    },
    {
     "name": "stdout",
     "output_type": "stream",
     "text": [
      "\n",
      "Epoch: 202\n"
     ]
    },
    {
     "name": "stderr",
     "output_type": "stream",
     "text": [
      "[DRE] Training.. Epoch 203/350: 100%|\u001b[34m██████████\u001b[0m| 60000/60000 [00:00<00:00, 98974.32img/s, loss (batch)=0.309]\n",
      "[DRE] Training.. Epoch 204/350:  25%|\u001b[34m██▌       \u001b[0m| 15000/60000 [00:00<00:00, 96946.07img/s, loss (batch)=0.291]"
     ]
    },
    {
     "name": "stdout",
     "output_type": "stream",
     "text": [
      "\n",
      "Epoch: 203\n"
     ]
    },
    {
     "name": "stderr",
     "output_type": "stream",
     "text": [
      "[DRE] Training.. Epoch 204/350: 100%|\u001b[34m██████████\u001b[0m| 60000/60000 [00:00<00:00, 96784.52img/s, loss (batch)=0.312]\n",
      "[DRE] Training.. Epoch 205/350:  25%|\u001b[34m██▌       \u001b[0m| 15000/60000 [00:00<00:00, 96925.24img/s, loss (batch)=0.31] "
     ]
    },
    {
     "name": "stdout",
     "output_type": "stream",
     "text": [
      "\n",
      "Epoch: 204\n"
     ]
    },
    {
     "name": "stderr",
     "output_type": "stream",
     "text": [
      "[DRE] Training.. Epoch 205/350: 100%|\u001b[34m██████████\u001b[0m| 60000/60000 [00:00<00:00, 96262.19img/s, loss (batch)=0.331]\n",
      "[DRE] Training.. Epoch 206/350:  25%|\u001b[34m██▌       \u001b[0m| 15000/60000 [00:00<00:00, 96257.92img/s, loss (batch)=0.329]"
     ]
    },
    {
     "name": "stdout",
     "output_type": "stream",
     "text": [
      "\n",
      "Epoch: 205\n"
     ]
    },
    {
     "name": "stderr",
     "output_type": "stream",
     "text": [
      "[DRE] Training.. Epoch 206/350: 100%|\u001b[34m██████████\u001b[0m| 60000/60000 [00:00<00:00, 97600.74img/s, loss (batch)=0.346]\n",
      "[DRE] Training.. Epoch 207/350:  29%|\u001b[34m██▉       \u001b[0m| 17500/60000 [00:00<00:00, 98512.42img/s, loss (batch)=0.346]"
     ]
    },
    {
     "name": "stdout",
     "output_type": "stream",
     "text": [
      "\n",
      "Epoch: 206\n"
     ]
    },
    {
     "name": "stderr",
     "output_type": "stream",
     "text": [
      "[DRE] Training.. Epoch 207/350: 100%|\u001b[34m██████████\u001b[0m| 60000/60000 [00:00<00:00, 98260.05img/s, loss (batch)=0.347] \n",
      "[DRE] Training.. Epoch 208/350:  25%|\u001b[34m██▌       \u001b[0m| 15000/60000 [00:00<00:00, 95331.37img/s, loss (batch)=0.333]"
     ]
    },
    {
     "name": "stdout",
     "output_type": "stream",
     "text": [
      "\n",
      "Epoch: 207\n"
     ]
    },
    {
     "name": "stderr",
     "output_type": "stream",
     "text": [
      "[DRE] Training.. Epoch 208/350: 100%|\u001b[34m██████████\u001b[0m| 60000/60000 [00:00<00:00, 98327.16img/s, loss (batch)=0.335]\n",
      "[DRE] Training.. Epoch 209/350:  25%|\u001b[34m██▌       \u001b[0m| 15000/60000 [00:00<00:00, 94770.04img/s, loss (batch)=0.335]"
     ]
    },
    {
     "name": "stdout",
     "output_type": "stream",
     "text": [
      "\n",
      "Epoch: 208\n"
     ]
    },
    {
     "name": "stderr",
     "output_type": "stream",
     "text": [
      "[DRE] Training.. Epoch 209/350: 100%|\u001b[34m██████████\u001b[0m| 60000/60000 [00:00<00:00, 97075.73img/s, loss (batch)=0.324]\n",
      "[DRE] Training.. Epoch 210/350:  29%|\u001b[34m██▉       \u001b[0m| 17500/60000 [00:00<00:00, 99173.00img/s, loss (batch)=0.326]"
     ]
    },
    {
     "name": "stdout",
     "output_type": "stream",
     "text": [
      "\n",
      "Epoch: 209\n"
     ]
    },
    {
     "name": "stderr",
     "output_type": "stream",
     "text": [
      "[DRE] Training.. Epoch 210/350: 100%|\u001b[34m██████████\u001b[0m| 60000/60000 [00:00<00:00, 99377.04img/s, loss (batch)=0.314] \n",
      "[DRE] Validating.. Epoch 210/350: 100%|\u001b[32m██████████\u001b[0m| 60000/60000 [00:00<00:00, 138862.78img/s, loss (batch)=tensor(0.3531, device='cuda:0', dtype=torch.float64)]\n",
      "[DRE] Training.. Epoch 211/350:  25%|\u001b[34m██▌       \u001b[0m| 15000/60000 [00:00<00:00, 97975.78img/s, loss (batch)=0.303]"
     ]
    },
    {
     "name": "stdout",
     "output_type": "stream",
     "text": [
      "[DRE] Best accuracy, saving the weights...\n",
      "\n",
      "Epoch: 210\n"
     ]
    },
    {
     "name": "stderr",
     "output_type": "stream",
     "text": [
      "[DRE] Training.. Epoch 211/350: 100%|\u001b[34m██████████\u001b[0m| 60000/60000 [00:00<00:00, 97830.97img/s, loss (batch)=0.321]\n",
      "[DRE] Training.. Epoch 212/350:  25%|\u001b[34m██▌       \u001b[0m| 15000/60000 [00:00<00:00, 95753.81img/s, loss (batch)=0.31] "
     ]
    },
    {
     "name": "stdout",
     "output_type": "stream",
     "text": [
      "\n",
      "Epoch: 211\n"
     ]
    },
    {
     "name": "stderr",
     "output_type": "stream",
     "text": [
      "[DRE] Training.. Epoch 212/350: 100%|\u001b[34m██████████\u001b[0m| 60000/60000 [00:00<00:00, 98679.41img/s, loss (batch)=0.316]\n",
      "[DRE] Training.. Epoch 213/350:  25%|\u001b[34m██▌       \u001b[0m| 15000/60000 [00:00<00:00, 97609.87img/s, loss (batch)=0.311]"
     ]
    },
    {
     "name": "stdout",
     "output_type": "stream",
     "text": [
      "\n",
      "Epoch: 212\n"
     ]
    },
    {
     "name": "stderr",
     "output_type": "stream",
     "text": [
      "[DRE] Training.. Epoch 213/350: 100%|\u001b[34m██████████\u001b[0m| 60000/60000 [00:00<00:00, 96726.60img/s, loss (batch)=0.311]\n",
      "[DRE] Training.. Epoch 214/350:  25%|\u001b[34m██▌       \u001b[0m| 15000/60000 [00:00<00:00, 98553.39img/s, loss (batch)=0.293]"
     ]
    },
    {
     "name": "stdout",
     "output_type": "stream",
     "text": [
      "\n",
      "Epoch: 213\n"
     ]
    },
    {
     "name": "stderr",
     "output_type": "stream",
     "text": [
      "[DRE] Training.. Epoch 214/350: 100%|\u001b[34m██████████\u001b[0m| 60000/60000 [00:00<00:00, 95920.71img/s, loss (batch)=0.304]\n",
      "[DRE] Training.. Epoch 215/350:  25%|\u001b[34m██▌       \u001b[0m| 15000/60000 [00:00<00:00, 98174.38img/s, loss (batch)=0.29] "
     ]
    },
    {
     "name": "stdout",
     "output_type": "stream",
     "text": [
      "\n",
      "Epoch: 214\n"
     ]
    },
    {
     "name": "stderr",
     "output_type": "stream",
     "text": [
      "[DRE] Training.. Epoch 215/350: 100%|\u001b[34m██████████\u001b[0m| 60000/60000 [00:00<00:00, 97075.95img/s, loss (batch)=0.301]\n",
      "[DRE] Training.. Epoch 216/350:  29%|\u001b[34m██▉       \u001b[0m| 17500/60000 [00:00<00:00, 103250.00img/s, loss (batch)=0.299]"
     ]
    },
    {
     "name": "stdout",
     "output_type": "stream",
     "text": [
      "\n",
      "Epoch: 215\n"
     ]
    },
    {
     "name": "stderr",
     "output_type": "stream",
     "text": [
      "[DRE] Training.. Epoch 216/350: 100%|\u001b[34m██████████\u001b[0m| 60000/60000 [00:00<00:00, 100101.53img/s, loss (batch)=0.315]\n",
      "[DRE] Training.. Epoch 217/350:  25%|\u001b[34m██▌       \u001b[0m| 15000/60000 [00:00<00:00, 93934.43img/s, loss (batch)=0.292]"
     ]
    },
    {
     "name": "stdout",
     "output_type": "stream",
     "text": [
      "\n",
      "Epoch: 216\n"
     ]
    },
    {
     "name": "stderr",
     "output_type": "stream",
     "text": [
      "[DRE] Training.. Epoch 217/350: 100%|\u001b[34m██████████\u001b[0m| 60000/60000 [00:00<00:00, 97093.37img/s, loss (batch)=0.314]\n",
      "[DRE] Training.. Epoch 218/350:  25%|\u001b[34m██▌       \u001b[0m| 15000/60000 [00:00<00:00, 99479.02img/s, loss (batch)=0.294]"
     ]
    },
    {
     "name": "stdout",
     "output_type": "stream",
     "text": [
      "\n",
      "Epoch: 217\n"
     ]
    },
    {
     "name": "stderr",
     "output_type": "stream",
     "text": [
      "[DRE] Training.. Epoch 218/350: 100%|\u001b[34m██████████\u001b[0m| 60000/60000 [00:00<00:00, 97954.92img/s, loss (batch)=0.309]\n",
      "[DRE] Training.. Epoch 219/350:  29%|\u001b[34m██▉       \u001b[0m| 17500/60000 [00:00<00:00, 98154.39img/s, loss (batch)=0.297]"
     ]
    },
    {
     "name": "stdout",
     "output_type": "stream",
     "text": [
      "\n",
      "Epoch: 218\n"
     ]
    },
    {
     "name": "stderr",
     "output_type": "stream",
     "text": [
      "[DRE] Training.. Epoch 219/350: 100%|\u001b[34m██████████\u001b[0m| 60000/60000 [00:00<00:00, 100266.12img/s, loss (batch)=0.302]\n",
      "[DRE] Training.. Epoch 220/350:  25%|\u001b[34m██▌       \u001b[0m| 15000/60000 [00:00<00:00, 99310.61img/s, loss (batch)=0.293]"
     ]
    },
    {
     "name": "stdout",
     "output_type": "stream",
     "text": [
      "\n",
      "Epoch: 219\n"
     ]
    },
    {
     "name": "stderr",
     "output_type": "stream",
     "text": [
      "[DRE] Training.. Epoch 220/350: 100%|\u001b[34m██████████\u001b[0m| 60000/60000 [00:00<00:00, 98265.35img/s, loss (batch)=0.302]\n",
      "[DRE] Validating.. Epoch 220/350: 100%|\u001b[32m██████████\u001b[0m| 60000/60000 [00:00<00:00, 138443.85img/s, loss (batch)=tensor(0.3134, device='cuda:0', dtype=torch.float64)]\n",
      "[DRE] Training.. Epoch 221/350:  25%|\u001b[34m██▌       \u001b[0m| 15000/60000 [00:00<00:00, 99409.94img/s, loss (batch)=0.284]"
     ]
    },
    {
     "name": "stdout",
     "output_type": "stream",
     "text": [
      "[DRE] Best accuracy, saving the weights...\n",
      "\n",
      "Epoch: 220\n"
     ]
    },
    {
     "name": "stderr",
     "output_type": "stream",
     "text": [
      "[DRE] Training.. Epoch 221/350: 100%|\u001b[34m██████████\u001b[0m| 60000/60000 [00:00<00:00, 99503.44img/s, loss (batch)=0.297]\n",
      "[DRE] Training.. Epoch 222/350:  25%|\u001b[34m██▌       \u001b[0m| 15000/60000 [00:00<00:00, 97667.33img/s, loss (batch)=0.285]"
     ]
    },
    {
     "name": "stdout",
     "output_type": "stream",
     "text": [
      "\n",
      "Epoch: 221\n"
     ]
    },
    {
     "name": "stderr",
     "output_type": "stream",
     "text": [
      "[DRE] Training.. Epoch 222/350: 100%|\u001b[34m██████████\u001b[0m| 60000/60000 [00:00<00:00, 98313.26img/s, loss (batch)=0.287]\n",
      "[DRE] Training.. Epoch 223/350:  25%|\u001b[34m██▌       \u001b[0m| 15000/60000 [00:00<00:00, 95260.14img/s, loss (batch)=0.292]"
     ]
    },
    {
     "name": "stdout",
     "output_type": "stream",
     "text": [
      "\n",
      "Epoch: 222\n"
     ]
    },
    {
     "name": "stderr",
     "output_type": "stream",
     "text": [
      "[DRE] Training.. Epoch 223/350: 100%|\u001b[34m██████████\u001b[0m| 60000/60000 [00:00<00:00, 98485.24img/s, loss (batch)=0.304]\n",
      "[DRE] Training.. Epoch 224/350:  25%|\u001b[34m██▌       \u001b[0m| 15000/60000 [00:00<00:00, 95700.28img/s, loss (batch)=0.286]"
     ]
    },
    {
     "name": "stdout",
     "output_type": "stream",
     "text": [
      "\n",
      "Epoch: 223\n"
     ]
    },
    {
     "name": "stderr",
     "output_type": "stream",
     "text": [
      "[DRE] Training.. Epoch 224/350: 100%|\u001b[34m██████████\u001b[0m| 60000/60000 [00:00<00:00, 98376.32img/s, loss (batch)=0.301]\n",
      "[DRE] Training.. Epoch 225/350:  29%|\u001b[34m██▉       \u001b[0m| 17500/60000 [00:00<00:00, 104504.17img/s, loss (batch)=0.288]"
     ]
    },
    {
     "name": "stdout",
     "output_type": "stream",
     "text": [
      "\n",
      "Epoch: 224\n"
     ]
    },
    {
     "name": "stderr",
     "output_type": "stream",
     "text": [
      "[DRE] Training.. Epoch 225/350: 100%|\u001b[34m██████████\u001b[0m| 60000/60000 [00:00<00:00, 100962.63img/s, loss (batch)=0.301]\n",
      "[DRE] Training.. Epoch 226/350:  25%|\u001b[34m██▌       \u001b[0m| 15000/60000 [00:00<00:00, 97847.33img/s, loss (batch)=0.282]"
     ]
    },
    {
     "name": "stdout",
     "output_type": "stream",
     "text": [
      "\n",
      "Epoch: 225\n"
     ]
    },
    {
     "name": "stderr",
     "output_type": "stream",
     "text": [
      "[DRE] Training.. Epoch 226/350: 100%|\u001b[34m██████████\u001b[0m| 60000/60000 [00:00<00:00, 98673.06img/s, loss (batch)=0.291]\n",
      "[DRE] Training.. Epoch 227/350:  29%|\u001b[34m██▉       \u001b[0m| 17500/60000 [00:00<00:00, 99122.38img/s, loss (batch)=0.289]"
     ]
    },
    {
     "name": "stdout",
     "output_type": "stream",
     "text": [
      "\n",
      "Epoch: 226\n"
     ]
    },
    {
     "name": "stderr",
     "output_type": "stream",
     "text": [
      "[DRE] Training.. Epoch 227/350: 100%|\u001b[34m██████████\u001b[0m| 60000/60000 [00:00<00:00, 98692.02img/s, loss (batch)=0.291] \n",
      "[DRE] Training.. Epoch 228/350:  25%|\u001b[34m██▌       \u001b[0m| 15000/60000 [00:00<00:00, 93371.92img/s, loss (batch)=0.274]"
     ]
    },
    {
     "name": "stdout",
     "output_type": "stream",
     "text": [
      "\n",
      "Epoch: 227\n"
     ]
    },
    {
     "name": "stderr",
     "output_type": "stream",
     "text": [
      "[DRE] Training.. Epoch 228/350: 100%|\u001b[34m██████████\u001b[0m| 60000/60000 [00:00<00:00, 100213.90img/s, loss (batch)=0.291]\n",
      "[DRE] Training.. Epoch 229/350:  25%|\u001b[34m██▌       \u001b[0m| 15000/60000 [00:00<00:00, 101060.55img/s, loss (batch)=0.284]"
     ]
    },
    {
     "name": "stdout",
     "output_type": "stream",
     "text": [
      "\n",
      "Epoch: 228\n"
     ]
    },
    {
     "name": "stderr",
     "output_type": "stream",
     "text": [
      "[DRE] Training.. Epoch 229/350: 100%|\u001b[34m██████████\u001b[0m| 60000/60000 [00:00<00:00, 99183.71img/s, loss (batch)=0.287] \n",
      "[DRE] Training.. Epoch 230/350:  25%|\u001b[34m██▌       \u001b[0m| 15000/60000 [00:00<00:00, 97491.62img/s, loss (batch)=0.272]"
     ]
    },
    {
     "name": "stdout",
     "output_type": "stream",
     "text": [
      "\n",
      "Epoch: 229\n"
     ]
    },
    {
     "name": "stderr",
     "output_type": "stream",
     "text": [
      "[DRE] Training.. Epoch 230/350: 100%|\u001b[34m██████████\u001b[0m| 60000/60000 [00:00<00:00, 98264.04img/s, loss (batch)=0.285]\n",
      "[DRE] Validating.. Epoch 230/350: 100%|\u001b[32m██████████\u001b[0m| 60000/60000 [00:00<00:00, 140204.50img/s, loss (batch)=tensor(0.3089, device='cuda:0', dtype=torch.float64)]\n",
      "[DRE] Training.. Epoch 231/350:  29%|\u001b[34m██▉       \u001b[0m| 17500/60000 [00:00<00:00, 101962.68img/s, loss (batch)=0.281]"
     ]
    },
    {
     "name": "stdout",
     "output_type": "stream",
     "text": [
      "[DRE] Best accuracy, saving the weights...\n",
      "\n",
      "Epoch: 230\n"
     ]
    },
    {
     "name": "stderr",
     "output_type": "stream",
     "text": [
      "[DRE] Training.. Epoch 231/350: 100%|\u001b[34m██████████\u001b[0m| 60000/60000 [00:00<00:00, 98705.38img/s, loss (batch)=0.289] \n",
      "[DRE] Training.. Epoch 232/350:  25%|\u001b[34m██▌       \u001b[0m| 15000/60000 [00:00<00:00, 99914.10img/s, loss (batch)=0.266]"
     ]
    },
    {
     "name": "stdout",
     "output_type": "stream",
     "text": [
      "\n",
      "Epoch: 231\n"
     ]
    },
    {
     "name": "stderr",
     "output_type": "stream",
     "text": [
      "[DRE] Training.. Epoch 232/350: 100%|\u001b[34m██████████\u001b[0m| 60000/60000 [00:00<00:00, 97141.83img/s, loss (batch)=0.283]\n",
      "[DRE] Training.. Epoch 233/350:  25%|\u001b[34m██▌       \u001b[0m| 15000/60000 [00:00<00:00, 98290.79img/s, loss (batch)=0.263]"
     ]
    },
    {
     "name": "stdout",
     "output_type": "stream",
     "text": [
      "\n",
      "Epoch: 232\n"
     ]
    },
    {
     "name": "stderr",
     "output_type": "stream",
     "text": [
      "[DRE] Training.. Epoch 233/350: 100%|\u001b[34m██████████\u001b[0m| 60000/60000 [00:00<00:00, 98449.21img/s, loss (batch)=0.282]\n",
      "[DRE] Training.. Epoch 234/350:  25%|\u001b[34m██▌       \u001b[0m| 15000/60000 [00:00<00:00, 98144.06img/s, loss (batch)=0.262]"
     ]
    },
    {
     "name": "stdout",
     "output_type": "stream",
     "text": [
      "\n",
      "Epoch: 233\n"
     ]
    },
    {
     "name": "stderr",
     "output_type": "stream",
     "text": [
      "[DRE] Training.. Epoch 234/350: 100%|\u001b[34m██████████\u001b[0m| 60000/60000 [00:00<00:00, 99890.58img/s, loss (batch)=0.279] \n",
      "[DRE] Training.. Epoch 235/350:  29%|\u001b[34m██▉       \u001b[0m| 17500/60000 [00:00<00:00, 101033.87img/s, loss (batch)=0.273]"
     ]
    },
    {
     "name": "stdout",
     "output_type": "stream",
     "text": [
      "\n",
      "Epoch: 234\n"
     ]
    },
    {
     "name": "stderr",
     "output_type": "stream",
     "text": [
      "[DRE] Training.. Epoch 235/350: 100%|\u001b[34m██████████\u001b[0m| 60000/60000 [00:00<00:00, 98558.75img/s, loss (batch)=0.282] \n",
      "[DRE] Training.. Epoch 236/350:  25%|\u001b[34m██▌       \u001b[0m| 15000/60000 [00:00<00:00, 100892.14img/s, loss (batch)=0.267]"
     ]
    },
    {
     "name": "stdout",
     "output_type": "stream",
     "text": [
      "\n",
      "Epoch: 235\n"
     ]
    },
    {
     "name": "stderr",
     "output_type": "stream",
     "text": [
      "[DRE] Training.. Epoch 236/350: 100%|\u001b[34m██████████\u001b[0m| 60000/60000 [00:00<00:00, 98312.30img/s, loss (batch)=0.284] \n",
      "[DRE] Training.. Epoch 237/350:  25%|\u001b[34m██▌       \u001b[0m| 15000/60000 [00:00<00:00, 94275.84img/s, loss (batch)=0.274]"
     ]
    },
    {
     "name": "stdout",
     "output_type": "stream",
     "text": [
      "\n",
      "Epoch: 236\n"
     ]
    },
    {
     "name": "stderr",
     "output_type": "stream",
     "text": [
      "[DRE] Training.. Epoch 237/350: 100%|\u001b[34m██████████\u001b[0m| 60000/60000 [00:00<00:00, 99858.56img/s, loss (batch)=0.28]  \n",
      "[DRE] Training.. Epoch 238/350:  25%|\u001b[34m██▌       \u001b[0m| 15000/60000 [00:00<00:00, 94429.09img/s, loss (batch)=0.273]"
     ]
    },
    {
     "name": "stdout",
     "output_type": "stream",
     "text": [
      "\n",
      "Epoch: 237\n"
     ]
    },
    {
     "name": "stderr",
     "output_type": "stream",
     "text": [
      "[DRE] Training.. Epoch 238/350: 100%|\u001b[34m██████████\u001b[0m| 60000/60000 [00:00<00:00, 97414.26img/s, loss (batch)=0.281]\n",
      "[DRE] Training.. Epoch 239/350:  25%|\u001b[34m██▌       \u001b[0m| 15000/60000 [00:00<00:00, 96789.47img/s, loss (batch)=0.27] "
     ]
    },
    {
     "name": "stdout",
     "output_type": "stream",
     "text": [
      "\n",
      "Epoch: 238\n"
     ]
    },
    {
     "name": "stderr",
     "output_type": "stream",
     "text": [
      "[DRE] Training.. Epoch 239/350: 100%|\u001b[34m██████████\u001b[0m| 60000/60000 [00:00<00:00, 98125.88img/s, loss (batch)=0.273]\n",
      "[DRE] Training.. Epoch 240/350:  25%|\u001b[34m██▌       \u001b[0m| 15000/60000 [00:00<00:00, 95551.16img/s, loss (batch)=0.267]"
     ]
    },
    {
     "name": "stdout",
     "output_type": "stream",
     "text": [
      "\n",
      "Epoch: 239\n"
     ]
    },
    {
     "name": "stderr",
     "output_type": "stream",
     "text": [
      "[DRE] Training.. Epoch 240/350: 100%|\u001b[34m██████████\u001b[0m| 60000/60000 [00:00<00:00, 99612.42img/s, loss (batch)=0.273] \n",
      "[DRE] Validating.. Epoch 240/350: 100%|\u001b[32m██████████\u001b[0m| 60000/60000 [00:00<00:00, 141340.85img/s, loss (batch)=tensor(0.2987, device='cuda:0', dtype=torch.float64)]\n",
      "[DRE] Training.. Epoch 241/350:  29%|\u001b[34m██▉       \u001b[0m| 17500/60000 [00:00<00:00, 98579.10img/s, loss (batch)=0.276]"
     ]
    },
    {
     "name": "stdout",
     "output_type": "stream",
     "text": [
      "[DRE] Best accuracy, saving the weights...\n",
      "\n",
      "Epoch: 240\n"
     ]
    },
    {
     "name": "stderr",
     "output_type": "stream",
     "text": [
      "[DRE] Training.. Epoch 241/350: 100%|\u001b[34m██████████\u001b[0m| 60000/60000 [00:00<00:00, 99468.28img/s, loss (batch)=0.277]\n",
      "[DRE] Training.. Epoch 242/350:  25%|\u001b[34m██▌       \u001b[0m| 15000/60000 [00:00<00:00, 96525.07img/s, loss (batch)=0.262]"
     ]
    },
    {
     "name": "stdout",
     "output_type": "stream",
     "text": [
      "\n",
      "Epoch: 241\n"
     ]
    },
    {
     "name": "stderr",
     "output_type": "stream",
     "text": [
      "[DRE] Training.. Epoch 242/350: 100%|\u001b[34m██████████\u001b[0m| 60000/60000 [00:00<00:00, 98241.56img/s, loss (batch)=0.277]\n",
      "[DRE] Training.. Epoch 243/350:  25%|\u001b[34m██▌       \u001b[0m| 15000/60000 [00:00<00:00, 98185.87img/s, loss (batch)=0.26] "
     ]
    },
    {
     "name": "stdout",
     "output_type": "stream",
     "text": [
      "\n",
      "Epoch: 242\n"
     ]
    },
    {
     "name": "stderr",
     "output_type": "stream",
     "text": [
      "[DRE] Training.. Epoch 243/350: 100%|\u001b[34m██████████\u001b[0m| 60000/60000 [00:00<00:00, 100245.75img/s, loss (batch)=0.274]\n",
      "[DRE] Training.. Epoch 244/350:  25%|\u001b[34m██▌       \u001b[0m| 15000/60000 [00:00<00:00, 96937.11img/s, loss (batch)=0.258]"
     ]
    },
    {
     "name": "stdout",
     "output_type": "stream",
     "text": [
      "\n",
      "Epoch: 243\n"
     ]
    },
    {
     "name": "stderr",
     "output_type": "stream",
     "text": [
      "[DRE] Training.. Epoch 244/350: 100%|\u001b[34m██████████\u001b[0m| 60000/60000 [00:00<00:00, 97975.09img/s, loss (batch)=0.271]\n",
      "[DRE] Training.. Epoch 245/350:  25%|\u001b[34m██▌       \u001b[0m| 15000/60000 [00:00<00:00, 99776.96img/s, loss (batch)=0.262]"
     ]
    },
    {
     "name": "stdout",
     "output_type": "stream",
     "text": [
      "\n",
      "Epoch: 244\n"
     ]
    },
    {
     "name": "stderr",
     "output_type": "stream",
     "text": [
      "[DRE] Training.. Epoch 245/350: 100%|\u001b[34m██████████\u001b[0m| 60000/60000 [00:00<00:00, 98214.38img/s, loss (batch)=0.27] \n",
      "[DRE] Training.. Epoch 246/350:  25%|\u001b[34m██▌       \u001b[0m| 15000/60000 [00:00<00:00, 97445.64img/s, loss (batch)=0.259]"
     ]
    },
    {
     "name": "stdout",
     "output_type": "stream",
     "text": [
      "\n",
      "Epoch: 245\n"
     ]
    },
    {
     "name": "stderr",
     "output_type": "stream",
     "text": [
      "[DRE] Training.. Epoch 246/350: 100%|\u001b[34m██████████\u001b[0m| 60000/60000 [00:00<00:00, 98176.37img/s, loss (batch)=0.268]\n",
      "[DRE] Training.. Epoch 247/350:  25%|\u001b[34m██▌       \u001b[0m| 15000/60000 [00:00<00:00, 99425.39img/s, loss (batch)=0.26] "
     ]
    },
    {
     "name": "stdout",
     "output_type": "stream",
     "text": [
      "\n",
      "Epoch: 246\n"
     ]
    },
    {
     "name": "stderr",
     "output_type": "stream",
     "text": [
      "[DRE] Training.. Epoch 247/350: 100%|\u001b[34m██████████\u001b[0m| 60000/60000 [00:00<00:00, 98442.63img/s, loss (batch)=0.27] \n",
      "[DRE] Training.. Epoch 248/350:  25%|\u001b[34m██▌       \u001b[0m| 15000/60000 [00:00<00:00, 99515.98img/s, loss (batch)=0.259]"
     ]
    },
    {
     "name": "stdout",
     "output_type": "stream",
     "text": [
      "\n",
      "Epoch: 247\n"
     ]
    },
    {
     "name": "stderr",
     "output_type": "stream",
     "text": [
      "[DRE] Training.. Epoch 248/350: 100%|\u001b[34m██████████\u001b[0m| 60000/60000 [00:00<00:00, 98810.60img/s, loss (batch)=0.273]\n",
      "[DRE] Training.. Epoch 249/350:  25%|\u001b[34m██▌       \u001b[0m| 15000/60000 [00:00<00:00, 99075.32img/s, loss (batch)=0.259]"
     ]
    },
    {
     "name": "stdout",
     "output_type": "stream",
     "text": [
      "\n",
      "Epoch: 248\n"
     ]
    },
    {
     "name": "stderr",
     "output_type": "stream",
     "text": [
      "[DRE] Training.. Epoch 249/350: 100%|\u001b[34m██████████\u001b[0m| 60000/60000 [00:00<00:00, 98575.93img/s, loss (batch)=0.27] \n",
      "[DRE] Training.. Epoch 250/350:  29%|\u001b[34m██▉       \u001b[0m| 17500/60000 [00:00<00:00, 100600.97img/s, loss (batch)=0.268]"
     ]
    },
    {
     "name": "stdout",
     "output_type": "stream",
     "text": [
      "\n",
      "Epoch: 249\n"
     ]
    },
    {
     "name": "stderr",
     "output_type": "stream",
     "text": [
      "[DRE] Training.. Epoch 250/350: 100%|\u001b[34m██████████\u001b[0m| 60000/60000 [00:00<00:00, 99503.01img/s, loss (batch)=0.27]  \n",
      "[DRE] Validating.. Epoch 250/350: 100%|\u001b[32m██████████\u001b[0m| 60000/60000 [00:00<00:00, 140943.00img/s, loss (batch)=tensor(0.2958, device='cuda:0', dtype=torch.float64)]\n"
     ]
    },
    {
     "name": "stdout",
     "output_type": "stream",
     "text": [
      "[DRE] Best accuracy, saving the weights...\n",
      "building P matrix...\n",
      "[DRE] recursive step 3 data shape:  (2500, 100)\n",
      "[DRE] P length:  1\n",
      "[DRE] recursive step 3 data shape:  (2500, 100)\n",
      "[DRE] P length:  2\n",
      "[DRE] recursive step 3 data shape:  (2500, 100)\n",
      "[DRE] P length:  3\n",
      "[DRE] recursive step 3 data shape:  (2500, 100)\n",
      "[DRE] P length:  4\n",
      "[DRE] recursive step 3 data shape:  (2500, 100)\n",
      "[DRE] P length:  5\n",
      "[DRE] recursive step 3 data shape:  (2500, 100)\n",
      "[DRE] P length:  6\n",
      "[DRE] recursive step 3 data shape:  (2500, 100)\n",
      "[DRE] P length:  7\n",
      "[DRE] recursive step 3 data shape:  (2500, 100)\n",
      "[DRE] P length:  8\n",
      "[DRE] recursive step 3 data shape:  (2500, 100)\n",
      "[DRE] P length:  9\n",
      "[DRE] recursive step 3 data shape:  (2500, 100)\n",
      "[DRE] P length:  10\n",
      "[DRE] recursive step 3 data shape:  (2500, 100)\n",
      "[DRE] P length:  11\n",
      "[DRE] recursive step 3 data shape:  (2500, 100)\n",
      "[DRE] P length:  12\n",
      "[DRE] recursive step 3 data shape:  (2500, 100)\n",
      "[DRE] P length:  13\n",
      "[DRE] recursive step 3 data shape:  (2500, 100)\n",
      "[DRE] P length:  14\n",
      "[DRE] recursive step 3 data shape:  (2500, 100)\n",
      "[DRE] P length:  15\n",
      "[DRE] recursive step 3 data shape:  (2500, 100)\n",
      "[DRE] P length:  16\n",
      "[DRE] recursive step 3 data shape:  (2500, 100)\n",
      "[DRE] P length:  17\n",
      "[DRE] recursive step 3 data shape:  (2500, 100)\n",
      "[DRE] P length:  18\n",
      "[DRE] recursive step 3 data shape:  (2500, 100)\n",
      "[DRE] P length:  19\n",
      "[DRE] recursive step 3 data shape:  (2500, 100)\n",
      "[DRE] P length:  20\n",
      "[DRE] recursive step 3 data shape:  (2500, 100)\n",
      "[DRE] P length:  21\n",
      "[DRE] recursive step 3 data shape:  (2500, 100)\n",
      "[DRE] P length:  22\n",
      "[DRE] recursive step 3 data shape:  (2500, 100)\n",
      "[DRE] P length:  23\n",
      "[DRE] recursive step 3 data shape:  (2500, 100)\n"
     ]
    },
    {
     "name": "stderr",
     "output_type": "stream",
     "text": [
      "[DRE] Training.. Epoch 251/350:  25%|\u001b[34m██▌       \u001b[0m| 15000/60000 [00:00<00:00, 88929.45img/s, loss (batch)=1.71]"
     ]
    },
    {
     "name": "stdout",
     "output_type": "stream",
     "text": [
      "[DRE] P length:  24\n",
      "\n",
      "Epoch: 250\n"
     ]
    },
    {
     "name": "stderr",
     "output_type": "stream",
     "text": [
      "[DRE] Training.. Epoch 251/350: 100%|\u001b[34m██████████\u001b[0m| 60000/60000 [00:00<00:00, 87458.13img/s, loss (batch)=1.65]\n",
      "[DRE] Training.. Epoch 252/350:  21%|\u001b[34m██        \u001b[0m| 12500/60000 [00:00<00:00, 86974.73img/s, loss (batch)=1.57]"
     ]
    },
    {
     "name": "stdout",
     "output_type": "stream",
     "text": [
      "\n",
      "Epoch: 251\n"
     ]
    },
    {
     "name": "stderr",
     "output_type": "stream",
     "text": [
      "[DRE] Training.. Epoch 252/350: 100%|\u001b[34m██████████\u001b[0m| 60000/60000 [00:00<00:00, 86432.50img/s, loss (batch)=1.62]\n",
      "[DRE] Training.. Epoch 253/350:  21%|\u001b[34m██        \u001b[0m| 12500/60000 [00:00<00:00, 88736.79img/s, loss (batch)=1.54]"
     ]
    },
    {
     "name": "stdout",
     "output_type": "stream",
     "text": [
      "\n",
      "Epoch: 252\n"
     ]
    },
    {
     "name": "stderr",
     "output_type": "stream",
     "text": [
      "[DRE] Training.. Epoch 253/350: 100%|\u001b[34m██████████\u001b[0m| 60000/60000 [00:00<00:00, 86942.21img/s, loss (batch)=1.58]\n",
      "[DRE] Training.. Epoch 254/350:  25%|\u001b[34m██▌       \u001b[0m| 15000/60000 [00:00<00:00, 92721.31img/s, loss (batch)=1.56]"
     ]
    },
    {
     "name": "stdout",
     "output_type": "stream",
     "text": [
      "\n",
      "Epoch: 253\n"
     ]
    },
    {
     "name": "stderr",
     "output_type": "stream",
     "text": [
      "[DRE] Training.. Epoch 254/350: 100%|\u001b[34m██████████\u001b[0m| 60000/60000 [00:00<00:00, 88678.07img/s, loss (batch)=1.56]\n",
      "[DRE] Training.. Epoch 255/350:  21%|\u001b[34m██        \u001b[0m| 12500/60000 [00:00<00:00, 84524.07img/s, loss (batch)=1.5] "
     ]
    },
    {
     "name": "stdout",
     "output_type": "stream",
     "text": [
      "\n",
      "Epoch: 254\n"
     ]
    },
    {
     "name": "stderr",
     "output_type": "stream",
     "text": [
      "[DRE] Training.. Epoch 255/350: 100%|\u001b[34m██████████\u001b[0m| 60000/60000 [00:00<00:00, 86754.77img/s, loss (batch)=1.56]\n",
      "[DRE] Training.. Epoch 256/350:  25%|\u001b[34m██▌       \u001b[0m| 15000/60000 [00:00<00:00, 87142.96img/s, loss (batch)=1.51]"
     ]
    },
    {
     "name": "stdout",
     "output_type": "stream",
     "text": [
      "\n",
      "Epoch: 255\n"
     ]
    },
    {
     "name": "stderr",
     "output_type": "stream",
     "text": [
      "[DRE] Training.. Epoch 256/350: 100%|\u001b[34m██████████\u001b[0m| 60000/60000 [00:00<00:00, 87505.03img/s, loss (batch)=1.55]\n",
      "[DRE] Training.. Epoch 257/350:  25%|\u001b[34m██▌       \u001b[0m| 15000/60000 [00:00<00:00, 91033.68img/s, loss (batch)=1.51]"
     ]
    },
    {
     "name": "stdout",
     "output_type": "stream",
     "text": [
      "\n",
      "Epoch: 256\n"
     ]
    },
    {
     "name": "stderr",
     "output_type": "stream",
     "text": [
      "[DRE] Training.. Epoch 257/350: 100%|\u001b[34m██████████\u001b[0m| 60000/60000 [00:00<00:00, 87182.60img/s, loss (batch)=1.54]\n",
      "[DRE] Training.. Epoch 258/350:  25%|\u001b[34m██▌       \u001b[0m| 15000/60000 [00:00<00:00, 87901.05img/s, loss (batch)=1.49]"
     ]
    },
    {
     "name": "stdout",
     "output_type": "stream",
     "text": [
      "\n",
      "Epoch: 257\n"
     ]
    },
    {
     "name": "stderr",
     "output_type": "stream",
     "text": [
      "[DRE] Training.. Epoch 258/350: 100%|\u001b[34m██████████\u001b[0m| 60000/60000 [00:00<00:00, 86830.68img/s, loss (batch)=1.55]\n",
      "[DRE] Training.. Epoch 259/350:  25%|\u001b[34m██▌       \u001b[0m| 15000/60000 [00:00<00:00, 87036.81img/s, loss (batch)=1.49]"
     ]
    },
    {
     "name": "stdout",
     "output_type": "stream",
     "text": [
      "\n",
      "Epoch: 258\n"
     ]
    },
    {
     "name": "stderr",
     "output_type": "stream",
     "text": [
      "[DRE] Training.. Epoch 259/350: 100%|\u001b[34m██████████\u001b[0m| 60000/60000 [00:00<00:00, 87224.87img/s, loss (batch)=1.52]\n",
      "[DRE] Training.. Epoch 260/350:  25%|\u001b[34m██▌       \u001b[0m| 15000/60000 [00:00<00:00, 90009.81img/s, loss (batch)=1.47]"
     ]
    },
    {
     "name": "stdout",
     "output_type": "stream",
     "text": [
      "\n",
      "Epoch: 259\n"
     ]
    },
    {
     "name": "stderr",
     "output_type": "stream",
     "text": [
      "[DRE] Training.. Epoch 260/350: 100%|\u001b[34m██████████\u001b[0m| 60000/60000 [00:00<00:00, 87613.11img/s, loss (batch)=1.5] \n",
      "[DRE] Validating.. Epoch 260/350: 100%|\u001b[32m██████████\u001b[0m| 60000/60000 [00:00<00:00, 125918.59img/s, loss (batch)=tensor(1.4928, device='cuda:0', dtype=torch.float64)]\n",
      "[DRE] Training.. Epoch 261/350:  21%|\u001b[34m██        \u001b[0m| 12500/60000 [00:00<00:00, 88698.13img/s, loss (batch)=1.42]"
     ]
    },
    {
     "name": "stdout",
     "output_type": "stream",
     "text": [
      "[DRE] Best accuracy, saving the weights...\n",
      "\n",
      "Epoch: 260\n"
     ]
    },
    {
     "name": "stderr",
     "output_type": "stream",
     "text": [
      "[DRE] Training.. Epoch 261/350: 100%|\u001b[34m██████████\u001b[0m| 60000/60000 [00:00<00:00, 87562.45img/s, loss (batch)=1.49]\n",
      "[DRE] Training.. Epoch 262/350:  25%|\u001b[34m██▌       \u001b[0m| 15000/60000 [00:00<00:00, 87602.35img/s, loss (batch)=1.45]"
     ]
    },
    {
     "name": "stdout",
     "output_type": "stream",
     "text": [
      "\n",
      "Epoch: 261\n"
     ]
    },
    {
     "name": "stderr",
     "output_type": "stream",
     "text": [
      "[DRE] Training.. Epoch 262/350: 100%|\u001b[34m██████████\u001b[0m| 60000/60000 [00:00<00:00, 88360.26img/s, loss (batch)=1.49]\n",
      "[DRE] Training.. Epoch 263/350:  25%|\u001b[34m██▌       \u001b[0m| 15000/60000 [00:00<00:00, 88667.75img/s, loss (batch)=1.45]"
     ]
    },
    {
     "name": "stdout",
     "output_type": "stream",
     "text": [
      "\n",
      "Epoch: 262\n"
     ]
    },
    {
     "name": "stderr",
     "output_type": "stream",
     "text": [
      "[DRE] Training.. Epoch 263/350: 100%|\u001b[34m██████████\u001b[0m| 60000/60000 [00:00<00:00, 86838.32img/s, loss (batch)=1.49]\n",
      "[DRE] Training.. Epoch 264/350:  21%|\u001b[34m██        \u001b[0m| 12500/60000 [00:00<00:00, 87070.78img/s, loss (batch)=1.4] "
     ]
    },
    {
     "name": "stdout",
     "output_type": "stream",
     "text": [
      "\n",
      "Epoch: 263\n"
     ]
    },
    {
     "name": "stderr",
     "output_type": "stream",
     "text": [
      "[DRE] Training.. Epoch 264/350: 100%|\u001b[34m██████████\u001b[0m| 60000/60000 [00:00<00:00, 86938.64img/s, loss (batch)=1.49]\n",
      "[DRE] Training.. Epoch 265/350:  25%|\u001b[34m██▌       \u001b[0m| 15000/60000 [00:00<00:00, 91994.27img/s, loss (batch)=1.45]"
     ]
    },
    {
     "name": "stdout",
     "output_type": "stream",
     "text": [
      "\n",
      "Epoch: 264\n"
     ]
    },
    {
     "name": "stderr",
     "output_type": "stream",
     "text": [
      "[DRE] Training.. Epoch 265/350: 100%|\u001b[34m██████████\u001b[0m| 60000/60000 [00:00<00:00, 87923.44img/s, loss (batch)=1.49]\n",
      "[DRE] Training.. Epoch 266/350:  25%|\u001b[34m██▌       \u001b[0m| 15000/60000 [00:00<00:00, 87764.76img/s, loss (batch)=1.43]"
     ]
    },
    {
     "name": "stdout",
     "output_type": "stream",
     "text": [
      "\n",
      "Epoch: 265\n"
     ]
    },
    {
     "name": "stderr",
     "output_type": "stream",
     "text": [
      "[DRE] Training.. Epoch 266/350: 100%|\u001b[34m██████████\u001b[0m| 60000/60000 [00:00<00:00, 87319.45img/s, loss (batch)=1.47]\n",
      "[DRE] Training.. Epoch 267/350:  21%|\u001b[34m██        \u001b[0m| 12500/60000 [00:00<00:00, 84581.68img/s, loss (batch)=1.4] "
     ]
    },
    {
     "name": "stdout",
     "output_type": "stream",
     "text": [
      "\n",
      "Epoch: 266\n"
     ]
    },
    {
     "name": "stderr",
     "output_type": "stream",
     "text": [
      "[DRE] Training.. Epoch 267/350: 100%|\u001b[34m██████████\u001b[0m| 60000/60000 [00:00<00:00, 87592.47img/s, loss (batch)=1.47]\n",
      "[DRE] Training.. Epoch 268/350:  25%|\u001b[34m██▌       \u001b[0m| 15000/60000 [00:00<00:00, 89101.17img/s, loss (batch)=1.43]"
     ]
    },
    {
     "name": "stdout",
     "output_type": "stream",
     "text": [
      "\n",
      "Epoch: 267\n"
     ]
    },
    {
     "name": "stderr",
     "output_type": "stream",
     "text": [
      "[DRE] Training.. Epoch 268/350: 100%|\u001b[34m██████████\u001b[0m| 60000/60000 [00:00<00:00, 86961.95img/s, loss (batch)=1.47]\n",
      "[DRE] Training.. Epoch 269/350:  21%|\u001b[34m██        \u001b[0m| 12500/60000 [00:00<00:00, 86377.02img/s, loss (batch)=1.39]"
     ]
    },
    {
     "name": "stdout",
     "output_type": "stream",
     "text": [
      "\n",
      "Epoch: 268\n"
     ]
    },
    {
     "name": "stderr",
     "output_type": "stream",
     "text": [
      "[DRE] Training.. Epoch 269/350: 100%|\u001b[34m██████████\u001b[0m| 60000/60000 [00:00<00:00, 87022.31img/s, loss (batch)=1.45]\n",
      "[DRE] Training.. Epoch 270/350:  25%|\u001b[34m██▌       \u001b[0m| 15000/60000 [00:00<00:00, 88324.57img/s, loss (batch)=1.42]"
     ]
    },
    {
     "name": "stdout",
     "output_type": "stream",
     "text": [
      "\n",
      "Epoch: 269\n"
     ]
    },
    {
     "name": "stderr",
     "output_type": "stream",
     "text": [
      "[DRE] Training.. Epoch 270/350: 100%|\u001b[34m██████████\u001b[0m| 60000/60000 [00:00<00:00, 88655.42img/s, loss (batch)=1.45]\n",
      "[DRE] Validating.. Epoch 270/350: 100%|\u001b[32m██████████\u001b[0m| 60000/60000 [00:00<00:00, 127269.88img/s, loss (batch)=tensor(1.4299, device='cuda:0', dtype=torch.float64)]\n",
      "[DRE] Training.. Epoch 271/350:  21%|\u001b[34m██        \u001b[0m| 12500/60000 [00:00<00:00, 86484.77img/s, loss (batch)=1.37]"
     ]
    },
    {
     "name": "stdout",
     "output_type": "stream",
     "text": [
      "[DRE] Best accuracy, saving the weights...\n",
      "\n",
      "Epoch: 270\n"
     ]
    },
    {
     "name": "stderr",
     "output_type": "stream",
     "text": [
      "[DRE] Training.. Epoch 271/350: 100%|\u001b[34m██████████\u001b[0m| 60000/60000 [00:00<00:00, 87095.13img/s, loss (batch)=1.46]\n",
      "[DRE] Training.. Epoch 272/350:  21%|\u001b[34m██        \u001b[0m| 12500/60000 [00:00<00:00, 86202.87img/s, loss (batch)=1.38]"
     ]
    },
    {
     "name": "stdout",
     "output_type": "stream",
     "text": [
      "\n",
      "Epoch: 271\n"
     ]
    },
    {
     "name": "stderr",
     "output_type": "stream",
     "text": [
      "[DRE] Training.. Epoch 272/350: 100%|\u001b[34m██████████\u001b[0m| 60000/60000 [00:00<00:00, 85338.80img/s, loss (batch)=1.45]\n",
      "[DRE] Training.. Epoch 273/350:  25%|\u001b[34m██▌       \u001b[0m| 15000/60000 [00:00<00:00, 92582.34img/s, loss (batch)=1.4] "
     ]
    },
    {
     "name": "stdout",
     "output_type": "stream",
     "text": [
      "\n",
      "Epoch: 272\n"
     ]
    },
    {
     "name": "stderr",
     "output_type": "stream",
     "text": [
      "[DRE] Training.. Epoch 273/350: 100%|\u001b[34m██████████\u001b[0m| 60000/60000 [00:00<00:00, 89400.61img/s, loss (batch)=1.44]\n",
      "[DRE] Training.. Epoch 274/350:  25%|\u001b[34m██▌       \u001b[0m| 15000/60000 [00:00<00:00, 88715.95img/s, loss (batch)=1.41]"
     ]
    },
    {
     "name": "stdout",
     "output_type": "stream",
     "text": [
      "\n",
      "Epoch: 273\n"
     ]
    },
    {
     "name": "stderr",
     "output_type": "stream",
     "text": [
      "[DRE] Training.. Epoch 274/350: 100%|\u001b[34m██████████\u001b[0m| 60000/60000 [00:00<00:00, 87657.39img/s, loss (batch)=1.44]\n",
      "[DRE] Training.. Epoch 275/350:  21%|\u001b[34m██        \u001b[0m| 12500/60000 [00:00<00:00, 87459.87img/s, loss (batch)=1.38]"
     ]
    },
    {
     "name": "stdout",
     "output_type": "stream",
     "text": [
      "\n",
      "Epoch: 274\n"
     ]
    },
    {
     "name": "stderr",
     "output_type": "stream",
     "text": [
      "[DRE] Training.. Epoch 275/350: 100%|\u001b[34m██████████\u001b[0m| 60000/60000 [00:00<00:00, 86918.31img/s, loss (batch)=1.44]\n",
      "[DRE] Training.. Epoch 276/350:  25%|\u001b[34m██▌       \u001b[0m| 15000/60000 [00:00<00:00, 89837.07img/s, loss (batch)=1.39]"
     ]
    },
    {
     "name": "stdout",
     "output_type": "stream",
     "text": [
      "\n",
      "Epoch: 275\n"
     ]
    },
    {
     "name": "stderr",
     "output_type": "stream",
     "text": [
      "[DRE] Training.. Epoch 276/350: 100%|\u001b[34m██████████\u001b[0m| 60000/60000 [00:00<00:00, 88229.41img/s, loss (batch)=1.43]\n",
      "[DRE] Training.. Epoch 277/350:  25%|\u001b[34m██▌       \u001b[0m| 15000/60000 [00:00<00:00, 88276.05img/s, loss (batch)=1.38]"
     ]
    },
    {
     "name": "stdout",
     "output_type": "stream",
     "text": [
      "\n",
      "Epoch: 276\n"
     ]
    },
    {
     "name": "stderr",
     "output_type": "stream",
     "text": [
      "[DRE] Training.. Epoch 277/350: 100%|\u001b[34m██████████\u001b[0m| 60000/60000 [00:00<00:00, 87340.30img/s, loss (batch)=1.42]\n",
      "[DRE] Training.. Epoch 278/350:  25%|\u001b[34m██▌       \u001b[0m| 15000/60000 [00:00<00:00, 87359.31img/s, loss (batch)=1.38]"
     ]
    },
    {
     "name": "stdout",
     "output_type": "stream",
     "text": [
      "\n",
      "Epoch: 277\n"
     ]
    },
    {
     "name": "stderr",
     "output_type": "stream",
     "text": [
      "[DRE] Training.. Epoch 278/350: 100%|\u001b[34m██████████\u001b[0m| 60000/60000 [00:00<00:00, 88005.13img/s, loss (batch)=1.42]\n",
      "[DRE] Training.. Epoch 279/350:  25%|\u001b[34m██▌       \u001b[0m| 15000/60000 [00:00<00:00, 89982.19img/s, loss (batch)=1.38]"
     ]
    },
    {
     "name": "stdout",
     "output_type": "stream",
     "text": [
      "\n",
      "Epoch: 278\n"
     ]
    },
    {
     "name": "stderr",
     "output_type": "stream",
     "text": [
      "[DRE] Training.. Epoch 279/350: 100%|\u001b[34m██████████\u001b[0m| 60000/60000 [00:00<00:00, 87556.57img/s, loss (batch)=1.42]\n",
      "[DRE] Training.. Epoch 280/350:  25%|\u001b[34m██▌       \u001b[0m| 15000/60000 [00:00<00:00, 88059.21img/s, loss (batch)=1.38]"
     ]
    },
    {
     "name": "stdout",
     "output_type": "stream",
     "text": [
      "\n",
      "Epoch: 279\n"
     ]
    },
    {
     "name": "stderr",
     "output_type": "stream",
     "text": [
      "[DRE] Training.. Epoch 280/350: 100%|\u001b[34m██████████\u001b[0m| 60000/60000 [00:00<00:00, 86831.97img/s, loss (batch)=1.42]\n",
      "[DRE] Validating.. Epoch 280/350: 100%|\u001b[32m██████████\u001b[0m| 60000/60000 [00:00<00:00, 127126.96img/s, loss (batch)=tensor(1.4059, device='cuda:0', dtype=torch.float64)]\n",
      "[DRE] Training.. Epoch 281/350:  25%|\u001b[34m██▌       \u001b[0m| 15000/60000 [00:00<00:00, 90496.49img/s, loss (batch)=1.39]"
     ]
    },
    {
     "name": "stdout",
     "output_type": "stream",
     "text": [
      "[DRE] Best accuracy, saving the weights...\n",
      "\n",
      "Epoch: 280\n"
     ]
    },
    {
     "name": "stderr",
     "output_type": "stream",
     "text": [
      "[DRE] Training.. Epoch 281/350: 100%|\u001b[34m██████████\u001b[0m| 60000/60000 [00:00<00:00, 89108.81img/s, loss (batch)=1.41]\n",
      "[DRE] Training.. Epoch 282/350:  21%|\u001b[34m██        \u001b[0m| 12500/60000 [00:00<00:00, 86458.03img/s, loss (batch)=1.34]"
     ]
    },
    {
     "name": "stdout",
     "output_type": "stream",
     "text": [
      "\n",
      "Epoch: 281\n"
     ]
    },
    {
     "name": "stderr",
     "output_type": "stream",
     "text": [
      "[DRE] Training.. Epoch 282/350: 100%|\u001b[34m██████████\u001b[0m| 60000/60000 [00:00<00:00, 86073.05img/s, loss (batch)=1.42]\n",
      "[DRE] Training.. Epoch 283/350:  21%|\u001b[34m██        \u001b[0m| 12500/60000 [00:00<00:00, 86050.07img/s, loss (batch)=1.34]"
     ]
    },
    {
     "name": "stdout",
     "output_type": "stream",
     "text": [
      "\n",
      "Epoch: 282\n"
     ]
    },
    {
     "name": "stderr",
     "output_type": "stream",
     "text": [
      "[DRE] Training.. Epoch 283/350: 100%|\u001b[34m██████████\u001b[0m| 60000/60000 [00:00<00:00, 86454.74img/s, loss (batch)=1.42]\n",
      "[DRE] Training.. Epoch 284/350:  21%|\u001b[34m██        \u001b[0m| 12500/60000 [00:00<00:00, 84509.76img/s, loss (batch)=1.34]"
     ]
    },
    {
     "name": "stdout",
     "output_type": "stream",
     "text": [
      "\n",
      "Epoch: 283\n"
     ]
    },
    {
     "name": "stderr",
     "output_type": "stream",
     "text": [
      "[DRE] Training.. Epoch 284/350: 100%|\u001b[34m██████████\u001b[0m| 60000/60000 [00:00<00:00, 87222.76img/s, loss (batch)=1.42]\n",
      "[DRE] Training.. Epoch 285/350:  25%|\u001b[34m██▌       \u001b[0m| 15000/60000 [00:00<00:00, 88195.30img/s, loss (batch)=1.37]"
     ]
    },
    {
     "name": "stdout",
     "output_type": "stream",
     "text": [
      "\n",
      "Epoch: 284\n"
     ]
    },
    {
     "name": "stderr",
     "output_type": "stream",
     "text": [
      "[DRE] Training.. Epoch 285/350: 100%|\u001b[34m██████████\u001b[0m| 60000/60000 [00:00<00:00, 86958.44img/s, loss (batch)=1.42]\n",
      "[DRE] Training.. Epoch 286/350:  25%|\u001b[34m██▌       \u001b[0m| 15000/60000 [00:00<00:00, 87504.93img/s, loss (batch)=1.37]"
     ]
    },
    {
     "name": "stdout",
     "output_type": "stream",
     "text": [
      "\n",
      "Epoch: 285\n"
     ]
    },
    {
     "name": "stderr",
     "output_type": "stream",
     "text": [
      "[DRE] Training.. Epoch 286/350: 100%|\u001b[34m██████████\u001b[0m| 60000/60000 [00:00<00:00, 87381.49img/s, loss (batch)=1.41]\n",
      "[DRE] Training.. Epoch 287/350:  25%|\u001b[34m██▌       \u001b[0m| 15000/60000 [00:00<00:00, 88509.65img/s, loss (batch)=1.37]"
     ]
    },
    {
     "name": "stdout",
     "output_type": "stream",
     "text": [
      "\n",
      "Epoch: 286\n"
     ]
    },
    {
     "name": "stderr",
     "output_type": "stream",
     "text": [
      "[DRE] Training.. Epoch 287/350: 100%|\u001b[34m██████████\u001b[0m| 60000/60000 [00:00<00:00, 87469.53img/s, loss (batch)=1.41]\n",
      "[DRE] Training.. Epoch 288/350:  25%|\u001b[34m██▌       \u001b[0m| 15000/60000 [00:00<00:00, 86114.73img/s, loss (batch)=1.38]"
     ]
    },
    {
     "name": "stdout",
     "output_type": "stream",
     "text": [
      "\n",
      "Epoch: 287\n"
     ]
    },
    {
     "name": "stderr",
     "output_type": "stream",
     "text": [
      "[DRE] Training.. Epoch 288/350: 100%|\u001b[34m██████████\u001b[0m| 60000/60000 [00:00<00:00, 86213.06img/s, loss (batch)=1.41]\n",
      "[DRE] Training.. Epoch 289/350:  25%|\u001b[34m██▌       \u001b[0m| 15000/60000 [00:00<00:00, 87344.58img/s, loss (batch)=1.37]"
     ]
    },
    {
     "name": "stdout",
     "output_type": "stream",
     "text": [
      "\n",
      "Epoch: 288\n"
     ]
    },
    {
     "name": "stderr",
     "output_type": "stream",
     "text": [
      "[DRE] Training.. Epoch 289/350: 100%|\u001b[34m██████████\u001b[0m| 60000/60000 [00:00<00:00, 87253.18img/s, loss (batch)=1.41]\n",
      "[DRE] Training.. Epoch 290/350:  25%|\u001b[34m██▌       \u001b[0m| 15000/60000 [00:00<00:00, 89216.78img/s, loss (batch)=1.36]"
     ]
    },
    {
     "name": "stdout",
     "output_type": "stream",
     "text": [
      "\n",
      "Epoch: 289\n"
     ]
    },
    {
     "name": "stderr",
     "output_type": "stream",
     "text": [
      "[DRE] Training.. Epoch 290/350: 100%|\u001b[34m██████████\u001b[0m| 60000/60000 [00:00<00:00, 87449.44img/s, loss (batch)=1.4] \n",
      "[DRE] Validating.. Epoch 290/350: 100%|\u001b[32m██████████\u001b[0m| 60000/60000 [00:00<00:00, 126408.70img/s, loss (batch)=tensor(1.3951, device='cuda:0', dtype=torch.float64)]\n",
      "[DRE] Training.. Epoch 291/350:  25%|\u001b[34m██▌       \u001b[0m| 15000/60000 [00:00<00:00, 89106.66img/s, loss (batch)=1.36]"
     ]
    },
    {
     "name": "stdout",
     "output_type": "stream",
     "text": [
      "[DRE] Best accuracy, saving the weights...\n",
      "\n",
      "Epoch: 290\n"
     ]
    },
    {
     "name": "stderr",
     "output_type": "stream",
     "text": [
      "[DRE] Training.. Epoch 291/350: 100%|\u001b[34m██████████\u001b[0m| 60000/60000 [00:00<00:00, 87070.78img/s, loss (batch)=1.41]\n",
      "[DRE] Training.. Epoch 292/350:  25%|\u001b[34m██▌       \u001b[0m| 15000/60000 [00:00<00:00, 92076.47img/s, loss (batch)=1.36]"
     ]
    },
    {
     "name": "stdout",
     "output_type": "stream",
     "text": [
      "\n",
      "Epoch: 291\n"
     ]
    },
    {
     "name": "stderr",
     "output_type": "stream",
     "text": [
      "[DRE] Training.. Epoch 292/350: 100%|\u001b[34m██████████\u001b[0m| 60000/60000 [00:00<00:00, 88318.30img/s, loss (batch)=1.4] \n",
      "[DRE] Training.. Epoch 293/350:  25%|\u001b[34m██▌       \u001b[0m| 15000/60000 [00:00<00:00, 88385.80img/s, loss (batch)=1.36]"
     ]
    },
    {
     "name": "stdout",
     "output_type": "stream",
     "text": [
      "\n",
      "Epoch: 292\n"
     ]
    },
    {
     "name": "stderr",
     "output_type": "stream",
     "text": [
      "[DRE] Training.. Epoch 293/350: 100%|\u001b[34m██████████\u001b[0m| 60000/60000 [00:00<00:00, 86816.36img/s, loss (batch)=1.41]\n",
      "[DRE] Training.. Epoch 294/350:  25%|\u001b[34m██▌       \u001b[0m| 15000/60000 [00:00<00:00, 89944.18img/s, loss (batch)=1.36]"
     ]
    },
    {
     "name": "stdout",
     "output_type": "stream",
     "text": [
      "\n",
      "Epoch: 293\n"
     ]
    },
    {
     "name": "stderr",
     "output_type": "stream",
     "text": [
      "[DRE] Training.. Epoch 294/350: 100%|\u001b[34m██████████\u001b[0m| 60000/60000 [00:00<00:00, 87917.42img/s, loss (batch)=1.4] \n",
      "[DRE] Training.. Epoch 295/350:  25%|\u001b[34m██▌       \u001b[0m| 15000/60000 [00:00<00:00, 92745.91img/s, loss (batch)=1.36]"
     ]
    },
    {
     "name": "stdout",
     "output_type": "stream",
     "text": [
      "\n",
      "Epoch: 294\n"
     ]
    },
    {
     "name": "stderr",
     "output_type": "stream",
     "text": [
      "[DRE] Training.. Epoch 295/350: 100%|\u001b[34m██████████\u001b[0m| 60000/60000 [00:00<00:00, 88541.66img/s, loss (batch)=1.39]\n",
      "[DRE] Training.. Epoch 296/350:  21%|\u001b[34m██        \u001b[0m| 12500/60000 [00:00<00:00, 85850.86img/s, loss (batch)=1.32]"
     ]
    },
    {
     "name": "stdout",
     "output_type": "stream",
     "text": [
      "\n",
      "Epoch: 295\n"
     ]
    },
    {
     "name": "stderr",
     "output_type": "stream",
     "text": [
      "[DRE] Training.. Epoch 296/350: 100%|\u001b[34m██████████\u001b[0m| 60000/60000 [00:00<00:00, 86503.68img/s, loss (batch)=1.39]\n",
      "[DRE] Training.. Epoch 297/350:  21%|\u001b[34m██        \u001b[0m| 12500/60000 [00:00<00:00, 84836.25img/s, loss (batch)=1.32]"
     ]
    },
    {
     "name": "stdout",
     "output_type": "stream",
     "text": [
      "\n",
      "Epoch: 296\n"
     ]
    },
    {
     "name": "stderr",
     "output_type": "stream",
     "text": [
      "[DRE] Training.. Epoch 297/350: 100%|\u001b[34m██████████\u001b[0m| 60000/60000 [00:00<00:00, 86833.53img/s, loss (batch)=1.39]\n",
      "[DRE] Training.. Epoch 298/350:  25%|\u001b[34m██▌       \u001b[0m| 15000/60000 [00:00<00:00, 90398.38img/s, loss (batch)=1.35]"
     ]
    },
    {
     "name": "stdout",
     "output_type": "stream",
     "text": [
      "\n",
      "Epoch: 297\n"
     ]
    },
    {
     "name": "stderr",
     "output_type": "stream",
     "text": [
      "[DRE] Training.. Epoch 298/350: 100%|\u001b[34m██████████\u001b[0m| 60000/60000 [00:00<00:00, 88618.11img/s, loss (batch)=1.39]\n",
      "[DRE] Training.. Epoch 299/350:  21%|\u001b[34m██        \u001b[0m| 12500/60000 [00:00<00:00, 86084.33img/s, loss (batch)=1.31]"
     ]
    },
    {
     "name": "stdout",
     "output_type": "stream",
     "text": [
      "\n",
      "Epoch: 298\n"
     ]
    },
    {
     "name": "stderr",
     "output_type": "stream",
     "text": [
      "[DRE] Training.. Epoch 299/350: 100%|\u001b[34m██████████\u001b[0m| 60000/60000 [00:00<00:00, 86299.92img/s, loss (batch)=1.4] \n",
      "[DRE] Training.. Epoch 300/350:  21%|\u001b[34m██        \u001b[0m| 12500/60000 [00:00<00:00, 87368.41img/s, loss (batch)=1.32]"
     ]
    },
    {
     "name": "stdout",
     "output_type": "stream",
     "text": [
      "\n",
      "Epoch: 299\n"
     ]
    },
    {
     "name": "stderr",
     "output_type": "stream",
     "text": [
      "[DRE] Training.. Epoch 300/350: 100%|\u001b[34m██████████\u001b[0m| 60000/60000 [00:00<00:00, 88056.65img/s, loss (batch)=1.39]\n",
      "[DRE] Validating.. Epoch 300/350: 100%|\u001b[32m██████████\u001b[0m| 60000/60000 [00:00<00:00, 124707.19img/s, loss (batch)=tensor(1.3769, device='cuda:0', dtype=torch.float64)]\n",
      "[DRE] Training.. Epoch 301/350:  25%|\u001b[34m██▌       \u001b[0m| 15000/60000 [00:00<00:00, 86694.64img/s, loss (batch)=1.35]"
     ]
    },
    {
     "name": "stdout",
     "output_type": "stream",
     "text": [
      "[DRE] Best accuracy, saving the weights...\n",
      "\n",
      "Epoch: 300\n"
     ]
    },
    {
     "name": "stderr",
     "output_type": "stream",
     "text": [
      "[DRE] Training.. Epoch 301/350: 100%|\u001b[34m██████████\u001b[0m| 60000/60000 [00:00<00:00, 87279.57img/s, loss (batch)=1.39]\n",
      "[DRE] Training.. Epoch 302/350:  25%|\u001b[34m██▌       \u001b[0m| 15000/60000 [00:00<00:00, 89016.08img/s, loss (batch)=1.34]"
     ]
    },
    {
     "name": "stdout",
     "output_type": "stream",
     "text": [
      "\n",
      "Epoch: 301\n"
     ]
    },
    {
     "name": "stderr",
     "output_type": "stream",
     "text": [
      "[DRE] Training.. Epoch 302/350: 100%|\u001b[34m██████████\u001b[0m| 60000/60000 [00:00<00:00, 87070.66img/s, loss (batch)=1.38]\n",
      "[DRE] Training.. Epoch 303/350:  25%|\u001b[34m██▌       \u001b[0m| 15000/60000 [00:00<00:00, 89234.06img/s, loss (batch)=1.34]"
     ]
    },
    {
     "name": "stdout",
     "output_type": "stream",
     "text": [
      "\n",
      "Epoch: 302\n"
     ]
    },
    {
     "name": "stderr",
     "output_type": "stream",
     "text": [
      "[DRE] Training.. Epoch 303/350: 100%|\u001b[34m██████████\u001b[0m| 60000/60000 [00:00<00:00, 88601.70img/s, loss (batch)=1.39]\n",
      "[DRE] Training.. Epoch 304/350:  25%|\u001b[34m██▌       \u001b[0m| 15000/60000 [00:00<00:00, 89690.49img/s, loss (batch)=1.34]"
     ]
    },
    {
     "name": "stdout",
     "output_type": "stream",
     "text": [
      "\n",
      "Epoch: 303\n"
     ]
    },
    {
     "name": "stderr",
     "output_type": "stream",
     "text": [
      "[DRE] Training.. Epoch 304/350: 100%|\u001b[34m██████████\u001b[0m| 60000/60000 [00:00<00:00, 87111.62img/s, loss (batch)=1.39]\n",
      "[DRE] Training.. Epoch 305/350:  25%|\u001b[34m██▌       \u001b[0m| 15000/60000 [00:00<00:00, 86529.02img/s, loss (batch)=1.34]"
     ]
    },
    {
     "name": "stdout",
     "output_type": "stream",
     "text": [
      "\n",
      "Epoch: 304\n"
     ]
    },
    {
     "name": "stderr",
     "output_type": "stream",
     "text": [
      "[DRE] Training.. Epoch 305/350: 100%|\u001b[34m██████████\u001b[0m| 60000/60000 [00:00<00:00, 88028.22img/s, loss (batch)=1.38]\n",
      "[DRE] Training.. Epoch 306/350:  25%|\u001b[34m██▌       \u001b[0m| 15000/60000 [00:00<00:00, 89612.69img/s, loss (batch)=1.34]"
     ]
    },
    {
     "name": "stdout",
     "output_type": "stream",
     "text": [
      "\n",
      "Epoch: 305\n"
     ]
    },
    {
     "name": "stderr",
     "output_type": "stream",
     "text": [
      "[DRE] Training.. Epoch 306/350: 100%|\u001b[34m██████████\u001b[0m| 60000/60000 [00:00<00:00, 87935.79img/s, loss (batch)=1.38]\n",
      "[DRE] Training.. Epoch 307/350:  21%|\u001b[34m██        \u001b[0m| 12500/60000 [00:00<00:00, 85463.22img/s, loss (batch)=1.3] "
     ]
    },
    {
     "name": "stdout",
     "output_type": "stream",
     "text": [
      "\n",
      "Epoch: 306\n"
     ]
    },
    {
     "name": "stderr",
     "output_type": "stream",
     "text": [
      "[DRE] Training.. Epoch 307/350: 100%|\u001b[34m██████████\u001b[0m| 60000/60000 [00:00<00:00, 87590.61img/s, loss (batch)=1.38]\n",
      "[DRE] Training.. Epoch 308/350:  25%|\u001b[34m██▌       \u001b[0m| 15000/60000 [00:00<00:00, 89635.48img/s, loss (batch)=1.33]"
     ]
    },
    {
     "name": "stdout",
     "output_type": "stream",
     "text": [
      "\n",
      "Epoch: 307\n"
     ]
    },
    {
     "name": "stderr",
     "output_type": "stream",
     "text": [
      "[DRE] Training.. Epoch 308/350: 100%|\u001b[34m██████████\u001b[0m| 60000/60000 [00:00<00:00, 88219.17img/s, loss (batch)=1.38]\n",
      "[DRE] Training.. Epoch 309/350:  25%|\u001b[34m██▌       \u001b[0m| 15000/60000 [00:00<00:00, 90977.40img/s, loss (batch)=1.33]"
     ]
    },
    {
     "name": "stdout",
     "output_type": "stream",
     "text": [
      "\n",
      "Epoch: 308\n"
     ]
    },
    {
     "name": "stderr",
     "output_type": "stream",
     "text": [
      "[DRE] Training.. Epoch 309/350: 100%|\u001b[34m██████████\u001b[0m| 60000/60000 [00:00<00:00, 87514.61img/s, loss (batch)=1.38]\n",
      "[DRE] Training.. Epoch 310/350:  21%|\u001b[34m██        \u001b[0m| 12500/60000 [00:00<00:00, 86811.99img/s, loss (batch)=1.29]"
     ]
    },
    {
     "name": "stdout",
     "output_type": "stream",
     "text": [
      "\n",
      "Epoch: 309\n"
     ]
    },
    {
     "name": "stderr",
     "output_type": "stream",
     "text": [
      "[DRE] Training.. Epoch 310/350: 100%|\u001b[34m██████████\u001b[0m| 60000/60000 [00:00<00:00, 86953.39img/s, loss (batch)=1.37]\n",
      "[DRE] Validating.. Epoch 310/350: 100%|\u001b[32m██████████\u001b[0m| 60000/60000 [00:00<00:00, 126789.93img/s, loss (batch)=tensor(1.3672, device='cuda:0', dtype=torch.float64)]\n",
      "[DRE] Training.. Epoch 311/350:  25%|\u001b[34m██▌       \u001b[0m| 15000/60000 [00:00<00:00, 90371.70img/s, loss (batch)=1.33]"
     ]
    },
    {
     "name": "stdout",
     "output_type": "stream",
     "text": [
      "[DRE] Best accuracy, saving the weights...\n",
      "\n",
      "Epoch: 310\n"
     ]
    },
    {
     "name": "stderr",
     "output_type": "stream",
     "text": [
      "[DRE] Training.. Epoch 311/350: 100%|\u001b[34m██████████\u001b[0m| 60000/60000 [00:00<00:00, 88517.62img/s, loss (batch)=1.37]\n",
      "[DRE] Training.. Epoch 312/350:  25%|\u001b[34m██▌       \u001b[0m| 15000/60000 [00:00<00:00, 88344.29img/s, loss (batch)=1.33]"
     ]
    },
    {
     "name": "stdout",
     "output_type": "stream",
     "text": [
      "\n",
      "Epoch: 311\n"
     ]
    },
    {
     "name": "stderr",
     "output_type": "stream",
     "text": [
      "[DRE] Training.. Epoch 312/350: 100%|\u001b[34m██████████\u001b[0m| 60000/60000 [00:00<00:00, 87415.81img/s, loss (batch)=1.37]\n",
      "[DRE] Training.. Epoch 313/350:  25%|\u001b[34m██▌       \u001b[0m| 15000/60000 [00:00<00:00, 89311.77img/s, loss (batch)=1.33]"
     ]
    },
    {
     "name": "stdout",
     "output_type": "stream",
     "text": [
      "\n",
      "Epoch: 312\n"
     ]
    },
    {
     "name": "stderr",
     "output_type": "stream",
     "text": [
      "[DRE] Training.. Epoch 313/350: 100%|\u001b[34m██████████\u001b[0m| 60000/60000 [00:00<00:00, 87599.27img/s, loss (batch)=1.37]\n",
      "[DRE] Training.. Epoch 314/350:  25%|\u001b[34m██▌       \u001b[0m| 15000/60000 [00:00<00:00, 88265.09img/s, loss (batch)=1.34]"
     ]
    },
    {
     "name": "stdout",
     "output_type": "stream",
     "text": [
      "\n",
      "Epoch: 313\n"
     ]
    },
    {
     "name": "stderr",
     "output_type": "stream",
     "text": [
      "[DRE] Training.. Epoch 314/350: 100%|\u001b[34m██████████\u001b[0m| 60000/60000 [00:00<00:00, 88001.01img/s, loss (batch)=1.37]\n",
      "[DRE] Training.. Epoch 315/350:  21%|\u001b[34m██        \u001b[0m| 12500/60000 [00:00<00:00, 86713.10img/s, loss (batch)=1.29]"
     ]
    },
    {
     "name": "stdout",
     "output_type": "stream",
     "text": [
      "\n",
      "Epoch: 314\n"
     ]
    },
    {
     "name": "stderr",
     "output_type": "stream",
     "text": [
      "[DRE] Training.. Epoch 315/350: 100%|\u001b[34m██████████\u001b[0m| 60000/60000 [00:00<00:00, 86944.71img/s, loss (batch)=1.38]\n",
      "[DRE] Training.. Epoch 316/350:  25%|\u001b[34m██▌       \u001b[0m| 15000/60000 [00:00<00:00, 88693.07img/s, loss (batch)=1.32]"
     ]
    },
    {
     "name": "stdout",
     "output_type": "stream",
     "text": [
      "\n",
      "Epoch: 315\n"
     ]
    },
    {
     "name": "stderr",
     "output_type": "stream",
     "text": [
      "[DRE] Training.. Epoch 316/350: 100%|\u001b[34m██████████\u001b[0m| 60000/60000 [00:00<00:00, 87971.91img/s, loss (batch)=1.37]\n",
      "[DRE] Training.. Epoch 317/350:  25%|\u001b[34m██▌       \u001b[0m| 15000/60000 [00:00<00:00, 89516.11img/s, loss (batch)=1.33]"
     ]
    },
    {
     "name": "stdout",
     "output_type": "stream",
     "text": [
      "\n",
      "Epoch: 316\n"
     ]
    },
    {
     "name": "stderr",
     "output_type": "stream",
     "text": [
      "[DRE] Training.. Epoch 317/350: 100%|\u001b[34m██████████\u001b[0m| 60000/60000 [00:00<00:00, 87435.19img/s, loss (batch)=1.37]\n",
      "[DRE] Training.. Epoch 318/350:  25%|\u001b[34m██▌       \u001b[0m| 15000/60000 [00:00<00:00, 89046.31img/s, loss (batch)=1.32]"
     ]
    },
    {
     "name": "stdout",
     "output_type": "stream",
     "text": [
      "\n",
      "Epoch: 317\n"
     ]
    },
    {
     "name": "stderr",
     "output_type": "stream",
     "text": [
      "[DRE] Training.. Epoch 318/350: 100%|\u001b[34m██████████\u001b[0m| 60000/60000 [00:00<00:00, 87770.54img/s, loss (batch)=1.36]\n",
      "[DRE] Training.. Epoch 319/350:  25%|\u001b[34m██▌       \u001b[0m| 15000/60000 [00:00<00:00, 85608.70img/s, loss (batch)=1.32]"
     ]
    },
    {
     "name": "stdout",
     "output_type": "stream",
     "text": [
      "\n",
      "Epoch: 318\n"
     ]
    },
    {
     "name": "stderr",
     "output_type": "stream",
     "text": [
      "[DRE] Training.. Epoch 319/350: 100%|\u001b[34m██████████\u001b[0m| 60000/60000 [00:00<00:00, 88175.56img/s, loss (batch)=1.37]\n",
      "[DRE] Training.. Epoch 320/350:  25%|\u001b[34m██▌       \u001b[0m| 15000/60000 [00:00<00:00, 88385.80img/s, loss (batch)=1.33]"
     ]
    },
    {
     "name": "stdout",
     "output_type": "stream",
     "text": [
      "\n",
      "Epoch: 319\n"
     ]
    },
    {
     "name": "stderr",
     "output_type": "stream",
     "text": [
      "[DRE] Training.. Epoch 320/350: 100%|\u001b[34m██████████\u001b[0m| 60000/60000 [00:00<00:00, 87197.88img/s, loss (batch)=1.36]\n",
      "[DRE] Validating.. Epoch 320/350: 100%|\u001b[32m██████████\u001b[0m| 60000/60000 [00:00<00:00, 124205.32img/s, loss (batch)=tensor(1.3616, device='cuda:0', dtype=torch.float64)]\n",
      "[DRE] Training.. Epoch 321/350:  21%|\u001b[34m██        \u001b[0m| 12500/60000 [00:00<00:00, 87787.72img/s, loss (batch)=1.28]"
     ]
    },
    {
     "name": "stdout",
     "output_type": "stream",
     "text": [
      "[DRE] Best accuracy, saving the weights...\n",
      "\n",
      "Epoch: 320\n"
     ]
    },
    {
     "name": "stderr",
     "output_type": "stream",
     "text": [
      "[DRE] Training.. Epoch 321/350: 100%|\u001b[34m██████████\u001b[0m| 60000/60000 [00:00<00:00, 87265.77img/s, loss (batch)=1.36]\n",
      "[DRE] Training.. Epoch 322/350:  25%|\u001b[34m██▌       \u001b[0m| 15000/60000 [00:00<00:00, 87462.97img/s, loss (batch)=1.33]"
     ]
    },
    {
     "name": "stdout",
     "output_type": "stream",
     "text": [
      "\n",
      "Epoch: 321\n"
     ]
    },
    {
     "name": "stderr",
     "output_type": "stream",
     "text": [
      "[DRE] Training.. Epoch 322/350: 100%|\u001b[34m██████████\u001b[0m| 60000/60000 [00:00<00:00, 88008.76img/s, loss (batch)=1.36]\n",
      "[DRE] Training.. Epoch 323/350:  21%|\u001b[34m██        \u001b[0m| 12500/60000 [00:00<00:00, 83981.31img/s, loss (batch)=1.29]"
     ]
    },
    {
     "name": "stdout",
     "output_type": "stream",
     "text": [
      "\n",
      "Epoch: 322\n"
     ]
    },
    {
     "name": "stderr",
     "output_type": "stream",
     "text": [
      "[DRE] Training.. Epoch 323/350: 100%|\u001b[34m██████████\u001b[0m| 60000/60000 [00:00<00:00, 86450.37img/s, loss (batch)=1.36]\n",
      "[DRE] Training.. Epoch 324/350:  21%|\u001b[34m██        \u001b[0m| 12500/60000 [00:00<00:00, 85869.67img/s, loss (batch)=1.28]"
     ]
    },
    {
     "name": "stdout",
     "output_type": "stream",
     "text": [
      "\n",
      "Epoch: 323\n"
     ]
    },
    {
     "name": "stderr",
     "output_type": "stream",
     "text": [
      "[DRE] Training.. Epoch 324/350: 100%|\u001b[34m██████████\u001b[0m| 60000/60000 [00:00<00:00, 86478.30img/s, loss (batch)=1.36]\n",
      "[DRE] Training.. Epoch 325/350:  25%|\u001b[34m██▌       \u001b[0m| 15000/60000 [00:00<00:00, 89016.27img/s, loss (batch)=1.32]"
     ]
    },
    {
     "name": "stdout",
     "output_type": "stream",
     "text": [
      "\n",
      "Epoch: 324\n"
     ]
    },
    {
     "name": "stderr",
     "output_type": "stream",
     "text": [
      "[DRE] Training.. Epoch 325/350: 100%|\u001b[34m██████████\u001b[0m| 60000/60000 [00:00<00:00, 87550.69img/s, loss (batch)=1.36]\n",
      "[DRE] Training.. Epoch 326/350:  21%|\u001b[34m██        \u001b[0m| 12500/60000 [00:00<00:00, 84677.99img/s, loss (batch)=1.28]"
     ]
    },
    {
     "name": "stdout",
     "output_type": "stream",
     "text": [
      "\n",
      "Epoch: 325\n"
     ]
    },
    {
     "name": "stderr",
     "output_type": "stream",
     "text": [
      "[DRE] Training.. Epoch 326/350: 100%|\u001b[34m██████████\u001b[0m| 60000/60000 [00:00<00:00, 86426.80img/s, loss (batch)=1.36]\n",
      "[DRE] Training.. Epoch 327/350:  21%|\u001b[34m██        \u001b[0m| 12500/60000 [00:00<00:00, 85274.35img/s, loss (batch)=1.28]"
     ]
    },
    {
     "name": "stdout",
     "output_type": "stream",
     "text": [
      "\n",
      "Epoch: 326\n"
     ]
    },
    {
     "name": "stderr",
     "output_type": "stream",
     "text": [
      "[DRE] Training.. Epoch 327/350: 100%|\u001b[34m██████████\u001b[0m| 60000/60000 [00:00<00:00, 87483.25img/s, loss (batch)=1.36]\n",
      "[DRE] Training.. Epoch 328/350:  25%|\u001b[34m██▌       \u001b[0m| 15000/60000 [00:00<00:00, 90800.54img/s, loss (batch)=1.32]"
     ]
    },
    {
     "name": "stdout",
     "output_type": "stream",
     "text": [
      "\n",
      "Epoch: 327\n"
     ]
    },
    {
     "name": "stderr",
     "output_type": "stream",
     "text": [
      "[DRE] Training.. Epoch 328/350: 100%|\u001b[34m██████████\u001b[0m| 60000/60000 [00:00<00:00, 88046.51img/s, loss (batch)=1.36]\n",
      "[DRE] Training.. Epoch 329/350:  21%|\u001b[34m██        \u001b[0m| 12500/60000 [00:00<00:00, 85569.05img/s, loss (batch)=1.28]"
     ]
    },
    {
     "name": "stdout",
     "output_type": "stream",
     "text": [
      "\n",
      "Epoch: 328\n"
     ]
    },
    {
     "name": "stderr",
     "output_type": "stream",
     "text": [
      "[DRE] Training.. Epoch 329/350: 100%|\u001b[34m██████████\u001b[0m| 60000/60000 [00:00<00:00, 86733.33img/s, loss (batch)=1.37]\n",
      "[DRE] Training.. Epoch 330/350:  21%|\u001b[34m██        \u001b[0m| 12500/60000 [00:00<00:00, 87556.45img/s, loss (batch)=1.29]"
     ]
    },
    {
     "name": "stdout",
     "output_type": "stream",
     "text": [
      "\n",
      "Epoch: 329\n"
     ]
    },
    {
     "name": "stderr",
     "output_type": "stream",
     "text": [
      "[DRE] Training.. Epoch 330/350: 100%|\u001b[34m██████████\u001b[0m| 60000/60000 [00:00<00:00, 87818.11img/s, loss (batch)=1.36]\n",
      "[DRE] Validating.. Epoch 330/350: 100%|\u001b[32m██████████\u001b[0m| 60000/60000 [00:00<00:00, 125894.02img/s, loss (batch)=tensor(1.3528, device='cuda:0', dtype=torch.float64)]\n",
      "[DRE] Training.. Epoch 331/350:  21%|\u001b[34m██        \u001b[0m| 12500/60000 [00:00<00:00, 87836.44img/s, loss (batch)=1.28]"
     ]
    },
    {
     "name": "stdout",
     "output_type": "stream",
     "text": [
      "[DRE] Best accuracy, saving the weights...\n",
      "\n",
      "Epoch: 330\n"
     ]
    },
    {
     "name": "stderr",
     "output_type": "stream",
     "text": [
      "[DRE] Training.. Epoch 331/350: 100%|\u001b[34m██████████\u001b[0m| 60000/60000 [00:00<00:00, 86647.98img/s, loss (batch)=1.36]\n",
      "[DRE] Training.. Epoch 332/350:  21%|\u001b[34m██        \u001b[0m| 12500/60000 [00:00<00:00, 86036.65img/s, loss (batch)=1.28]"
     ]
    },
    {
     "name": "stdout",
     "output_type": "stream",
     "text": [
      "\n",
      "Epoch: 331\n"
     ]
    },
    {
     "name": "stderr",
     "output_type": "stream",
     "text": [
      "[DRE] Training.. Epoch 332/350: 100%|\u001b[34m██████████\u001b[0m| 60000/60000 [00:00<00:00, 87520.18img/s, loss (batch)=1.39]\n",
      "[DRE] Training.. Epoch 333/350:  25%|\u001b[34m██▌       \u001b[0m| 15000/60000 [00:00<00:00, 90394.68img/s, loss (batch)=1.34]"
     ]
    },
    {
     "name": "stdout",
     "output_type": "stream",
     "text": [
      "\n",
      "Epoch: 332\n"
     ]
    },
    {
     "name": "stderr",
     "output_type": "stream",
     "text": [
      "[DRE] Training.. Epoch 333/350: 100%|\u001b[34m██████████\u001b[0m| 60000/60000 [00:00<00:00, 88400.86img/s, loss (batch)=1.36]\n",
      "[DRE] Training.. Epoch 334/350:  25%|\u001b[34m██▌       \u001b[0m| 15000/60000 [00:00<00:00, 89602.73img/s, loss (batch)=1.32]"
     ]
    },
    {
     "name": "stdout",
     "output_type": "stream",
     "text": [
      "\n",
      "Epoch: 333\n"
     ]
    },
    {
     "name": "stderr",
     "output_type": "stream",
     "text": [
      "[DRE] Training.. Epoch 334/350: 100%|\u001b[34m██████████\u001b[0m| 60000/60000 [00:00<00:00, 87456.73img/s, loss (batch)=1.37]\n",
      "[DRE] Training.. Epoch 335/350:  21%|\u001b[34m██        \u001b[0m| 12500/60000 [00:00<00:00, 85932.83img/s, loss (batch)=1.28]"
     ]
    },
    {
     "name": "stdout",
     "output_type": "stream",
     "text": [
      "\n",
      "Epoch: 334\n"
     ]
    },
    {
     "name": "stderr",
     "output_type": "stream",
     "text": [
      "[DRE] Training.. Epoch 335/350: 100%|\u001b[34m██████████\u001b[0m| 60000/60000 [00:00<00:00, 87369.71img/s, loss (batch)=1.36]\n",
      "[DRE] Training.. Epoch 336/350:  25%|\u001b[34m██▌       \u001b[0m| 15000/60000 [00:00<00:00, 92573.35img/s, loss (batch)=1.33]"
     ]
    },
    {
     "name": "stdout",
     "output_type": "stream",
     "text": [
      "\n",
      "Epoch: 335\n"
     ]
    },
    {
     "name": "stderr",
     "output_type": "stream",
     "text": [
      "[DRE] Training.. Epoch 336/350: 100%|\u001b[34m██████████\u001b[0m| 60000/60000 [00:00<00:00, 88495.67img/s, loss (batch)=1.36]\n",
      "[DRE] Training.. Epoch 337/350:  25%|\u001b[34m██▌       \u001b[0m| 15000/60000 [00:00<00:00, 88689.69img/s, loss (batch)=1.31]"
     ]
    },
    {
     "name": "stdout",
     "output_type": "stream",
     "text": [
      "\n",
      "Epoch: 336\n"
     ]
    },
    {
     "name": "stderr",
     "output_type": "stream",
     "text": [
      "[DRE] Training.. Epoch 337/350: 100%|\u001b[34m██████████\u001b[0m| 60000/60000 [00:00<00:00, 88020.98img/s, loss (batch)=1.35]\n",
      "[DRE] Training.. Epoch 338/350:  21%|\u001b[34m██        \u001b[0m| 12500/60000 [00:00<00:00, 86549.56img/s, loss (batch)=1.27]"
     ]
    },
    {
     "name": "stdout",
     "output_type": "stream",
     "text": [
      "\n",
      "Epoch: 337\n"
     ]
    },
    {
     "name": "stderr",
     "output_type": "stream",
     "text": [
      "[DRE] Training.. Epoch 338/350: 100%|\u001b[34m██████████\u001b[0m| 60000/60000 [00:00<00:00, 87231.37img/s, loss (batch)=1.35]\n",
      "[DRE] Training.. Epoch 339/350:  25%|\u001b[34m██▌       \u001b[0m| 15000/60000 [00:00<00:00, 89180.74img/s, loss (batch)=1.31]"
     ]
    },
    {
     "name": "stdout",
     "output_type": "stream",
     "text": [
      "\n",
      "Epoch: 338\n"
     ]
    },
    {
     "name": "stderr",
     "output_type": "stream",
     "text": [
      "[DRE] Training.. Epoch 339/350: 100%|\u001b[34m██████████\u001b[0m| 60000/60000 [00:00<00:00, 87238.81img/s, loss (batch)=1.35]\n",
      "[DRE] Training.. Epoch 340/350:  21%|\u001b[34m██        \u001b[0m| 12500/60000 [00:00<00:00, 86626.78img/s, loss (batch)=1.27]"
     ]
    },
    {
     "name": "stdout",
     "output_type": "stream",
     "text": [
      "\n",
      "Epoch: 339\n"
     ]
    },
    {
     "name": "stderr",
     "output_type": "stream",
     "text": [
      "[DRE] Training.. Epoch 340/350: 100%|\u001b[34m██████████\u001b[0m| 60000/60000 [00:00<00:00, 87081.60img/s, loss (batch)=1.35]\n",
      "[DRE] Validating.. Epoch 340/350: 100%|\u001b[32m██████████\u001b[0m| 60000/60000 [00:00<00:00, 125228.15img/s, loss (batch)=tensor(1.3460, device='cuda:0', dtype=torch.float64)]\n",
      "[DRE] Training.. Epoch 341/350:  25%|\u001b[34m██▌       \u001b[0m| 15000/60000 [00:00<00:00, 90868.61img/s, loss (batch)=1.3] "
     ]
    },
    {
     "name": "stdout",
     "output_type": "stream",
     "text": [
      "[DRE] Best accuracy, saving the weights...\n",
      "\n",
      "Epoch: 340\n"
     ]
    },
    {
     "name": "stderr",
     "output_type": "stream",
     "text": [
      "[DRE] Training.. Epoch 341/350: 100%|\u001b[34m██████████\u001b[0m| 60000/60000 [00:00<00:00, 87012.08img/s, loss (batch)=1.35]\n",
      "[DRE] Training.. Epoch 342/350:  25%|\u001b[34m██▌       \u001b[0m| 15000/60000 [00:00<00:00, 88206.25img/s, loss (batch)=1.31]"
     ]
    },
    {
     "name": "stdout",
     "output_type": "stream",
     "text": [
      "\n",
      "Epoch: 341\n"
     ]
    },
    {
     "name": "stderr",
     "output_type": "stream",
     "text": [
      "[DRE] Training.. Epoch 342/350: 100%|\u001b[34m██████████\u001b[0m| 60000/60000 [00:00<00:00, 87390.80img/s, loss (batch)=1.35]\n",
      "[DRE] Training.. Epoch 343/350:  21%|\u001b[34m██        \u001b[0m| 12500/60000 [00:00<00:00, 86201.10img/s, loss (batch)=1.27]"
     ]
    },
    {
     "name": "stdout",
     "output_type": "stream",
     "text": [
      "\n",
      "Epoch: 342\n"
     ]
    },
    {
     "name": "stderr",
     "output_type": "stream",
     "text": [
      "[DRE] Training.. Epoch 343/350: 100%|\u001b[34m██████████\u001b[0m| 60000/60000 [00:00<00:00, 87160.77img/s, loss (batch)=1.35]\n",
      "[DRE] Training.. Epoch 344/350:  25%|\u001b[34m██▌       \u001b[0m| 15000/60000 [00:00<00:00, 87543.65img/s, loss (batch)=1.31]"
     ]
    },
    {
     "name": "stdout",
     "output_type": "stream",
     "text": [
      "\n",
      "Epoch: 343\n"
     ]
    },
    {
     "name": "stderr",
     "output_type": "stream",
     "text": [
      "[DRE] Training.. Epoch 344/350: 100%|\u001b[34m██████████\u001b[0m| 60000/60000 [00:00<00:00, 87774.95img/s, loss (batch)=1.35]\n",
      "[DRE] Training.. Epoch 345/350:  21%|\u001b[34m██        \u001b[0m| 12500/60000 [00:00<00:00, 84250.55img/s, loss (batch)=1.27]"
     ]
    },
    {
     "name": "stdout",
     "output_type": "stream",
     "text": [
      "\n",
      "Epoch: 344\n"
     ]
    },
    {
     "name": "stderr",
     "output_type": "stream",
     "text": [
      "[DRE] Training.. Epoch 345/350: 100%|\u001b[34m██████████\u001b[0m| 60000/60000 [00:00<00:00, 86801.63img/s, loss (batch)=1.35]\n",
      "[DRE] Training.. Epoch 346/350:  21%|\u001b[34m██        \u001b[0m| 12500/60000 [00:00<00:00, 85046.45img/s, loss (batch)=1.27]"
     ]
    },
    {
     "name": "stdout",
     "output_type": "stream",
     "text": [
      "\n",
      "Epoch: 345\n"
     ]
    },
    {
     "name": "stderr",
     "output_type": "stream",
     "text": [
      "[DRE] Training.. Epoch 346/350: 100%|\u001b[34m██████████\u001b[0m| 60000/60000 [00:00<00:00, 87185.02img/s, loss (batch)=1.36]\n",
      "[DRE] Training.. Epoch 347/350:  21%|\u001b[34m██        \u001b[0m| 12500/60000 [00:00<00:00, 89044.61img/s, loss (batch)=1.28]"
     ]
    },
    {
     "name": "stdout",
     "output_type": "stream",
     "text": [
      "\n",
      "Epoch: 346\n"
     ]
    },
    {
     "name": "stderr",
     "output_type": "stream",
     "text": [
      "[DRE] Training.. Epoch 347/350: 100%|\u001b[34m██████████\u001b[0m| 60000/60000 [00:00<00:00, 87395.63img/s, loss (batch)=1.36]\n",
      "[DRE] Training.. Epoch 348/350:  21%|\u001b[34m██        \u001b[0m| 12500/60000 [00:00<00:00, 85519.33img/s, loss (batch)=1.27]"
     ]
    },
    {
     "name": "stdout",
     "output_type": "stream",
     "text": [
      "\n",
      "Epoch: 347\n"
     ]
    },
    {
     "name": "stderr",
     "output_type": "stream",
     "text": [
      "[DRE] Training.. Epoch 348/350: 100%|\u001b[34m██████████\u001b[0m| 60000/60000 [00:00<00:00, 86217.69img/s, loss (batch)=1.36]\n",
      "[DRE] Training.. Epoch 349/350:  21%|\u001b[34m██        \u001b[0m| 12500/60000 [00:00<00:00, 87349.85img/s, loss (batch)=1.27]"
     ]
    },
    {
     "name": "stdout",
     "output_type": "stream",
     "text": [
      "\n",
      "Epoch: 348\n"
     ]
    },
    {
     "name": "stderr",
     "output_type": "stream",
     "text": [
      "[DRE] Training.. Epoch 349/350: 100%|\u001b[34m██████████\u001b[0m| 60000/60000 [00:00<00:00, 87908.69img/s, loss (batch)=1.35]\n",
      "[DRE] Training.. Epoch 350/350:  25%|\u001b[34m██▌       \u001b[0m| 15000/60000 [00:00<00:00, 89012.68img/s, loss (batch)=1.31]"
     ]
    },
    {
     "name": "stdout",
     "output_type": "stream",
     "text": [
      "\n",
      "Epoch: 349\n"
     ]
    },
    {
     "name": "stderr",
     "output_type": "stream",
     "text": [
      "[DRE] Training.. Epoch 350/350: 100%|\u001b[34m██████████\u001b[0m| 60000/60000 [00:00<00:00, 87326.39img/s, loss (batch)=1.34]\n",
      "[DRE] Validating.. Epoch 350/350: 100%|\u001b[32m██████████\u001b[0m| 60000/60000 [00:00<00:00, 125230.71img/s, loss (batch)=tensor(1.3291, device='cuda:0', dtype=torch.float64)]\n"
     ]
    },
    {
     "name": "stdout",
     "output_type": "stream",
     "text": [
      "[DRE] Best accuracy, saving the weights...\n",
      "[DRE] training time:  413.2618248462677\n",
      "[DRE] ------->complete.  time:  Thu Oct 21 15:44:35 2021\n",
      "fitting time: 413.3598864078522s\n"
     ]
    }
   ],
   "source": [
    "# Deep Recursive Embedding test code using MNIST/Fashion-MNIST datasets loaded with torchvision\n",
    "\n",
    "transform_train = transforms.Compose([\n",
    "    transforms.ToTensor(),\n",
    "])\n",
    "x_train = torchvision.datasets.MNIST(root='./datasets', train=True, transform=transform_train,\n",
    "                                     download=True)\n",
    "x_train_targets = np.int16(x_train.targets)\n",
    "x_train = np.array(x_train.data).astype('float32')  # useful for GPU accelerating\n",
    "x_train = x_train.reshape(x_train.shape[0], -1)\n",
    "\n",
    "dre = DeepRecursiveEmbedding(n_pre_epochs=100,\n",
    "                             num_recursive_tsne_epochs=50,\n",
    "                             num_recursive_umap_epochs=100,\n",
    "                             learning_rate=1e-3,\n",
    "                             batch_size=2500,\n",
    "                             random_shuffle=False,  # for plotting with labels, set to 'False'\n",
    "                             directory='./',\n",
    "                             )\n",
    "# dre.labels = x_train_targets\n",
    "\n",
    "y = dre.fit_transform(x_train)"
   ]
  },
  {
   "cell_type": "code",
   "execution_count": 3,
   "id": "bd26752f",
   "metadata": {},
   "outputs": [
    {
     "data": {
      "image/png": "[encoded data removed]",
      "text/plain": [
       "<Figure size 720x720 with 1 Axes>"
      ]
     },
     "metadata": {},
     "output_type": "display_data"
    }
   ],
   "source": [
    "# Plot the result:\n",
    "labels = x_train_targets\n",
    "colors = ['darkorange', 'deepskyblue', 'gold', 'lime', 'k', 'darkviolet', 'peru', 'olive',\n",
    "               'midnightblue',\n",
    "               'palevioletred']\n",
    "cmap = matplotlib.colors.ListedColormap(colors[::-1])\n",
    "fig = plt.figure(figsize=(10, 10))\n",
    "fig.patch.set_facecolor('#303030')\n",
    "scatter = plt.scatter(y[:, 0], y[:, 1], s=0.1, cmap=cmap, c=labels, alpha=0.5)\n",
    "legend1 = plt.legend(*scatter.legend_elements(), title=\"Classes\", loc='upper right')\n",
    "plt.axis('equal')\n",
    "plt.axis(\"off\")\n",
    "plt.show()"
   ]
  },
  {
   "cell_type": "code",
   "execution_count": 4,
   "id": "1a45d539",
   "metadata": {},
   "outputs": [],
   "source": [
    "# Save the model (default selected dir: ./):\n",
    "dre.save_model(save_dir='./')  # The model is saved in '<selected dir>/DRE_model_checkpoint/'\n"
   ]
  }
 ],
 "metadata": {
  "kernelspec": {
   "display_name": "Python 3",
   "language": "python",
   "name": "python3"
  },
  "language_info": {
   "codemirror_mode": {
    "name": "ipython",
    "version": 3
   },
   "file_extension": ".py",
   "mimetype": "text/x-python",
   "name": "python",
   "nbconvert_exporter": "python",
   "pygments_lexer": "ipython3",
   "version": "3.7.10"
  }
 },
 "nbformat": 4,
 "nbformat_minor": 5
}
